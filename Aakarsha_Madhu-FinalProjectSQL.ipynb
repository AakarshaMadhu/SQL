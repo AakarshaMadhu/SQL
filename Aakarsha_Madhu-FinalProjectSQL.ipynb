{
    "metadata": {
        "kernelspec": {
            "name": "SQL",
            "display_name": "SQL",
            "language": "sql"
        },
        "language_info": {
            "name": "sql",
            "version": ""
        }
    },
    "nbformat_minor": 2,
    "nbformat": 4,
    "cells": [
        {
            "cell_type": "markdown",
            "source": [
                "# Final Project - 25 SQL Tips and Tricks"
            ],
            "metadata": {
                "azdata_cell_guid": "50a1867a-cfbc-485e-958b-a6a812d49d2c"
            },
            "attachments": {}
        },
        {
            "cell_type": "markdown",
            "source": [
                "### **1. <span style=\"font-size: 14px; color: var(--vscode-foreground);\">Using TOP to Return Minimal Rows</span>**\n",
                "\n",
                "- **Use Case**: Returning top 5 most expensive products.\n",
                "- **Explanation**: Limits the result set to a specified number of rows."
            ],
            "metadata": {
                "azdata_cell_guid": "66c1cd16-ab2c-4c2d-bac8-e1c58463ba50"
            },
            "attachments": {}
        },
        {
            "cell_type": "code",
            "source": [
                "SELECT TOP 5 ProductName, UnitPrice\r\n",
                "FROM dbo.Products\r\n",
                "ORDER BY UnitPrice DESC;"
            ],
            "metadata": {
                "azdata_cell_guid": "e6faf814-2566-4f84-8937-9466d82fe3ba",
                "language": "sql"
            },
            "outputs": [
                {
                    "output_type": "display_data",
                    "data": {
                        "text/html": "(5 rows affected)"
                    },
                    "metadata": {}
                },
                {
                    "output_type": "display_data",
                    "data": {
                        "text/html": "Total execution time: 00:00:00.014"
                    },
                    "metadata": {}
                },
                {
                    "output_type": "execute_result",
                    "metadata": {},
                    "execution_count": 1,
                    "data": {
                        "application/vnd.dataresource+json": {
                            "schema": {
                                "fields": [
                                    {
                                        "name": "ProductName"
                                    },
                                    {
                                        "name": "UnitPrice"
                                    }
                                ]
                            },
                            "data": [
                                {
                                    "ProductName": "Côte de Blaye",
                                    "UnitPrice": "263.50"
                                },
                                {
                                    "ProductName": "Thüringer Rostbratwurst",
                                    "UnitPrice": "123.79"
                                },
                                {
                                    "ProductName": "Mishi Kobe Niku",
                                    "UnitPrice": "97.00"
                                },
                                {
                                    "ProductName": "Sir Rodney's Marmalade",
                                    "UnitPrice": "81.00"
                                },
                                {
                                    "ProductName": "Carnarvon Tigers",
                                    "UnitPrice": "62.50"
                                }
                            ]
                        },
                        "text/html": [
                            "<table>",
                            "<tr><th>ProductName</th><th>UnitPrice</th></tr>",
                            "<tr><td>Côte de Blaye</td><td>263.50</td></tr>",
                            "<tr><td>Thüringer Rostbratwurst</td><td>123.79</td></tr>",
                            "<tr><td>Mishi Kobe Niku</td><td>97.00</td></tr>",
                            "<tr><td>Sir Rodney&#39;s Marmalade</td><td>81.00</td></tr>",
                            "<tr><td>Carnarvon Tigers</td><td>62.50</td></tr>",
                            "</table>"
                        ]
                    }
                }
            ],
            "execution_count": 1
        },
        {
            "cell_type": "markdown",
            "source": [
                "### **2\\. Use DISTINCT to Remove Duplicates**\n",
                "\n",
                "- **Use Case**: Getting distinct countries from the Customers table.\n",
                "- **Explanation**: DISTINCT removes duplicate rows from the result set."
            ],
            "metadata": {
                "azdata_cell_guid": "72015366-b352-4899-9bc7-f8fae5d07636"
            },
            "attachments": {}
        },
        {
            "cell_type": "code",
            "source": [
                "SELECT DISTINCT Country\r\n",
                "FROM dbo.Customers;"
            ],
            "metadata": {
                "azdata_cell_guid": "fc22f2da-52ea-4f31-9a4f-f19b4ba58394",
                "language": "sql"
            },
            "outputs": [
                {
                    "output_type": "display_data",
                    "data": {
                        "text/html": "(21 rows affected)"
                    },
                    "metadata": {}
                },
                {
                    "output_type": "display_data",
                    "data": {
                        "text/html": "Total execution time: 00:00:00.016"
                    },
                    "metadata": {}
                },
                {
                    "output_type": "execute_result",
                    "metadata": {},
                    "execution_count": 2,
                    "data": {
                        "application/vnd.dataresource+json": {
                            "schema": {
                                "fields": [
                                    {
                                        "name": "Country"
                                    }
                                ]
                            },
                            "data": [
                                {
                                    "Country": "Argentina"
                                },
                                {
                                    "Country": "Austria"
                                },
                                {
                                    "Country": "Belgium"
                                },
                                {
                                    "Country": "Brazil"
                                },
                                {
                                    "Country": "Canada"
                                },
                                {
                                    "Country": "Denmark"
                                },
                                {
                                    "Country": "Finland"
                                },
                                {
                                    "Country": "France"
                                },
                                {
                                    "Country": "Germany"
                                },
                                {
                                    "Country": "Ireland"
                                },
                                {
                                    "Country": "Italy"
                                },
                                {
                                    "Country": "Mexico"
                                },
                                {
                                    "Country": "Norway"
                                },
                                {
                                    "Country": "Poland"
                                },
                                {
                                    "Country": "Portugal"
                                },
                                {
                                    "Country": "Spain"
                                },
                                {
                                    "Country": "Sweden"
                                },
                                {
                                    "Country": "Switzerland"
                                },
                                {
                                    "Country": "UK"
                                },
                                {
                                    "Country": "USA"
                                },
                                {
                                    "Country": "Venezuela"
                                }
                            ]
                        },
                        "text/html": [
                            "<table>",
                            "<tr><th>Country</th></tr>",
                            "<tr><td>Argentina</td></tr>",
                            "<tr><td>Austria</td></tr>",
                            "<tr><td>Belgium</td></tr>",
                            "<tr><td>Brazil</td></tr>",
                            "<tr><td>Canada</td></tr>",
                            "<tr><td>Denmark</td></tr>",
                            "<tr><td>Finland</td></tr>",
                            "<tr><td>France</td></tr>",
                            "<tr><td>Germany</td></tr>",
                            "<tr><td>Ireland</td></tr>",
                            "<tr><td>Italy</td></tr>",
                            "<tr><td>Mexico</td></tr>",
                            "<tr><td>Norway</td></tr>",
                            "<tr><td>Poland</td></tr>",
                            "<tr><td>Portugal</td></tr>",
                            "<tr><td>Spain</td></tr>",
                            "<tr><td>Sweden</td></tr>",
                            "<tr><td>Switzerland</td></tr>",
                            "<tr><td>UK</td></tr>",
                            "<tr><td>USA</td></tr>",
                            "<tr><td>Venezuela</td></tr>",
                            "</table>"
                        ]
                    }
                }
            ],
            "execution_count": 2
        },
        {
            "cell_type": "markdown",
            "source": [
                "### **3\\. Aggregate Functions: AVG**\n",
                "\n",
                "- **Use Case**: Finding the average freight cost of shipped orders.\n",
                "- **Explanation**: Aggregates perform calculations across multiple rows."
            ],
            "metadata": {
                "azdata_cell_guid": "691590f3-eca8-4819-a333-7669dd40364a"
            },
            "attachments": {}
        },
        {
            "cell_type": "code",
            "source": [
                "SELECT AVG(Freight) AS AvgFreight\r\n",
                "FROM dbo.Orders\r\n",
                "WHERE ShippedDate IS NOT NULL;"
            ],
            "metadata": {
                "azdata_cell_guid": "1d4c8fc8-819f-4e19-b83d-bd5d4c6730be",
                "language": "sql"
            },
            "outputs": [
                {
                    "output_type": "display_data",
                    "data": {
                        "text/html": "(1 row affected)"
                    },
                    "metadata": {}
                },
                {
                    "output_type": "display_data",
                    "data": {
                        "text/html": "Total execution time: 00:00:00.020"
                    },
                    "metadata": {}
                },
                {
                    "output_type": "execute_result",
                    "metadata": {},
                    "execution_count": 3,
                    "data": {
                        "application/vnd.dataresource+json": {
                            "schema": {
                                "fields": [
                                    {
                                        "name": "AvgFreight"
                                    }
                                ]
                            },
                            "data": [
                                {
                                    "AvgFreight": "79.0544"
                                }
                            ]
                        },
                        "text/html": [
                            "<table>",
                            "<tr><th>AvgFreight</th></tr>",
                            "<tr><td>79.0544</td></tr>",
                            "</table>"
                        ]
                    }
                }
            ],
            "execution_count": 3
        },
        {
            "cell_type": "markdown",
            "source": [
                "### **4\\. Using JOIN for Table Relationships**\n",
                "\n",
                "- **Use Case**: Getting the names of customers along with their order IDs.\n",
                "- **Explanation**: JOIN allows combining data from related tables"
            ],
            "metadata": {
                "azdata_cell_guid": "b8b88497-8834-4520-a380-c890688bd236"
            },
            "attachments": {}
        },
        {
            "cell_type": "code",
            "source": [
                "SELECT TOP 10 C.CustomerID, C.CompanyName, O.OrderID\r\n",
                "FROM dbo.Customers C\r\n",
                "JOIN dbo.Orders O ON C.CustomerID = O.CustomerID;"
            ],
            "metadata": {
                "azdata_cell_guid": "1a9f7068-7799-4055-904e-24df1839abd3",
                "language": "sql"
            },
            "outputs": [
                {
                    "output_type": "display_data",
                    "data": {
                        "text/html": "(10 rows affected)"
                    },
                    "metadata": {}
                },
                {
                    "output_type": "display_data",
                    "data": {
                        "text/html": "Total execution time: 00:00:00.013"
                    },
                    "metadata": {}
                },
                {
                    "output_type": "execute_result",
                    "metadata": {},
                    "execution_count": 5,
                    "data": {
                        "application/vnd.dataresource+json": {
                            "schema": {
                                "fields": [
                                    {
                                        "name": "CustomerID"
                                    },
                                    {
                                        "name": "CompanyName"
                                    },
                                    {
                                        "name": "OrderID"
                                    }
                                ]
                            },
                            "data": [
                                {
                                    "CustomerID": "VINET",
                                    "CompanyName": "Vins et alcools Chevalier",
                                    "OrderID": "10248"
                                },
                                {
                                    "CustomerID": "TOMSP",
                                    "CompanyName": "Toms Spezialitäten",
                                    "OrderID": "10249"
                                },
                                {
                                    "CustomerID": "HANAR",
                                    "CompanyName": "Hanari Carnes",
                                    "OrderID": "10250"
                                },
                                {
                                    "CustomerID": "VICTE",
                                    "CompanyName": "Victuailles en stock",
                                    "OrderID": "10251"
                                },
                                {
                                    "CustomerID": "SUPRD",
                                    "CompanyName": "Suprêmes délices",
                                    "OrderID": "10252"
                                },
                                {
                                    "CustomerID": "HANAR",
                                    "CompanyName": "Hanari Carnes",
                                    "OrderID": "10253"
                                },
                                {
                                    "CustomerID": "CHOPS",
                                    "CompanyName": "Chop-suey Chinese",
                                    "OrderID": "10254"
                                },
                                {
                                    "CustomerID": "RICSU",
                                    "CompanyName": "Richter Supermarkt",
                                    "OrderID": "10255"
                                },
                                {
                                    "CustomerID": "WELLI",
                                    "CompanyName": "Wellington Importadora",
                                    "OrderID": "10256"
                                },
                                {
                                    "CustomerID": "HILAA",
                                    "CompanyName": "HILARION-Abastos",
                                    "OrderID": "10257"
                                }
                            ]
                        },
                        "text/html": [
                            "<table>",
                            "<tr><th>CustomerID</th><th>CompanyName</th><th>OrderID</th></tr>",
                            "<tr><td>VINET</td><td>Vins et alcools Chevalier</td><td>10248</td></tr>",
                            "<tr><td>TOMSP</td><td>Toms Spezialitäten</td><td>10249</td></tr>",
                            "<tr><td>HANAR</td><td>Hanari Carnes</td><td>10250</td></tr>",
                            "<tr><td>VICTE</td><td>Victuailles en stock</td><td>10251</td></tr>",
                            "<tr><td>SUPRD</td><td>Suprêmes délices</td><td>10252</td></tr>",
                            "<tr><td>HANAR</td><td>Hanari Carnes</td><td>10253</td></tr>",
                            "<tr><td>CHOPS</td><td>Chop-suey Chinese</td><td>10254</td></tr>",
                            "<tr><td>RICSU</td><td>Richter Supermarkt</td><td>10255</td></tr>",
                            "<tr><td>WELLI</td><td>Wellington Importadora</td><td>10256</td></tr>",
                            "<tr><td>HILAA</td><td>HILARION-Abastos</td><td>10257</td></tr>",
                            "</table>"
                        ]
                    }
                }
            ],
            "execution_count": 5
        },
        {
            "cell_type": "markdown",
            "source": [
                "### **5\\. Filter Rows with WHERE Clause**\n",
                "\n",
                "- **Use Case**: Finding orders placed in 2022.\n",
                "- **Explanation**: The WHERE clause filters rows based on conditions."
            ],
            "metadata": {
                "azdata_cell_guid": "4383df5a-6676-4db9-9f92-c9530e44a4e1"
            },
            "attachments": {}
        },
        {
            "cell_type": "code",
            "source": [
                "SELECT TOP 10 OrderID, OrderDate\r\n",
                "FROM dbo.Orders\r\n",
                "WHERE YEAR(OrderDate) = 2022;"
            ],
            "metadata": {
                "azdata_cell_guid": "ba7e6cef-cbb8-40d4-bcf1-ff8f4259305d",
                "language": "sql",
                "tags": []
            },
            "outputs": [
                {
                    "output_type": "display_data",
                    "data": {
                        "text/html": "(10 rows affected)"
                    },
                    "metadata": {}
                },
                {
                    "output_type": "display_data",
                    "data": {
                        "text/html": "Total execution time: 00:00:00.009"
                    },
                    "metadata": {}
                },
                {
                    "output_type": "execute_result",
                    "metadata": {},
                    "execution_count": 10,
                    "data": {
                        "application/vnd.dataresource+json": {
                            "schema": {
                                "fields": [
                                    {
                                        "name": "OrderID"
                                    },
                                    {
                                        "name": "OrderDate"
                                    }
                                ]
                            },
                            "data": [
                                {
                                    "OrderID": "10400",
                                    "OrderDate": "2022-01-01 00:00:00.000"
                                },
                                {
                                    "OrderID": "10401",
                                    "OrderDate": "2022-01-01 00:00:00.000"
                                },
                                {
                                    "OrderID": "10402",
                                    "OrderDate": "2022-01-02 00:00:00.000"
                                },
                                {
                                    "OrderID": "10403",
                                    "OrderDate": "2022-01-03 00:00:00.000"
                                },
                                {
                                    "OrderID": "10404",
                                    "OrderDate": "2022-01-03 00:00:00.000"
                                },
                                {
                                    "OrderID": "10405",
                                    "OrderDate": "2022-01-06 00:00:00.000"
                                },
                                {
                                    "OrderID": "10406",
                                    "OrderDate": "2022-01-07 00:00:00.000"
                                },
                                {
                                    "OrderID": "10407",
                                    "OrderDate": "2022-01-07 00:00:00.000"
                                },
                                {
                                    "OrderID": "10408",
                                    "OrderDate": "2022-01-08 00:00:00.000"
                                },
                                {
                                    "OrderID": "10409",
                                    "OrderDate": "2022-01-09 00:00:00.000"
                                }
                            ]
                        },
                        "text/html": [
                            "<table>",
                            "<tr><th>OrderID</th><th>OrderDate</th></tr>",
                            "<tr><td>10400</td><td>2022-01-01 00:00:00.000</td></tr>",
                            "<tr><td>10401</td><td>2022-01-01 00:00:00.000</td></tr>",
                            "<tr><td>10402</td><td>2022-01-02 00:00:00.000</td></tr>",
                            "<tr><td>10403</td><td>2022-01-03 00:00:00.000</td></tr>",
                            "<tr><td>10404</td><td>2022-01-03 00:00:00.000</td></tr>",
                            "<tr><td>10405</td><td>2022-01-06 00:00:00.000</td></tr>",
                            "<tr><td>10406</td><td>2022-01-07 00:00:00.000</td></tr>",
                            "<tr><td>10407</td><td>2022-01-07 00:00:00.000</td></tr>",
                            "<tr><td>10408</td><td>2022-01-08 00:00:00.000</td></tr>",
                            "<tr><td>10409</td><td>2022-01-09 00:00:00.000</td></tr>",
                            "</table>"
                        ]
                    }
                }
            ],
            "execution_count": 10
        },
        {
            "cell_type": "markdown",
            "source": [
                "### **6\\. Using GROUP BY for Aggregation**\n",
                "\n",
                "- **Use Case**: Grouping orders by country and counting them.\n",
                "- **Explanation**: Groups rows that have the same values into summary rows."
            ],
            "metadata": {
                "azdata_cell_guid": "e2badf0a-8ff0-43de-abc9-1c27b7426f60"
            },
            "attachments": {}
        },
        {
            "cell_type": "code",
            "source": [
                "SELECT ShipCountry, COUNT(OrderID) AS TotalOrders\r\n",
                "FROM dbo.Orders\r\n",
                "GROUP BY ShipCountry;"
            ],
            "metadata": {
                "azdata_cell_guid": "9c127bcc-fe47-47a3-888d-f653344ff3fa",
                "language": "sql"
            },
            "outputs": [
                {
                    "output_type": "display_data",
                    "data": {
                        "text/html": "(21 rows affected)"
                    },
                    "metadata": {}
                },
                {
                    "output_type": "display_data",
                    "data": {
                        "text/html": "Total execution time: 00:00:00.016"
                    },
                    "metadata": {}
                },
                {
                    "output_type": "execute_result",
                    "metadata": {},
                    "execution_count": 11,
                    "data": {
                        "application/vnd.dataresource+json": {
                            "schema": {
                                "fields": [
                                    {
                                        "name": "ShipCountry"
                                    },
                                    {
                                        "name": "TotalOrders"
                                    }
                                ]
                            },
                            "data": [
                                {
                                    "ShipCountry": "Finland",
                                    "TotalOrders": "22"
                                },
                                {
                                    "ShipCountry": "USA",
                                    "TotalOrders": "122"
                                },
                                {
                                    "ShipCountry": "Italy",
                                    "TotalOrders": "28"
                                },
                                {
                                    "ShipCountry": "Brazil",
                                    "TotalOrders": "83"
                                },
                                {
                                    "ShipCountry": "Germany",
                                    "TotalOrders": "122"
                                },
                                {
                                    "ShipCountry": "Switzerland",
                                    "TotalOrders": "18"
                                },
                                {
                                    "ShipCountry": "Mexico",
                                    "TotalOrders": "28"
                                },
                                {
                                    "ShipCountry": "Sweden",
                                    "TotalOrders": "37"
                                },
                                {
                                    "ShipCountry": "Argentina",
                                    "TotalOrders": "16"
                                },
                                {
                                    "ShipCountry": "Austria",
                                    "TotalOrders": "40"
                                },
                                {
                                    "ShipCountry": "UK",
                                    "TotalOrders": "56"
                                },
                                {
                                    "ShipCountry": "Poland",
                                    "TotalOrders": "7"
                                },
                                {
                                    "ShipCountry": "Canada",
                                    "TotalOrders": "30"
                                },
                                {
                                    "ShipCountry": "Ireland",
                                    "TotalOrders": "19"
                                },
                                {
                                    "ShipCountry": "Norway",
                                    "TotalOrders": "6"
                                },
                                {
                                    "ShipCountry": "France",
                                    "TotalOrders": "77"
                                },
                                {
                                    "ShipCountry": "Belgium",
                                    "TotalOrders": "19"
                                },
                                {
                                    "ShipCountry": "Spain",
                                    "TotalOrders": "23"
                                },
                                {
                                    "ShipCountry": "Venezuela",
                                    "TotalOrders": "46"
                                },
                                {
                                    "ShipCountry": "Denmark",
                                    "TotalOrders": "18"
                                },
                                {
                                    "ShipCountry": "Portugal",
                                    "TotalOrders": "13"
                                }
                            ]
                        },
                        "text/html": [
                            "<table>",
                            "<tr><th>ShipCountry</th><th>TotalOrders</th></tr>",
                            "<tr><td>Finland</td><td>22</td></tr>",
                            "<tr><td>USA</td><td>122</td></tr>",
                            "<tr><td>Italy</td><td>28</td></tr>",
                            "<tr><td>Brazil</td><td>83</td></tr>",
                            "<tr><td>Germany</td><td>122</td></tr>",
                            "<tr><td>Switzerland</td><td>18</td></tr>",
                            "<tr><td>Mexico</td><td>28</td></tr>",
                            "<tr><td>Sweden</td><td>37</td></tr>",
                            "<tr><td>Argentina</td><td>16</td></tr>",
                            "<tr><td>Austria</td><td>40</td></tr>",
                            "<tr><td>UK</td><td>56</td></tr>",
                            "<tr><td>Poland</td><td>7</td></tr>",
                            "<tr><td>Canada</td><td>30</td></tr>",
                            "<tr><td>Ireland</td><td>19</td></tr>",
                            "<tr><td>Norway</td><td>6</td></tr>",
                            "<tr><td>France</td><td>77</td></tr>",
                            "<tr><td>Belgium</td><td>19</td></tr>",
                            "<tr><td>Spain</td><td>23</td></tr>",
                            "<tr><td>Venezuela</td><td>46</td></tr>",
                            "<tr><td>Denmark</td><td>18</td></tr>",
                            "<tr><td>Portugal</td><td>13</td></tr>",
                            "</table>"
                        ]
                    }
                }
            ],
            "execution_count": 11
        },
        {
            "cell_type": "markdown",
            "source": [
                "### **7\\. HAVING to Filter After Aggregation**\n",
                "\n",
                "- **Use Case**: Showing only countries with more than 50 orders.\n",
                "- **Explanation**: HAVING filters after the GROUP BY clause."
            ],
            "metadata": {
                "azdata_cell_guid": "87b9c902-9c3d-4b1b-8a69-e28bd0c2b8bf"
            },
            "attachments": {}
        },
        {
            "cell_type": "code",
            "source": [
                "SELECT ShipCountry, COUNT(OrderID) AS TotalOrders\r\n",
                "FROM dbo.Orders\r\n",
                "GROUP BY ShipCountry\r\n",
                "HAVING COUNT(OrderID) > 50;"
            ],
            "metadata": {
                "azdata_cell_guid": "d7ae5377-f120-4c78-8409-e3bd49347393",
                "language": "sql"
            },
            "outputs": [
                {
                    "output_type": "display_data",
                    "data": {
                        "text/html": "(5 rows affected)"
                    },
                    "metadata": {}
                },
                {
                    "output_type": "display_data",
                    "data": {
                        "text/html": "Total execution time: 00:00:00.014"
                    },
                    "metadata": {}
                },
                {
                    "output_type": "execute_result",
                    "metadata": {},
                    "execution_count": 14,
                    "data": {
                        "application/vnd.dataresource+json": {
                            "schema": {
                                "fields": [
                                    {
                                        "name": "ShipCountry"
                                    },
                                    {
                                        "name": "TotalOrders"
                                    }
                                ]
                            },
                            "data": [
                                {
                                    "ShipCountry": "USA",
                                    "TotalOrders": "122"
                                },
                                {
                                    "ShipCountry": "Brazil",
                                    "TotalOrders": "83"
                                },
                                {
                                    "ShipCountry": "Germany",
                                    "TotalOrders": "122"
                                },
                                {
                                    "ShipCountry": "UK",
                                    "TotalOrders": "56"
                                },
                                {
                                    "ShipCountry": "France",
                                    "TotalOrders": "77"
                                }
                            ]
                        },
                        "text/html": [
                            "<table>",
                            "<tr><th>ShipCountry</th><th>TotalOrders</th></tr>",
                            "<tr><td>USA</td><td>122</td></tr>",
                            "<tr><td>Brazil</td><td>83</td></tr>",
                            "<tr><td>Germany</td><td>122</td></tr>",
                            "<tr><td>UK</td><td>56</td></tr>",
                            "<tr><td>France</td><td>77</td></tr>",
                            "</table>"
                        ]
                    }
                }
            ],
            "execution_count": 14
        },
        {
            "cell_type": "markdown",
            "source": [
                "### **8\\. Use Aliases AS for Readability**\n",
                "\n",
                "- **Use Case**: Giving meaningful names to columns.\n",
                "- **Explanation**: Aliases improve query readability."
            ],
            "metadata": {
                "azdata_cell_guid": "0207a64d-db87-4d0c-b3dc-70be694652b1"
            },
            "attachments": {}
        },
        {
            "cell_type": "code",
            "source": [
                "SELECT TOP 10 ProductName AS Name, UnitPrice AS Price\r\n",
                "FROM dbo.Products;"
            ],
            "metadata": {
                "azdata_cell_guid": "de0a2180-70a7-4ed0-bebc-8760e1641037",
                "language": "sql"
            },
            "outputs": [
                {
                    "output_type": "display_data",
                    "data": {
                        "text/html": "(10 rows affected)"
                    },
                    "metadata": {}
                },
                {
                    "output_type": "display_data",
                    "data": {
                        "text/html": "Total execution time: 00:00:00.010"
                    },
                    "metadata": {}
                },
                {
                    "output_type": "execute_result",
                    "metadata": {},
                    "execution_count": 16,
                    "data": {
                        "application/vnd.dataresource+json": {
                            "schema": {
                                "fields": [
                                    {
                                        "name": "Name"
                                    },
                                    {
                                        "name": "Price"
                                    }
                                ]
                            },
                            "data": [
                                {
                                    "Name": "Chai",
                                    "Price": "18.00"
                                },
                                {
                                    "Name": "Chang",
                                    "Price": "19.00"
                                },
                                {
                                    "Name": "Aniseed Syrup",
                                    "Price": "10.00"
                                },
                                {
                                    "Name": "Chef Anton's Cajun Seasoning",
                                    "Price": "22.00"
                                },
                                {
                                    "Name": "Chef Anton's Gumbo Mix",
                                    "Price": "21.35"
                                },
                                {
                                    "Name": "Grandma's Boysenberry Spread",
                                    "Price": "25.00"
                                },
                                {
                                    "Name": "Uncle Bob's Organic Dried Pears",
                                    "Price": "30.00"
                                },
                                {
                                    "Name": "Northwoods Cranberry Sauce",
                                    "Price": "40.00"
                                },
                                {
                                    "Name": "Mishi Kobe Niku",
                                    "Price": "97.00"
                                },
                                {
                                    "Name": "Ikura",
                                    "Price": "31.00"
                                }
                            ]
                        },
                        "text/html": [
                            "<table>",
                            "<tr><th>Name</th><th>Price</th></tr>",
                            "<tr><td>Chai</td><td>18.00</td></tr>",
                            "<tr><td>Chang</td><td>19.00</td></tr>",
                            "<tr><td>Aniseed Syrup</td><td>10.00</td></tr>",
                            "<tr><td>Chef Anton&#39;s Cajun Seasoning</td><td>22.00</td></tr>",
                            "<tr><td>Chef Anton&#39;s Gumbo Mix</td><td>21.35</td></tr>",
                            "<tr><td>Grandma&#39;s Boysenberry Spread</td><td>25.00</td></tr>",
                            "<tr><td>Uncle Bob&#39;s Organic Dried Pears</td><td>30.00</td></tr>",
                            "<tr><td>Northwoods Cranberry Sauce</td><td>40.00</td></tr>",
                            "<tr><td>Mishi Kobe Niku</td><td>97.00</td></tr>",
                            "<tr><td>Ikura</td><td>31.00</td></tr>",
                            "</table>"
                        ]
                    }
                }
            ],
            "execution_count": 16
        },
        {
            "cell_type": "markdown",
            "source": [
                "### **9\\. JOIN: Find Customers and the Products They Ordered**  \n",
                "\n",
                "- **Use Case**: Listing the customers along with the names of the products they ordered.\n",
                "- **Explanation**: This query joins multiple tables to show the relationship between customers, orders, and the products they’ve purchased."
            ],
            "metadata": {
                "azdata_cell_guid": "0530f8eb-ea70-4585-b9d1-7a195e00994e"
            },
            "attachments": {}
        },
        {
            "cell_type": "code",
            "source": [
                "SELECT TOP 10 C.CustomerID, C.CompanyName, P.ProductName\r\n",
                "FROM dbo.Customers C\r\n",
                "JOIN dbo.Orders O ON C.CustomerID = O.CustomerID\r\n",
                "JOIN dbo.OrderDetails OD ON O.OrderID = OD.OrderID\r\n",
                "JOIN dbo.Products P ON OD.ProductID = P.ProductID;"
            ],
            "metadata": {
                "azdata_cell_guid": "8b2613d0-c94d-4e3b-87a4-4445dbe337e2",
                "language": "sql"
            },
            "outputs": [
                {
                    "output_type": "display_data",
                    "data": {
                        "text/html": "(10 rows affected)"
                    },
                    "metadata": {}
                },
                {
                    "output_type": "display_data",
                    "data": {
                        "text/html": "Total execution time: 00:00:00.035"
                    },
                    "metadata": {}
                },
                {
                    "output_type": "execute_result",
                    "metadata": {},
                    "execution_count": 18,
                    "data": {
                        "application/vnd.dataresource+json": {
                            "schema": {
                                "fields": [
                                    {
                                        "name": "CustomerID"
                                    },
                                    {
                                        "name": "CompanyName"
                                    },
                                    {
                                        "name": "ProductName"
                                    }
                                ]
                            },
                            "data": [
                                {
                                    "CustomerID": "VINET",
                                    "CompanyName": "Vins et alcools Chevalier",
                                    "ProductName": "Queso Cabrales"
                                },
                                {
                                    "CustomerID": "VINET",
                                    "CompanyName": "Vins et alcools Chevalier",
                                    "ProductName": "Singaporean Hokkien Fried Mee"
                                },
                                {
                                    "CustomerID": "VINET",
                                    "CompanyName": "Vins et alcools Chevalier",
                                    "ProductName": "Mozzarella di Giovanni"
                                },
                                {
                                    "CustomerID": "TOMSP",
                                    "CompanyName": "Toms Spezialitäten",
                                    "ProductName": "Tofu"
                                },
                                {
                                    "CustomerID": "TOMSP",
                                    "CompanyName": "Toms Spezialitäten",
                                    "ProductName": "Manjimup Dried Apples"
                                },
                                {
                                    "CustomerID": "HANAR",
                                    "CompanyName": "Hanari Carnes",
                                    "ProductName": "Jack's New England Clam Chowder"
                                },
                                {
                                    "CustomerID": "HANAR",
                                    "CompanyName": "Hanari Carnes",
                                    "ProductName": "Manjimup Dried Apples"
                                },
                                {
                                    "CustomerID": "HANAR",
                                    "CompanyName": "Hanari Carnes",
                                    "ProductName": "Louisiana Fiery Hot Pepper Sauce"
                                },
                                {
                                    "CustomerID": "VICTE",
                                    "CompanyName": "Victuailles en stock",
                                    "ProductName": "Gustaf's Knäckebröd"
                                },
                                {
                                    "CustomerID": "VICTE",
                                    "CompanyName": "Victuailles en stock",
                                    "ProductName": "Ravioli Angelo"
                                }
                            ]
                        },
                        "text/html": [
                            "<table>",
                            "<tr><th>CustomerID</th><th>CompanyName</th><th>ProductName</th></tr>",
                            "<tr><td>VINET</td><td>Vins et alcools Chevalier</td><td>Queso Cabrales</td></tr>",
                            "<tr><td>VINET</td><td>Vins et alcools Chevalier</td><td>Singaporean Hokkien Fried Mee</td></tr>",
                            "<tr><td>VINET</td><td>Vins et alcools Chevalier</td><td>Mozzarella di Giovanni</td></tr>",
                            "<tr><td>TOMSP</td><td>Toms Spezialitäten</td><td>Tofu</td></tr>",
                            "<tr><td>TOMSP</td><td>Toms Spezialitäten</td><td>Manjimup Dried Apples</td></tr>",
                            "<tr><td>HANAR</td><td>Hanari Carnes</td><td>Jack&#39;s New England Clam Chowder</td></tr>",
                            "<tr><td>HANAR</td><td>Hanari Carnes</td><td>Manjimup Dried Apples</td></tr>",
                            "<tr><td>HANAR</td><td>Hanari Carnes</td><td>Louisiana Fiery Hot Pepper Sauce</td></tr>",
                            "<tr><td>VICTE</td><td>Victuailles en stock</td><td>Gustaf&#39;s Knäckebröd</td></tr>",
                            "<tr><td>VICTE</td><td>Victuailles en stock</td><td>Ravioli Angelo</td></tr>",
                            "</table>"
                        ]
                    }
                }
            ],
            "execution_count": 18
        },
        {
            "cell_type": "markdown",
            "source": [
                "### **10\\. Use IS NULL to Find Missing Data**\n",
                "\n",
                "- **Use Case**: Finding employees without regions.\n",
                "- **Explanation**: IS NULL helps locate missing or undefined data."
            ],
            "metadata": {
                "azdata_cell_guid": "cf157f87-5abf-4503-a76d-9af1e02fe119"
            },
            "attachments": {}
        },
        {
            "cell_type": "code",
            "source": [
                "SELECT EmployeeID, FirstName, LastName\r\n",
                "FROM dbo.Employees\r\n",
                "WHERE Region IS NULL;"
            ],
            "metadata": {
                "azdata_cell_guid": "b26e1034-9b50-4203-ba79-dac355226b35",
                "language": "sql"
            },
            "outputs": [
                {
                    "output_type": "display_data",
                    "data": {
                        "text/html": "(4 rows affected)"
                    },
                    "metadata": {}
                },
                {
                    "output_type": "display_data",
                    "data": {
                        "text/html": "Total execution time: 00:00:00.022"
                    },
                    "metadata": {}
                },
                {
                    "output_type": "execute_result",
                    "metadata": {},
                    "execution_count": 19,
                    "data": {
                        "application/vnd.dataresource+json": {
                            "schema": {
                                "fields": [
                                    {
                                        "name": "EmployeeID"
                                    },
                                    {
                                        "name": "FirstName"
                                    },
                                    {
                                        "name": "LastName"
                                    }
                                ]
                            },
                            "data": [
                                {
                                    "EmployeeID": "5",
                                    "FirstName": "Steven",
                                    "LastName": "Buchanan"
                                },
                                {
                                    "EmployeeID": "6",
                                    "FirstName": "Michael",
                                    "LastName": "Suyama"
                                },
                                {
                                    "EmployeeID": "7",
                                    "FirstName": "Robert",
                                    "LastName": "King"
                                },
                                {
                                    "EmployeeID": "9",
                                    "FirstName": "Anne",
                                    "LastName": "Dodsworth"
                                }
                            ]
                        },
                        "text/html": [
                            "<table>",
                            "<tr><th>EmployeeID</th><th>FirstName</th><th>LastName</th></tr>",
                            "<tr><td>5</td><td>Steven</td><td>Buchanan</td></tr>",
                            "<tr><td>6</td><td>Michael</td><td>Suyama</td></tr>",
                            "<tr><td>7</td><td>Robert</td><td>King</td></tr>",
                            "<tr><td>9</td><td>Anne</td><td>Dodsworth</td></tr>",
                            "</table>"
                        ]
                    }
                }
            ],
            "execution_count": 19
        },
        {
            "cell_type": "markdown",
            "source": [
                "### **11\\. Subqueries for Filtering**\n",
                "\n",
                "- **Use Case**: Finding products with prices above the average price.\n",
                "- **Explanation**: Subqueries allow a query within another query."
            ],
            "metadata": {
                "azdata_cell_guid": "bb0a9517-8175-4bc7-aaf5-f3a577eae79b"
            },
            "attachments": {}
        },
        {
            "cell_type": "code",
            "source": [
                "SELECT ProductName, UnitPrice\r\n",
                "FROM dbo.Products\r\n",
                "WHERE UnitPrice > (SELECT AVG(UnitPrice) FROM dbo.Products);"
            ],
            "metadata": {
                "azdata_cell_guid": "6075fb34-09c1-43ef-a5ad-cb9dcfb626a3",
                "language": "sql"
            },
            "outputs": [
                {
                    "output_type": "display_data",
                    "data": {
                        "text/html": "(25 rows affected)"
                    },
                    "metadata": {}
                },
                {
                    "output_type": "display_data",
                    "data": {
                        "text/html": "Total execution time: 00:00:02.082"
                    },
                    "metadata": {}
                },
                {
                    "output_type": "execute_result",
                    "metadata": {},
                    "execution_count": 20,
                    "data": {
                        "application/vnd.dataresource+json": {
                            "schema": {
                                "fields": [
                                    {
                                        "name": "ProductName"
                                    },
                                    {
                                        "name": "UnitPrice"
                                    }
                                ]
                            },
                            "data": [
                                {
                                    "ProductName": "Uncle Bob's Organic Dried Pears",
                                    "UnitPrice": "30.00"
                                },
                                {
                                    "ProductName": "Northwoods Cranberry Sauce",
                                    "UnitPrice": "40.00"
                                },
                                {
                                    "ProductName": "Mishi Kobe Niku",
                                    "UnitPrice": "97.00"
                                },
                                {
                                    "ProductName": "Ikura",
                                    "UnitPrice": "31.00"
                                },
                                {
                                    "ProductName": "Queso Manchego La Pastora",
                                    "UnitPrice": "38.00"
                                },
                                {
                                    "ProductName": "Alice Mutton",
                                    "UnitPrice": "39.00"
                                },
                                {
                                    "ProductName": "Carnarvon Tigers",
                                    "UnitPrice": "62.50"
                                },
                                {
                                    "ProductName": "Sir Rodney's Marmalade",
                                    "UnitPrice": "81.00"
                                },
                                {
                                    "ProductName": "Gumbär Gummibärchen",
                                    "UnitPrice": "31.23"
                                },
                                {
                                    "ProductName": "Schoggi Schokolade",
                                    "UnitPrice": "43.90"
                                },
                                {
                                    "ProductName": "Rössle Sauerkraut",
                                    "UnitPrice": "45.60"
                                },
                                {
                                    "ProductName": "Thüringer Rostbratwurst",
                                    "UnitPrice": "123.79"
                                },
                                {
                                    "ProductName": "Mascarpone Fabioli",
                                    "UnitPrice": "32.00"
                                },
                                {
                                    "ProductName": "Côte de Blaye",
                                    "UnitPrice": "263.50"
                                },
                                {
                                    "ProductName": "Ipoh Coffee",
                                    "UnitPrice": "46.00"
                                },
                                {
                                    "ProductName": "Manjimup Dried Apples",
                                    "UnitPrice": "53.00"
                                },
                                {
                                    "ProductName": "Perth Pasties",
                                    "UnitPrice": "32.80"
                                },
                                {
                                    "ProductName": "Gnocchi di nonna Alice",
                                    "UnitPrice": "38.00"
                                },
                                {
                                    "ProductName": "Raclette Courdavault",
                                    "UnitPrice": "55.00"
                                },
                                {
                                    "ProductName": "Camembert Pierrot",
                                    "UnitPrice": "34.00"
                                },
                                {
                                    "ProductName": "Tarte au sucre",
                                    "UnitPrice": "49.30"
                                },
                                {
                                    "ProductName": "Vegie-spread",
                                    "UnitPrice": "43.90"
                                },
                                {
                                    "ProductName": "Wimmers gute Semmelknödel",
                                    "UnitPrice": "33.25"
                                },
                                {
                                    "ProductName": "Gudbrandsdalsost",
                                    "UnitPrice": "36.00"
                                },
                                {
                                    "ProductName": "Mozzarella di Giovanni",
                                    "UnitPrice": "34.80"
                                }
                            ]
                        },
                        "text/html": [
                            "<table>",
                            "<tr><th>ProductName</th><th>UnitPrice</th></tr>",
                            "<tr><td>Uncle Bob&#39;s Organic Dried Pears</td><td>30.00</td></tr>",
                            "<tr><td>Northwoods Cranberry Sauce</td><td>40.00</td></tr>",
                            "<tr><td>Mishi Kobe Niku</td><td>97.00</td></tr>",
                            "<tr><td>Ikura</td><td>31.00</td></tr>",
                            "<tr><td>Queso Manchego La Pastora</td><td>38.00</td></tr>",
                            "<tr><td>Alice Mutton</td><td>39.00</td></tr>",
                            "<tr><td>Carnarvon Tigers</td><td>62.50</td></tr>",
                            "<tr><td>Sir Rodney&#39;s Marmalade</td><td>81.00</td></tr>",
                            "<tr><td>Gumbär Gummibärchen</td><td>31.23</td></tr>",
                            "<tr><td>Schoggi Schokolade</td><td>43.90</td></tr>",
                            "<tr><td>Rössle Sauerkraut</td><td>45.60</td></tr>",
                            "<tr><td>Thüringer Rostbratwurst</td><td>123.79</td></tr>",
                            "<tr><td>Mascarpone Fabioli</td><td>32.00</td></tr>",
                            "<tr><td>Côte de Blaye</td><td>263.50</td></tr>",
                            "<tr><td>Ipoh Coffee</td><td>46.00</td></tr>",
                            "<tr><td>Manjimup Dried Apples</td><td>53.00</td></tr>",
                            "<tr><td>Perth Pasties</td><td>32.80</td></tr>",
                            "<tr><td>Gnocchi di nonna Alice</td><td>38.00</td></tr>",
                            "<tr><td>Raclette Courdavault</td><td>55.00</td></tr>",
                            "<tr><td>Camembert Pierrot</td><td>34.00</td></tr>",
                            "<tr><td>Tarte au sucre</td><td>49.30</td></tr>",
                            "<tr><td>Vegie-spread</td><td>43.90</td></tr>",
                            "<tr><td>Wimmers gute Semmelknödel</td><td>33.25</td></tr>",
                            "<tr><td>Gudbrandsdalsost</td><td>36.00</td></tr>",
                            "<tr><td>Mozzarella di Giovanni</td><td>34.80</td></tr>",
                            "</table>"
                        ]
                    }
                }
            ],
            "execution_count": 20
        },
        {
            "cell_type": "markdown",
            "source": [
                "### **12\\. Using UNION to Combine Queries**\n",
                "\n",
                "- **Use Case**: Combining lists of US and UK customers.\n",
                "- **Explanation**: UNION combines the results of two or more queries."
            ],
            "metadata": {
                "azdata_cell_guid": "6ec3b536-8909-4a38-9151-9b0e2b89dfda"
            },
            "attachments": {}
        },
        {
            "cell_type": "code",
            "source": [
                "SELECT CustomerID, CompanyName, Country\r\n",
                "FROM dbo.Customers\r\n",
                "WHERE Country = 'USA'\r\n",
                "UNION\r\n",
                "SELECT CustomerID, CompanyName, Country\r\n",
                "FROM dbo.Customers\r\n",
                "WHERE Country = 'UK';"
            ],
            "metadata": {
                "azdata_cell_guid": "a8e11251-b6b4-496c-9863-ba1f756ed012",
                "language": "sql"
            },
            "outputs": [
                {
                    "output_type": "display_data",
                    "data": {
                        "text/html": "(20 rows affected)"
                    },
                    "metadata": {}
                },
                {
                    "output_type": "display_data",
                    "data": {
                        "text/html": "Total execution time: 00:00:00.785"
                    },
                    "metadata": {}
                },
                {
                    "output_type": "execute_result",
                    "metadata": {},
                    "execution_count": 21,
                    "data": {
                        "application/vnd.dataresource+json": {
                            "schema": {
                                "fields": [
                                    {
                                        "name": "CustomerID"
                                    },
                                    {
                                        "name": "CompanyName"
                                    },
                                    {
                                        "name": "Country"
                                    }
                                ]
                            },
                            "data": [
                                {
                                    "CustomerID": "GREAL",
                                    "CompanyName": "Great Lakes Food Market",
                                    "Country": "USA"
                                },
                                {
                                    "CustomerID": "HUNGC",
                                    "CompanyName": "Hungry Coyote Import Store",
                                    "Country": "USA"
                                },
                                {
                                    "CustomerID": "LAZYK",
                                    "CompanyName": "Lazy K Kountry Store",
                                    "Country": "USA"
                                },
                                {
                                    "CustomerID": "LETSS",
                                    "CompanyName": "Let's Stop N Shop",
                                    "Country": "USA"
                                },
                                {
                                    "CustomerID": "LONEP",
                                    "CompanyName": "Lonesome Pine Restaurant",
                                    "Country": "USA"
                                },
                                {
                                    "CustomerID": "OLDWO",
                                    "CompanyName": "Old World Delicatessen",
                                    "Country": "USA"
                                },
                                {
                                    "CustomerID": "RATTC",
                                    "CompanyName": "Rattlesnake Canyon Grocery",
                                    "Country": "USA"
                                },
                                {
                                    "CustomerID": "SAVEA",
                                    "CompanyName": "Save-a-lot Markets",
                                    "Country": "USA"
                                },
                                {
                                    "CustomerID": "SPLIR",
                                    "CompanyName": "Split Rail Beer & Ale",
                                    "Country": "USA"
                                },
                                {
                                    "CustomerID": "THEBI",
                                    "CompanyName": "The Big Cheese",
                                    "Country": "USA"
                                },
                                {
                                    "CustomerID": "THECR",
                                    "CompanyName": "The Cracker Box",
                                    "Country": "USA"
                                },
                                {
                                    "CustomerID": "TRAIH",
                                    "CompanyName": "Trail's Head Gourmet Provisioners",
                                    "Country": "USA"
                                },
                                {
                                    "CustomerID": "WHITC",
                                    "CompanyName": "White Clover Markets",
                                    "Country": "USA"
                                },
                                {
                                    "CustomerID": "AROUT",
                                    "CompanyName": "Around the Horn",
                                    "Country": "UK"
                                },
                                {
                                    "CustomerID": "BSBEV",
                                    "CompanyName": "B's Beverages",
                                    "Country": "UK"
                                },
                                {
                                    "CustomerID": "CONSH",
                                    "CompanyName": "Consolidated Holdings",
                                    "Country": "UK"
                                },
                                {
                                    "CustomerID": "EASTC",
                                    "CompanyName": "Eastern Connection",
                                    "Country": "UK"
                                },
                                {
                                    "CustomerID": "ISLAT",
                                    "CompanyName": "Island Trading",
                                    "Country": "UK"
                                },
                                {
                                    "CustomerID": "NORTS",
                                    "CompanyName": "North/South",
                                    "Country": "UK"
                                },
                                {
                                    "CustomerID": "SEVES",
                                    "CompanyName": "Seven Seas Imports",
                                    "Country": "UK"
                                }
                            ]
                        },
                        "text/html": [
                            "<table>",
                            "<tr><th>CustomerID</th><th>CompanyName</th><th>Country</th></tr>",
                            "<tr><td>GREAL</td><td>Great Lakes Food Market</td><td>USA</td></tr>",
                            "<tr><td>HUNGC</td><td>Hungry Coyote Import Store</td><td>USA</td></tr>",
                            "<tr><td>LAZYK</td><td>Lazy K Kountry Store</td><td>USA</td></tr>",
                            "<tr><td>LETSS</td><td>Let&#39;s Stop N Shop</td><td>USA</td></tr>",
                            "<tr><td>LONEP</td><td>Lonesome Pine Restaurant</td><td>USA</td></tr>",
                            "<tr><td>OLDWO</td><td>Old World Delicatessen</td><td>USA</td></tr>",
                            "<tr><td>RATTC</td><td>Rattlesnake Canyon Grocery</td><td>USA</td></tr>",
                            "<tr><td>SAVEA</td><td>Save-a-lot Markets</td><td>USA</td></tr>",
                            "<tr><td>SPLIR</td><td>Split Rail Beer &amp; Ale</td><td>USA</td></tr>",
                            "<tr><td>THEBI</td><td>The Big Cheese</td><td>USA</td></tr>",
                            "<tr><td>THECR</td><td>The Cracker Box</td><td>USA</td></tr>",
                            "<tr><td>TRAIH</td><td>Trail&#39;s Head Gourmet Provisioners</td><td>USA</td></tr>",
                            "<tr><td>WHITC</td><td>White Clover Markets</td><td>USA</td></tr>",
                            "<tr><td>AROUT</td><td>Around the Horn</td><td>UK</td></tr>",
                            "<tr><td>BSBEV</td><td>B&#39;s Beverages</td><td>UK</td></tr>",
                            "<tr><td>CONSH</td><td>Consolidated Holdings</td><td>UK</td></tr>",
                            "<tr><td>EASTC</td><td>Eastern Connection</td><td>UK</td></tr>",
                            "<tr><td>ISLAT</td><td>Island Trading</td><td>UK</td></tr>",
                            "<tr><td>NORTS</td><td>North/South</td><td>UK</td></tr>",
                            "<tr><td>SEVES</td><td>Seven Seas Imports</td><td>UK</td></tr>",
                            "</table>"
                        ]
                    }
                }
            ],
            "execution_count": 21
        },
        {
            "cell_type": "markdown",
            "source": [
                "### **13\\. String Functions: UPPER**\n",
                "\n",
                "- **Use Case**: Standardizing customer names to uppercase.\n",
                "- **Explanation**: String functions manipulate text data."
            ],
            "metadata": {
                "azdata_cell_guid": "2b32d085-1c1e-4d45-a5b8-6157fa5f468b"
            },
            "attachments": {}
        },
        {
            "cell_type": "code",
            "source": [
                "SELECT TOP 10 UPPER(CompanyName) AS UpperCaseName\r\n",
                "FROM dbo.Customers;"
            ],
            "metadata": {
                "azdata_cell_guid": "fb10a2a4-757e-4fb7-9f5f-710bc9973602",
                "language": "sql"
            },
            "outputs": [
                {
                    "output_type": "display_data",
                    "data": {
                        "text/html": "(10 rows affected)"
                    },
                    "metadata": {}
                },
                {
                    "output_type": "display_data",
                    "data": {
                        "text/html": "Total execution time: 00:00:00.018"
                    },
                    "metadata": {}
                },
                {
                    "output_type": "execute_result",
                    "metadata": {},
                    "execution_count": 23,
                    "data": {
                        "application/vnd.dataresource+json": {
                            "schema": {
                                "fields": [
                                    {
                                        "name": "UpperCaseName"
                                    }
                                ]
                            },
                            "data": [
                                {
                                    "UpperCaseName": "ALFREDS FUTTERKISTE"
                                },
                                {
                                    "UpperCaseName": "ANA TRUJILLO EMPAREDADOS Y HELADOS"
                                },
                                {
                                    "UpperCaseName": "ANTONIO MORENO TAQUERÍA"
                                },
                                {
                                    "UpperCaseName": "AROUND THE HORN"
                                },
                                {
                                    "UpperCaseName": "BERGLUNDS SNABBKÖP"
                                },
                                {
                                    "UpperCaseName": "BLAUER SEE DELIKATESSEN"
                                },
                                {
                                    "UpperCaseName": "BLONDESDDSL PÈRE ET FILS"
                                },
                                {
                                    "UpperCaseName": "BÓLIDO COMIDAS PREPARADAS"
                                },
                                {
                                    "UpperCaseName": "BON APP'"
                                },
                                {
                                    "UpperCaseName": "BOTTOM-DOLLAR MARKETS"
                                }
                            ]
                        },
                        "text/html": [
                            "<table>",
                            "<tr><th>UpperCaseName</th></tr>",
                            "<tr><td>ALFREDS FUTTERKISTE</td></tr>",
                            "<tr><td>ANA TRUJILLO EMPAREDADOS Y HELADOS</td></tr>",
                            "<tr><td>ANTONIO MORENO TAQUERÍA</td></tr>",
                            "<tr><td>AROUND THE HORN</td></tr>",
                            "<tr><td>BERGLUNDS SNABBKÖP</td></tr>",
                            "<tr><td>BLAUER SEE DELIKATESSEN</td></tr>",
                            "<tr><td>BLONDESDDSL PÈRE ET FILS</td></tr>",
                            "<tr><td>BÓLIDO COMIDAS PREPARADAS</td></tr>",
                            "<tr><td>BON APP&#39;</td></tr>",
                            "<tr><td>BOTTOM-DOLLAR MARKETS</td></tr>",
                            "</table>"
                        ]
                    }
                }
            ],
            "execution_count": 23
        },
        {
            "cell_type": "markdown",
            "source": [
                "### **14\\. Use Date Functions: MONTH**\n",
                "\n",
                "- **Use Case**: Finding orders placed in December.\n",
                "- **Explanation**: Date functions extract parts of a date."
            ],
            "metadata": {
                "azdata_cell_guid": "30718c3f-0be0-4171-a8c5-108e06e38f98"
            },
            "attachments": {}
        },
        {
            "cell_type": "code",
            "source": [
                "SELECT TOP 10 OrderID, OrderDate\r\n",
                "FROM dbo.Orders\r\n",
                "WHERE MONTH(OrderDate) = 12;"
            ],
            "metadata": {
                "azdata_cell_guid": "8dfd485d-4097-4f46-899a-580b9d69d1a9",
                "language": "sql"
            },
            "outputs": [
                {
                    "output_type": "display_data",
                    "data": {
                        "text/html": "(10 rows affected)"
                    },
                    "metadata": {}
                },
                {
                    "output_type": "display_data",
                    "data": {
                        "text/html": "Total execution time: 00:00:00.952"
                    },
                    "metadata": {}
                },
                {
                    "output_type": "execute_result",
                    "metadata": {},
                    "execution_count": 25,
                    "data": {
                        "application/vnd.dataresource+json": {
                            "schema": {
                                "fields": [
                                    {
                                        "name": "OrderID"
                                    },
                                    {
                                        "name": "OrderDate"
                                    }
                                ]
                            },
                            "data": [
                                {
                                    "OrderID": "10369",
                                    "OrderDate": "2021-12-02 00:00:00.000"
                                },
                                {
                                    "OrderID": "10370",
                                    "OrderDate": "2021-12-03 00:00:00.000"
                                },
                                {
                                    "OrderID": "10371",
                                    "OrderDate": "2021-12-03 00:00:00.000"
                                },
                                {
                                    "OrderID": "10372",
                                    "OrderDate": "2021-12-04 00:00:00.000"
                                },
                                {
                                    "OrderID": "10373",
                                    "OrderDate": "2021-12-05 00:00:00.000"
                                },
                                {
                                    "OrderID": "10374",
                                    "OrderDate": "2021-12-05 00:00:00.000"
                                },
                                {
                                    "OrderID": "10375",
                                    "OrderDate": "2021-12-06 00:00:00.000"
                                },
                                {
                                    "OrderID": "10376",
                                    "OrderDate": "2021-12-09 00:00:00.000"
                                },
                                {
                                    "OrderID": "10377",
                                    "OrderDate": "2021-12-09 00:00:00.000"
                                },
                                {
                                    "OrderID": "10378",
                                    "OrderDate": "2021-12-10 00:00:00.000"
                                }
                            ]
                        },
                        "text/html": [
                            "<table>",
                            "<tr><th>OrderID</th><th>OrderDate</th></tr>",
                            "<tr><td>10369</td><td>2021-12-02 00:00:00.000</td></tr>",
                            "<tr><td>10370</td><td>2021-12-03 00:00:00.000</td></tr>",
                            "<tr><td>10371</td><td>2021-12-03 00:00:00.000</td></tr>",
                            "<tr><td>10372</td><td>2021-12-04 00:00:00.000</td></tr>",
                            "<tr><td>10373</td><td>2021-12-05 00:00:00.000</td></tr>",
                            "<tr><td>10374</td><td>2021-12-05 00:00:00.000</td></tr>",
                            "<tr><td>10375</td><td>2021-12-06 00:00:00.000</td></tr>",
                            "<tr><td>10376</td><td>2021-12-09 00:00:00.000</td></tr>",
                            "<tr><td>10377</td><td>2021-12-09 00:00:00.000</td></tr>",
                            "<tr><td>10378</td><td>2021-12-10 00:00:00.000</td></tr>",
                            "</table>"
                        ]
                    }
                }
            ],
            "execution_count": 25
        },
        {
            "cell_type": "markdown",
            "source": [
                "### **15\\. Use AND for Multiple Conditions**\n",
                "\n",
                "- **Use Case**: Finding employees who live in the USA and work in Seattle.\n",
                "- **Explanation**: The AND operator allows combining multiple conditions in the WHERE clause."
            ],
            "metadata": {
                "azdata_cell_guid": "10f6db3f-4517-424c-a3a8-130da307454a"
            },
            "attachments": {}
        },
        {
            "cell_type": "code",
            "source": [
                "SELECT EmployeeID, FirstName, LastName, City, Country\r\n",
                "FROM dbo.Employees\r\n",
                "WHERE Country = 'USA' AND City = 'Seattle';"
            ],
            "metadata": {
                "azdata_cell_guid": "36223dba-6880-4e53-a158-06409f971750",
                "language": "sql",
                "tags": []
            },
            "outputs": [
                {
                    "output_type": "display_data",
                    "data": {
                        "text/html": "(2 rows affected)"
                    },
                    "metadata": {}
                },
                {
                    "output_type": "display_data",
                    "data": {
                        "text/html": "Total execution time: 00:00:00.719"
                    },
                    "metadata": {}
                },
                {
                    "output_type": "execute_result",
                    "metadata": {},
                    "execution_count": 26,
                    "data": {
                        "application/vnd.dataresource+json": {
                            "schema": {
                                "fields": [
                                    {
                                        "name": "EmployeeID"
                                    },
                                    {
                                        "name": "FirstName"
                                    },
                                    {
                                        "name": "LastName"
                                    },
                                    {
                                        "name": "City"
                                    },
                                    {
                                        "name": "Country"
                                    }
                                ]
                            },
                            "data": [
                                {
                                    "EmployeeID": "1",
                                    "FirstName": "Nancy",
                                    "LastName": "Davolio",
                                    "City": "Seattle",
                                    "Country": "USA"
                                },
                                {
                                    "EmployeeID": "8",
                                    "FirstName": "Laura",
                                    "LastName": "Callahan",
                                    "City": "Seattle",
                                    "Country": "USA"
                                }
                            ]
                        },
                        "text/html": [
                            "<table>",
                            "<tr><th>EmployeeID</th><th>FirstName</th><th>LastName</th><th>City</th><th>Country</th></tr>",
                            "<tr><td>1</td><td>Nancy</td><td>Davolio</td><td>Seattle</td><td>USA</td></tr>",
                            "<tr><td>8</td><td>Laura</td><td>Callahan</td><td>Seattle</td><td>USA</td></tr>",
                            "</table>"
                        ]
                    }
                }
            ],
            "execution_count": 26
        },
        {
            "cell_type": "markdown",
            "source": [
                "### **16\\. Use OR for Flexible Condition Matching**\n",
                "\n",
                "- **Use Case**: Finding products that are either discontinued or have a stock quantity of less than 10 units.\n",
                "- **Explanation**:OR allows matching rows where at least one of the conditions is true."
            ],
            "metadata": {
                "azdata_cell_guid": "be9afc49-22c0-42c0-89f7-b518af1c9d63"
            },
            "attachments": {}
        },
        {
            "cell_type": "code",
            "source": [
                "SELECT ProductID, ProductName, UnitsInStock, Discontinued\r\n",
                "FROM dbo.Products\r\n",
                "WHERE Discontinued = 1 OR UnitsInStock < 10;"
            ],
            "metadata": {
                "azdata_cell_guid": "5778f961-d04e-4e0f-b126-ee998d17fc59",
                "language": "sql"
            },
            "outputs": [
                {
                    "output_type": "display_data",
                    "data": {
                        "text/html": "(16 rows affected)"
                    },
                    "metadata": {}
                },
                {
                    "output_type": "display_data",
                    "data": {
                        "text/html": "Total execution time: 00:00:02.030"
                    },
                    "metadata": {}
                },
                {
                    "output_type": "execute_result",
                    "metadata": {},
                    "execution_count": 27,
                    "data": {
                        "application/vnd.dataresource+json": {
                            "schema": {
                                "fields": [
                                    {
                                        "name": "ProductID"
                                    },
                                    {
                                        "name": "ProductName"
                                    },
                                    {
                                        "name": "UnitsInStock"
                                    },
                                    {
                                        "name": "Discontinued"
                                    }
                                ]
                            },
                            "data": [
                                {
                                    "ProductID": "5",
                                    "ProductName": "Chef Anton's Gumbo Mix",
                                    "UnitsInStock": "0",
                                    "Discontinued": "1"
                                },
                                {
                                    "ProductID": "8",
                                    "ProductName": "Northwoods Cranberry Sauce",
                                    "UnitsInStock": "6",
                                    "Discontinued": "0"
                                },
                                {
                                    "ProductID": "9",
                                    "ProductName": "Mishi Kobe Niku",
                                    "UnitsInStock": "29",
                                    "Discontinued": "1"
                                },
                                {
                                    "ProductID": "17",
                                    "ProductName": "Alice Mutton",
                                    "UnitsInStock": "0",
                                    "Discontinued": "1"
                                },
                                {
                                    "ProductID": "21",
                                    "ProductName": "Sir Rodney's Scones",
                                    "UnitsInStock": "3",
                                    "Discontinued": "0"
                                },
                                {
                                    "ProductID": "24",
                                    "ProductName": "Guaraná Fantástica",
                                    "UnitsInStock": "20",
                                    "Discontinued": "1"
                                },
                                {
                                    "ProductID": "28",
                                    "ProductName": "Rössle Sauerkraut",
                                    "UnitsInStock": "26",
                                    "Discontinued": "1"
                                },
                                {
                                    "ProductID": "29",
                                    "ProductName": "Thüringer Rostbratwurst",
                                    "UnitsInStock": "0",
                                    "Discontinued": "1"
                                },
                                {
                                    "ProductID": "31",
                                    "ProductName": "Gorgonzola Telino",
                                    "UnitsInStock": "0",
                                    "Discontinued": "0"
                                },
                                {
                                    "ProductID": "32",
                                    "ProductName": "Mascarpone Fabioli",
                                    "UnitsInStock": "9",
                                    "Discontinued": "0"
                                },
                                {
                                    "ProductID": "42",
                                    "ProductName": "Singaporean Hokkien Fried Mee",
                                    "UnitsInStock": "26",
                                    "Discontinued": "1"
                                },
                                {
                                    "ProductID": "45",
                                    "ProductName": "Rogede sild",
                                    "UnitsInStock": "5",
                                    "Discontinued": "0"
                                },
                                {
                                    "ProductID": "53",
                                    "ProductName": "Perth Pasties",
                                    "UnitsInStock": "0",
                                    "Discontinued": "1"
                                },
                                {
                                    "ProductID": "66",
                                    "ProductName": "Louisiana Hot Spiced Okra",
                                    "UnitsInStock": "4",
                                    "Discontinued": "0"
                                },
                                {
                                    "ProductID": "68",
                                    "ProductName": "Scottish Longbreads",
                                    "UnitsInStock": "6",
                                    "Discontinued": "0"
                                },
                                {
                                    "ProductID": "74",
                                    "ProductName": "Longlife Tofu",
                                    "UnitsInStock": "4",
                                    "Discontinued": "0"
                                }
                            ]
                        },
                        "text/html": [
                            "<table>",
                            "<tr><th>ProductID</th><th>ProductName</th><th>UnitsInStock</th><th>Discontinued</th></tr>",
                            "<tr><td>5</td><td>Chef Anton&#39;s Gumbo Mix</td><td>0</td><td>1</td></tr>",
                            "<tr><td>8</td><td>Northwoods Cranberry Sauce</td><td>6</td><td>0</td></tr>",
                            "<tr><td>9</td><td>Mishi Kobe Niku</td><td>29</td><td>1</td></tr>",
                            "<tr><td>17</td><td>Alice Mutton</td><td>0</td><td>1</td></tr>",
                            "<tr><td>21</td><td>Sir Rodney&#39;s Scones</td><td>3</td><td>0</td></tr>",
                            "<tr><td>24</td><td>Guaraná Fantástica</td><td>20</td><td>1</td></tr>",
                            "<tr><td>28</td><td>Rössle Sauerkraut</td><td>26</td><td>1</td></tr>",
                            "<tr><td>29</td><td>Thüringer Rostbratwurst</td><td>0</td><td>1</td></tr>",
                            "<tr><td>31</td><td>Gorgonzola Telino</td><td>0</td><td>0</td></tr>",
                            "<tr><td>32</td><td>Mascarpone Fabioli</td><td>9</td><td>0</td></tr>",
                            "<tr><td>42</td><td>Singaporean Hokkien Fried Mee</td><td>26</td><td>1</td></tr>",
                            "<tr><td>45</td><td>Rogede sild</td><td>5</td><td>0</td></tr>",
                            "<tr><td>53</td><td>Perth Pasties</td><td>0</td><td>1</td></tr>",
                            "<tr><td>66</td><td>Louisiana Hot Spiced Okra</td><td>4</td><td>0</td></tr>",
                            "<tr><td>68</td><td>Scottish Longbreads</td><td>6</td><td>0</td></tr>",
                            "<tr><td>74</td><td>Longlife Tofu</td><td>4</td><td>0</td></tr>",
                            "</table>"
                        ]
                    }
                }
            ],
            "execution_count": 27
        },
        {
            "cell_type": "markdown",
            "source": [
                "### **17\\. Use IN for Multiple Criteria**\n",
                "\n",
                "- **Use Case**: Finding customers in the USA, UK, or Germany.\n",
                "- **Explanation**: IN checks if a value matches any in a list."
            ],
            "metadata": {
                "azdata_cell_guid": "a4e1a2c4-1eef-4610-913a-8e11ea2109ab"
            },
            "attachments": {}
        },
        {
            "cell_type": "code",
            "source": [
                "SELECT CustomerID, CompanyName, Country\r\n",
                "FROM dbo.Customers\r\n",
                "WHERE Country IN ('USA', 'UK', 'Germany');"
            ],
            "metadata": {
                "azdata_cell_guid": "618393d2-2ab4-438d-90b0-03453abde4d0",
                "language": "sql"
            },
            "outputs": [
                {
                    "output_type": "display_data",
                    "data": {
                        "text/html": "(31 rows affected)"
                    },
                    "metadata": {}
                },
                {
                    "output_type": "display_data",
                    "data": {
                        "text/html": "Total execution time: 00:00:01.840"
                    },
                    "metadata": {}
                },
                {
                    "output_type": "execute_result",
                    "metadata": {},
                    "execution_count": 28,
                    "data": {
                        "application/vnd.dataresource+json": {
                            "schema": {
                                "fields": [
                                    {
                                        "name": "CustomerID"
                                    },
                                    {
                                        "name": "CompanyName"
                                    },
                                    {
                                        "name": "Country"
                                    }
                                ]
                            },
                            "data": [
                                {
                                    "CustomerID": "ALFKI",
                                    "CompanyName": "Alfreds Futterkiste",
                                    "Country": "Germany"
                                },
                                {
                                    "CustomerID": "AROUT",
                                    "CompanyName": "Around the Horn",
                                    "Country": "UK"
                                },
                                {
                                    "CustomerID": "BLAUS",
                                    "CompanyName": "Blauer See Delikatessen",
                                    "Country": "Germany"
                                },
                                {
                                    "CustomerID": "BSBEV",
                                    "CompanyName": "B's Beverages",
                                    "Country": "UK"
                                },
                                {
                                    "CustomerID": "CONSH",
                                    "CompanyName": "Consolidated Holdings",
                                    "Country": "UK"
                                },
                                {
                                    "CustomerID": "DRACD",
                                    "CompanyName": "Drachenblut Delikatessen",
                                    "Country": "Germany"
                                },
                                {
                                    "CustomerID": "EASTC",
                                    "CompanyName": "Eastern Connection",
                                    "Country": "UK"
                                },
                                {
                                    "CustomerID": "FRANK",
                                    "CompanyName": "Frankenversand",
                                    "Country": "Germany"
                                },
                                {
                                    "CustomerID": "GREAL",
                                    "CompanyName": "Great Lakes Food Market",
                                    "Country": "USA"
                                },
                                {
                                    "CustomerID": "HUNGC",
                                    "CompanyName": "Hungry Coyote Import Store",
                                    "Country": "USA"
                                },
                                {
                                    "CustomerID": "ISLAT",
                                    "CompanyName": "Island Trading",
                                    "Country": "UK"
                                },
                                {
                                    "CustomerID": "KOENE",
                                    "CompanyName": "Königlich Essen",
                                    "Country": "Germany"
                                },
                                {
                                    "CustomerID": "LAZYK",
                                    "CompanyName": "Lazy K Kountry Store",
                                    "Country": "USA"
                                },
                                {
                                    "CustomerID": "LEHMS",
                                    "CompanyName": "Lehmanns Marktstand",
                                    "Country": "Germany"
                                },
                                {
                                    "CustomerID": "LETSS",
                                    "CompanyName": "Let's Stop N Shop",
                                    "Country": "USA"
                                },
                                {
                                    "CustomerID": "LONEP",
                                    "CompanyName": "Lonesome Pine Restaurant",
                                    "Country": "USA"
                                },
                                {
                                    "CustomerID": "MORGK",
                                    "CompanyName": "Morgenstern Gesundkost",
                                    "Country": "Germany"
                                },
                                {
                                    "CustomerID": "NORTS",
                                    "CompanyName": "North/South",
                                    "Country": "UK"
                                },
                                {
                                    "CustomerID": "OLDWO",
                                    "CompanyName": "Old World Delicatessen",
                                    "Country": "USA"
                                },
                                {
                                    "CustomerID": "OTTIK",
                                    "CompanyName": "Ottilies Käseladen",
                                    "Country": "Germany"
                                },
                                {
                                    "CustomerID": "QUICK",
                                    "CompanyName": "QUICK-Stop",
                                    "Country": "Germany"
                                },
                                {
                                    "CustomerID": "RATTC",
                                    "CompanyName": "Rattlesnake Canyon Grocery",
                                    "Country": "USA"
                                },
                                {
                                    "CustomerID": "SAVEA",
                                    "CompanyName": "Save-a-lot Markets",
                                    "Country": "USA"
                                },
                                {
                                    "CustomerID": "SEVES",
                                    "CompanyName": "Seven Seas Imports",
                                    "Country": "UK"
                                },
                                {
                                    "CustomerID": "SPLIR",
                                    "CompanyName": "Split Rail Beer & Ale",
                                    "Country": "USA"
                                },
                                {
                                    "CustomerID": "THEBI",
                                    "CompanyName": "The Big Cheese",
                                    "Country": "USA"
                                },
                                {
                                    "CustomerID": "THECR",
                                    "CompanyName": "The Cracker Box",
                                    "Country": "USA"
                                },
                                {
                                    "CustomerID": "TOMSP",
                                    "CompanyName": "Toms Spezialitäten",
                                    "Country": "Germany"
                                },
                                {
                                    "CustomerID": "TRAIH",
                                    "CompanyName": "Trail's Head Gourmet Provisioners",
                                    "Country": "USA"
                                },
                                {
                                    "CustomerID": "WANDK",
                                    "CompanyName": "Die Wandernde Kuh",
                                    "Country": "Germany"
                                },
                                {
                                    "CustomerID": "WHITC",
                                    "CompanyName": "White Clover Markets",
                                    "Country": "USA"
                                }
                            ]
                        },
                        "text/html": [
                            "<table>",
                            "<tr><th>CustomerID</th><th>CompanyName</th><th>Country</th></tr>",
                            "<tr><td>ALFKI</td><td>Alfreds Futterkiste</td><td>Germany</td></tr>",
                            "<tr><td>AROUT</td><td>Around the Horn</td><td>UK</td></tr>",
                            "<tr><td>BLAUS</td><td>Blauer See Delikatessen</td><td>Germany</td></tr>",
                            "<tr><td>BSBEV</td><td>B&#39;s Beverages</td><td>UK</td></tr>",
                            "<tr><td>CONSH</td><td>Consolidated Holdings</td><td>UK</td></tr>",
                            "<tr><td>DRACD</td><td>Drachenblut Delikatessen</td><td>Germany</td></tr>",
                            "<tr><td>EASTC</td><td>Eastern Connection</td><td>UK</td></tr>",
                            "<tr><td>FRANK</td><td>Frankenversand</td><td>Germany</td></tr>",
                            "<tr><td>GREAL</td><td>Great Lakes Food Market</td><td>USA</td></tr>",
                            "<tr><td>HUNGC</td><td>Hungry Coyote Import Store</td><td>USA</td></tr>",
                            "<tr><td>ISLAT</td><td>Island Trading</td><td>UK</td></tr>",
                            "<tr><td>KOENE</td><td>Königlich Essen</td><td>Germany</td></tr>",
                            "<tr><td>LAZYK</td><td>Lazy K Kountry Store</td><td>USA</td></tr>",
                            "<tr><td>LEHMS</td><td>Lehmanns Marktstand</td><td>Germany</td></tr>",
                            "<tr><td>LETSS</td><td>Let&#39;s Stop N Shop</td><td>USA</td></tr>",
                            "<tr><td>LONEP</td><td>Lonesome Pine Restaurant</td><td>USA</td></tr>",
                            "<tr><td>MORGK</td><td>Morgenstern Gesundkost</td><td>Germany</td></tr>",
                            "<tr><td>NORTS</td><td>North/South</td><td>UK</td></tr>",
                            "<tr><td>OLDWO</td><td>Old World Delicatessen</td><td>USA</td></tr>",
                            "<tr><td>OTTIK</td><td>Ottilies Käseladen</td><td>Germany</td></tr>",
                            "<tr><td>QUICK</td><td>QUICK-Stop</td><td>Germany</td></tr>",
                            "<tr><td>RATTC</td><td>Rattlesnake Canyon Grocery</td><td>USA</td></tr>",
                            "<tr><td>SAVEA</td><td>Save-a-lot Markets</td><td>USA</td></tr>",
                            "<tr><td>SEVES</td><td>Seven Seas Imports</td><td>UK</td></tr>",
                            "<tr><td>SPLIR</td><td>Split Rail Beer &amp; Ale</td><td>USA</td></tr>",
                            "<tr><td>THEBI</td><td>The Big Cheese</td><td>USA</td></tr>",
                            "<tr><td>THECR</td><td>The Cracker Box</td><td>USA</td></tr>",
                            "<tr><td>TOMSP</td><td>Toms Spezialitäten</td><td>Germany</td></tr>",
                            "<tr><td>TRAIH</td><td>Trail&#39;s Head Gourmet Provisioners</td><td>USA</td></tr>",
                            "<tr><td>WANDK</td><td>Die Wandernde Kuh</td><td>Germany</td></tr>",
                            "<tr><td>WHITC</td><td>White Clover Markets</td><td>USA</td></tr>",
                            "</table>"
                        ]
                    }
                }
            ],
            "execution_count": 28
        },
        {
            "cell_type": "markdown",
            "source": [
                "### **18\\. Use EXISTS to Check for Record Existence**\n",
                "\n",
                "- **Use Case**: Finding employees with orders.\n",
                "- **Explanation**: EXISTS returns true if a subquery returns any rows."
            ],
            "metadata": {
                "azdata_cell_guid": "2fb66e39-fc06-4368-b06f-00eb0be66ef2"
            },
            "attachments": {}
        },
        {
            "cell_type": "code",
            "source": [
                "SELECT EmployeeID, FirstName, LastName\r\n",
                "FROM dbo.Employees E\r\n",
                "WHERE EXISTS (SELECT 1 FROM dbo.Orders O WHERE O.EmployeeID = E.EmployeeID);"
            ],
            "metadata": {
                "azdata_cell_guid": "0c4200a6-bf8f-4a08-897b-ddf7f4eaf6c6",
                "language": "sql"
            },
            "outputs": [
                {
                    "output_type": "display_data",
                    "data": {
                        "text/html": "(9 rows affected)"
                    },
                    "metadata": {}
                },
                {
                    "output_type": "display_data",
                    "data": {
                        "text/html": "Total execution time: 00:00:00.037"
                    },
                    "metadata": {}
                },
                {
                    "output_type": "execute_result",
                    "metadata": {},
                    "execution_count": 29,
                    "data": {
                        "application/vnd.dataresource+json": {
                            "schema": {
                                "fields": [
                                    {
                                        "name": "EmployeeID"
                                    },
                                    {
                                        "name": "FirstName"
                                    },
                                    {
                                        "name": "LastName"
                                    }
                                ]
                            },
                            "data": [
                                {
                                    "EmployeeID": "9",
                                    "FirstName": "Anne",
                                    "LastName": "Dodsworth"
                                },
                                {
                                    "EmployeeID": "3",
                                    "FirstName": "Janet",
                                    "LastName": "Leverling"
                                },
                                {
                                    "EmployeeID": "6",
                                    "FirstName": "Michael",
                                    "LastName": "Suyama"
                                },
                                {
                                    "EmployeeID": "7",
                                    "FirstName": "Robert",
                                    "LastName": "King"
                                },
                                {
                                    "EmployeeID": "1",
                                    "FirstName": "Nancy",
                                    "LastName": "Davolio"
                                },
                                {
                                    "EmployeeID": "4",
                                    "FirstName": "Margaret",
                                    "LastName": "Peacock"
                                },
                                {
                                    "EmployeeID": "5",
                                    "FirstName": "Steven",
                                    "LastName": "Buchanan"
                                },
                                {
                                    "EmployeeID": "2",
                                    "FirstName": "Andrew",
                                    "LastName": "Fuller"
                                },
                                {
                                    "EmployeeID": "8",
                                    "FirstName": "Laura",
                                    "LastName": "Callahan"
                                }
                            ]
                        },
                        "text/html": [
                            "<table>",
                            "<tr><th>EmployeeID</th><th>FirstName</th><th>LastName</th></tr>",
                            "<tr><td>9</td><td>Anne</td><td>Dodsworth</td></tr>",
                            "<tr><td>3</td><td>Janet</td><td>Leverling</td></tr>",
                            "<tr><td>6</td><td>Michael</td><td>Suyama</td></tr>",
                            "<tr><td>7</td><td>Robert</td><td>King</td></tr>",
                            "<tr><td>1</td><td>Nancy</td><td>Davolio</td></tr>",
                            "<tr><td>4</td><td>Margaret</td><td>Peacock</td></tr>",
                            "<tr><td>5</td><td>Steven</td><td>Buchanan</td></tr>",
                            "<tr><td>2</td><td>Andrew</td><td>Fuller</td></tr>",
                            "<tr><td>8</td><td>Laura</td><td>Callahan</td></tr>",
                            "</table>"
                        ]
                    }
                }
            ],
            "execution_count": 29
        },
        {
            "cell_type": "markdown",
            "source": [
                "### **19\\. Use BETWEEN for Range Queries**\n",
                "\n",
                "- **Use Case**: Finding products priced between $10 and $20.\n",
                "- **Explanation**: BETWEEN filters values within a specified range."
            ],
            "metadata": {
                "azdata_cell_guid": "70613d15-4673-4a25-97f0-981896130355"
            },
            "attachments": {}
        },
        {
            "cell_type": "code",
            "source": [
                "SELECT ProductName, UnitPrice\r\n",
                "FROM dbo.Products\r\n",
                "WHERE UnitPrice BETWEEN 10 AND 20;"
            ],
            "metadata": {
                "azdata_cell_guid": "e23b553f-ca5b-4abf-8df0-64b38bb29df5",
                "language": "sql"
            },
            "outputs": [
                {
                    "output_type": "display_data",
                    "data": {
                        "text/html": "(29 rows affected)"
                    },
                    "metadata": {}
                },
                {
                    "output_type": "display_data",
                    "data": {
                        "text/html": "Total execution time: 00:00:01.544"
                    },
                    "metadata": {}
                },
                {
                    "output_type": "execute_result",
                    "metadata": {},
                    "execution_count": 30,
                    "data": {
                        "application/vnd.dataresource+json": {
                            "schema": {
                                "fields": [
                                    {
                                        "name": "ProductName"
                                    },
                                    {
                                        "name": "UnitPrice"
                                    }
                                ]
                            },
                            "data": [
                                {
                                    "ProductName": "Chai",
                                    "UnitPrice": "18.00"
                                },
                                {
                                    "ProductName": "Chang",
                                    "UnitPrice": "19.00"
                                },
                                {
                                    "ProductName": "Aniseed Syrup",
                                    "UnitPrice": "10.00"
                                },
                                {
                                    "ProductName": "Genen Shouyu",
                                    "UnitPrice": "15.50"
                                },
                                {
                                    "ProductName": "Pavlova",
                                    "UnitPrice": "17.45"
                                },
                                {
                                    "ProductName": "Sir Rodney's Scones",
                                    "UnitPrice": "10.00"
                                },
                                {
                                    "ProductName": "NuNuCa Nuß-Nougat-Creme",
                                    "UnitPrice": "14.00"
                                },
                                {
                                    "ProductName": "Gorgonzola Telino",
                                    "UnitPrice": "12.50"
                                },
                                {
                                    "ProductName": "Sasquatch Ale",
                                    "UnitPrice": "14.00"
                                },
                                {
                                    "ProductName": "Steeleye Stout",
                                    "UnitPrice": "18.00"
                                },
                                {
                                    "ProductName": "Inlagd Sill",
                                    "UnitPrice": "19.00"
                                },
                                {
                                    "ProductName": "Chartreuse verte",
                                    "UnitPrice": "18.00"
                                },
                                {
                                    "ProductName": "Boston Crab Meat",
                                    "UnitPrice": "18.40"
                                },
                                {
                                    "ProductName": "Singaporean Hokkien Fried Mee",
                                    "UnitPrice": "14.00"
                                },
                                {
                                    "ProductName": "Gula Malacca",
                                    "UnitPrice": "19.45"
                                },
                                {
                                    "ProductName": "Spegesild",
                                    "UnitPrice": "12.00"
                                },
                                {
                                    "ProductName": "Chocolade",
                                    "UnitPrice": "12.75"
                                },
                                {
                                    "ProductName": "Maxilaku",
                                    "UnitPrice": "20.00"
                                },
                                {
                                    "ProductName": "Valkoinen suklaa",
                                    "UnitPrice": "16.25"
                                },
                                {
                                    "ProductName": "Ravioli Angelo",
                                    "UnitPrice": "19.50"
                                },
                                {
                                    "ProductName": "Escargots de Bourgogne",
                                    "UnitPrice": "13.25"
                                },
                                {
                                    "ProductName": "Louisiana Hot Spiced Okra",
                                    "UnitPrice": "17.00"
                                },
                                {
                                    "ProductName": "Laughing Lumberjack Lager",
                                    "UnitPrice": "14.00"
                                },
                                {
                                    "ProductName": "Scottish Longbreads",
                                    "UnitPrice": "12.50"
                                },
                                {
                                    "ProductName": "Outback Lager",
                                    "UnitPrice": "15.00"
                                },
                                {
                                    "ProductName": "Röd Kaviar",
                                    "UnitPrice": "15.00"
                                },
                                {
                                    "ProductName": "Longlife Tofu",
                                    "UnitPrice": "10.00"
                                },
                                {
                                    "ProductName": "Lakkalikööri",
                                    "UnitPrice": "18.00"
                                },
                                {
                                    "ProductName": "Original Frankfurter grüne Soße",
                                    "UnitPrice": "13.00"
                                }
                            ]
                        },
                        "text/html": [
                            "<table>",
                            "<tr><th>ProductName</th><th>UnitPrice</th></tr>",
                            "<tr><td>Chai</td><td>18.00</td></tr>",
                            "<tr><td>Chang</td><td>19.00</td></tr>",
                            "<tr><td>Aniseed Syrup</td><td>10.00</td></tr>",
                            "<tr><td>Genen Shouyu</td><td>15.50</td></tr>",
                            "<tr><td>Pavlova</td><td>17.45</td></tr>",
                            "<tr><td>Sir Rodney&#39;s Scones</td><td>10.00</td></tr>",
                            "<tr><td>NuNuCa Nuß-Nougat-Creme</td><td>14.00</td></tr>",
                            "<tr><td>Gorgonzola Telino</td><td>12.50</td></tr>",
                            "<tr><td>Sasquatch Ale</td><td>14.00</td></tr>",
                            "<tr><td>Steeleye Stout</td><td>18.00</td></tr>",
                            "<tr><td>Inlagd Sill</td><td>19.00</td></tr>",
                            "<tr><td>Chartreuse verte</td><td>18.00</td></tr>",
                            "<tr><td>Boston Crab Meat</td><td>18.40</td></tr>",
                            "<tr><td>Singaporean Hokkien Fried Mee</td><td>14.00</td></tr>",
                            "<tr><td>Gula Malacca</td><td>19.45</td></tr>",
                            "<tr><td>Spegesild</td><td>12.00</td></tr>",
                            "<tr><td>Chocolade</td><td>12.75</td></tr>",
                            "<tr><td>Maxilaku</td><td>20.00</td></tr>",
                            "<tr><td>Valkoinen suklaa</td><td>16.25</td></tr>",
                            "<tr><td>Ravioli Angelo</td><td>19.50</td></tr>",
                            "<tr><td>Escargots de Bourgogne</td><td>13.25</td></tr>",
                            "<tr><td>Louisiana Hot Spiced Okra</td><td>17.00</td></tr>",
                            "<tr><td>Laughing Lumberjack Lager</td><td>14.00</td></tr>",
                            "<tr><td>Scottish Longbreads</td><td>12.50</td></tr>",
                            "<tr><td>Outback Lager</td><td>15.00</td></tr>",
                            "<tr><td>Röd Kaviar</td><td>15.00</td></tr>",
                            "<tr><td>Longlife Tofu</td><td>10.00</td></tr>",
                            "<tr><td>Lakkalikööri</td><td>18.00</td></tr>",
                            "<tr><td>Original Frankfurter grüne Soße</td><td>13.00</td></tr>",
                            "</table>"
                        ]
                    }
                }
            ],
            "execution_count": 30
        },
        {
            "cell_type": "markdown",
            "source": [
                "### **20\\. Using CASE for Conditional Logic**\n",
                "\n",
                "- **Use Case**: Labeling employees based on hire date.\n",
                "- **Explanation**: CASE adds conditional logic in SELECT statements."
            ],
            "metadata": {
                "azdata_cell_guid": "6304c5b7-a3f8-4bc3-aeb2-cf6ca2e77a35"
            },
            "attachments": {}
        },
        {
            "cell_type": "code",
            "source": [
                "SELECT FirstName, LastName,\r\n",
                "CASE\r\n",
                "  WHEN HireDate < '2018-01-01' THEN 'Veteran'\r\n",
                "  ELSE 'Newbie'\r\n",
                "END AS Status\r\n",
                "FROM dbo.Employees;"
            ],
            "metadata": {
                "azdata_cell_guid": "dfa7893c-8a64-428f-9d80-ad06e2fa9cb9",
                "language": "sql"
            },
            "outputs": [
                {
                    "output_type": "display_data",
                    "data": {
                        "text/html": "(9 rows affected)"
                    },
                    "metadata": {}
                },
                {
                    "output_type": "display_data",
                    "data": {
                        "text/html": "Total execution time: 00:00:01.070"
                    },
                    "metadata": {}
                },
                {
                    "output_type": "execute_result",
                    "metadata": {},
                    "execution_count": 33,
                    "data": {
                        "application/vnd.dataresource+json": {
                            "schema": {
                                "fields": [
                                    {
                                        "name": "FirstName"
                                    },
                                    {
                                        "name": "LastName"
                                    },
                                    {
                                        "name": "Status"
                                    }
                                ]
                            },
                            "data": [
                                {
                                    "FirstName": "Nancy",
                                    "LastName": "Davolio",
                                    "Status": "Veteran"
                                },
                                {
                                    "FirstName": "Andrew",
                                    "LastName": "Fuller",
                                    "Status": "Veteran"
                                },
                                {
                                    "FirstName": "Janet",
                                    "LastName": "Leverling",
                                    "Status": "Veteran"
                                },
                                {
                                    "FirstName": "Margaret",
                                    "LastName": "Peacock",
                                    "Status": "Newbie"
                                },
                                {
                                    "FirstName": "Steven",
                                    "LastName": "Buchanan",
                                    "Status": "Newbie"
                                },
                                {
                                    "FirstName": "Michael",
                                    "LastName": "Suyama",
                                    "Status": "Newbie"
                                },
                                {
                                    "FirstName": "Robert",
                                    "LastName": "King",
                                    "Status": "Newbie"
                                },
                                {
                                    "FirstName": "Laura",
                                    "LastName": "Callahan",
                                    "Status": "Newbie"
                                },
                                {
                                    "FirstName": "Anne",
                                    "LastName": "Dodsworth",
                                    "Status": "Newbie"
                                }
                            ]
                        },
                        "text/html": [
                            "<table>",
                            "<tr><th>FirstName</th><th>LastName</th><th>Status</th></tr>",
                            "<tr><td>Nancy</td><td>Davolio</td><td>Veteran</td></tr>",
                            "<tr><td>Andrew</td><td>Fuller</td><td>Veteran</td></tr>",
                            "<tr><td>Janet</td><td>Leverling</td><td>Veteran</td></tr>",
                            "<tr><td>Margaret</td><td>Peacock</td><td>Newbie</td></tr>",
                            "<tr><td>Steven</td><td>Buchanan</td><td>Newbie</td></tr>",
                            "<tr><td>Michael</td><td>Suyama</td><td>Newbie</td></tr>",
                            "<tr><td>Robert</td><td>King</td><td>Newbie</td></tr>",
                            "<tr><td>Laura</td><td>Callahan</td><td>Newbie</td></tr>",
                            "<tr><td>Anne</td><td>Dodsworth</td><td>Newbie</td></tr>",
                            "</table>"
                        ]
                    }
                }
            ],
            "execution_count": 33
        },
        {
            "cell_type": "markdown",
            "source": [
                "### **21\\. Use MIN and MAX for Data Range Queries**\n",
                "\n",
                "- **Use Case**: Finding the product with the highest and lowest price in each category.\n",
                "- **Explanation**: MIN and MAX are useful for finding boundary values."
            ],
            "metadata": {
                "azdata_cell_guid": "791adc00-1e38-4a53-a32b-df1fea771838"
            },
            "attachments": {}
        },
        {
            "cell_type": "code",
            "source": [
                "SELECT CategoryID, MIN(UnitPrice) AS MinPrice, MAX(UnitPrice) AS MaxPrice\r\n",
                "FROM dbo.Products\r\n",
                "GROUP BY CategoryID;"
            ],
            "metadata": {
                "azdata_cell_guid": "a669ecb8-3986-4785-9e17-3e39289ef926",
                "language": "sql"
            },
            "outputs": [
                {
                    "output_type": "display_data",
                    "data": {
                        "text/html": "(8 rows affected)"
                    },
                    "metadata": {}
                },
                {
                    "output_type": "display_data",
                    "data": {
                        "text/html": "Total execution time: 00:00:00.616"
                    },
                    "metadata": {}
                },
                {
                    "output_type": "execute_result",
                    "metadata": {},
                    "execution_count": 35,
                    "data": {
                        "application/vnd.dataresource+json": {
                            "schema": {
                                "fields": [
                                    {
                                        "name": "CategoryID"
                                    },
                                    {
                                        "name": "MinPrice"
                                    },
                                    {
                                        "name": "MaxPrice"
                                    }
                                ]
                            },
                            "data": [
                                {
                                    "CategoryID": "1",
                                    "MinPrice": "4.50",
                                    "MaxPrice": "263.50"
                                },
                                {
                                    "CategoryID": "2",
                                    "MinPrice": "10.00",
                                    "MaxPrice": "43.90"
                                },
                                {
                                    "CategoryID": "3",
                                    "MinPrice": "9.20",
                                    "MaxPrice": "81.00"
                                },
                                {
                                    "CategoryID": "4",
                                    "MinPrice": "2.50",
                                    "MaxPrice": "55.00"
                                },
                                {
                                    "CategoryID": "5",
                                    "MinPrice": "7.00",
                                    "MaxPrice": "38.00"
                                },
                                {
                                    "CategoryID": "6",
                                    "MinPrice": "7.45",
                                    "MaxPrice": "123.79"
                                },
                                {
                                    "CategoryID": "7",
                                    "MinPrice": "10.00",
                                    "MaxPrice": "53.00"
                                },
                                {
                                    "CategoryID": "8",
                                    "MinPrice": "6.00",
                                    "MaxPrice": "62.50"
                                }
                            ]
                        },
                        "text/html": [
                            "<table>",
                            "<tr><th>CategoryID</th><th>MinPrice</th><th>MaxPrice</th></tr>",
                            "<tr><td>1</td><td>4.50</td><td>263.50</td></tr>",
                            "<tr><td>2</td><td>10.00</td><td>43.90</td></tr>",
                            "<tr><td>3</td><td>9.20</td><td>81.00</td></tr>",
                            "<tr><td>4</td><td>2.50</td><td>55.00</td></tr>",
                            "<tr><td>5</td><td>7.00</td><td>38.00</td></tr>",
                            "<tr><td>6</td><td>7.45</td><td>123.79</td></tr>",
                            "<tr><td>7</td><td>10.00</td><td>53.00</td></tr>",
                            "<tr><td>8</td><td>6.00</td><td>62.50</td></tr>",
                            "</table>"
                        ]
                    }
                }
            ],
            "execution_count": 35
        },
        {
            "cell_type": "markdown",
            "source": [
                "### **22\\. Using Window Functions: ROW\\_NUMBER()**\n",
                "\n",
                "- **Use Case**: Ranking products by price.\n",
                "- **Explanation**: Window functions operate on a set of rows."
            ],
            "metadata": {
                "azdata_cell_guid": "4ee01e76-6d2b-4f17-86a6-596ee92591bc"
            },
            "attachments": {}
        },
        {
            "cell_type": "code",
            "source": [
                "SELECT ProductName, UnitPrice,\r\n",
                "ROW_NUMBER() OVER (ORDER BY UnitPrice DESC) AS PriceRank\r\n",
                "FROM dbo.Products;"
            ],
            "metadata": {
                "azdata_cell_guid": "84d7475f-796e-4825-95b9-e2a3dfbeb824",
                "language": "sql"
            },
            "outputs": [
                {
                    "output_type": "display_data",
                    "data": {
                        "text/html": "(77 rows affected)"
                    },
                    "metadata": {}
                },
                {
                    "output_type": "display_data",
                    "data": {
                        "text/html": "Total execution time: 00:00:01.589"
                    },
                    "metadata": {}
                },
                {
                    "output_type": "execute_result",
                    "metadata": {},
                    "execution_count": 34,
                    "data": {
                        "application/vnd.dataresource+json": {
                            "schema": {
                                "fields": [
                                    {
                                        "name": "ProductName"
                                    },
                                    {
                                        "name": "UnitPrice"
                                    },
                                    {
                                        "name": "PriceRank"
                                    }
                                ]
                            },
                            "data": [
                                {
                                    "ProductName": "Côte de Blaye",
                                    "UnitPrice": "263.50",
                                    "PriceRank": "1"
                                },
                                {
                                    "ProductName": "Thüringer Rostbratwurst",
                                    "UnitPrice": "123.79",
                                    "PriceRank": "2"
                                },
                                {
                                    "ProductName": "Mishi Kobe Niku",
                                    "UnitPrice": "97.00",
                                    "PriceRank": "3"
                                },
                                {
                                    "ProductName": "Sir Rodney's Marmalade",
                                    "UnitPrice": "81.00",
                                    "PriceRank": "4"
                                },
                                {
                                    "ProductName": "Carnarvon Tigers",
                                    "UnitPrice": "62.50",
                                    "PriceRank": "5"
                                },
                                {
                                    "ProductName": "Raclette Courdavault",
                                    "UnitPrice": "55.00",
                                    "PriceRank": "6"
                                },
                                {
                                    "ProductName": "Manjimup Dried Apples",
                                    "UnitPrice": "53.00",
                                    "PriceRank": "7"
                                },
                                {
                                    "ProductName": "Tarte au sucre",
                                    "UnitPrice": "49.30",
                                    "PriceRank": "8"
                                },
                                {
                                    "ProductName": "Ipoh Coffee",
                                    "UnitPrice": "46.00",
                                    "PriceRank": "9"
                                },
                                {
                                    "ProductName": "Rössle Sauerkraut",
                                    "UnitPrice": "45.60",
                                    "PriceRank": "10"
                                },
                                {
                                    "ProductName": "Schoggi Schokolade",
                                    "UnitPrice": "43.90",
                                    "PriceRank": "11"
                                },
                                {
                                    "ProductName": "Vegie-spread",
                                    "UnitPrice": "43.90",
                                    "PriceRank": "12"
                                },
                                {
                                    "ProductName": "Northwoods Cranberry Sauce",
                                    "UnitPrice": "40.00",
                                    "PriceRank": "13"
                                },
                                {
                                    "ProductName": "Alice Mutton",
                                    "UnitPrice": "39.00",
                                    "PriceRank": "14"
                                },
                                {
                                    "ProductName": "Queso Manchego La Pastora",
                                    "UnitPrice": "38.00",
                                    "PriceRank": "15"
                                },
                                {
                                    "ProductName": "Gnocchi di nonna Alice",
                                    "UnitPrice": "38.00",
                                    "PriceRank": "16"
                                },
                                {
                                    "ProductName": "Gudbrandsdalsost",
                                    "UnitPrice": "36.00",
                                    "PriceRank": "17"
                                },
                                {
                                    "ProductName": "Mozzarella di Giovanni",
                                    "UnitPrice": "34.80",
                                    "PriceRank": "18"
                                },
                                {
                                    "ProductName": "Camembert Pierrot",
                                    "UnitPrice": "34.00",
                                    "PriceRank": "19"
                                },
                                {
                                    "ProductName": "Wimmers gute Semmelknödel",
                                    "UnitPrice": "33.25",
                                    "PriceRank": "20"
                                },
                                {
                                    "ProductName": "Perth Pasties",
                                    "UnitPrice": "32.80",
                                    "PriceRank": "21"
                                },
                                {
                                    "ProductName": "Mascarpone Fabioli",
                                    "UnitPrice": "32.00",
                                    "PriceRank": "22"
                                },
                                {
                                    "ProductName": "Gumbär Gummibärchen",
                                    "UnitPrice": "31.23",
                                    "PriceRank": "23"
                                },
                                {
                                    "ProductName": "Ikura",
                                    "UnitPrice": "31.00",
                                    "PriceRank": "24"
                                },
                                {
                                    "ProductName": "Uncle Bob's Organic Dried Pears",
                                    "UnitPrice": "30.00",
                                    "PriceRank": "25"
                                },
                                {
                                    "ProductName": "Sirop d'érable",
                                    "UnitPrice": "28.50",
                                    "PriceRank": "26"
                                },
                                {
                                    "ProductName": "Gravad lax",
                                    "UnitPrice": "26.00",
                                    "PriceRank": "27"
                                },
                                {
                                    "ProductName": "Nord-Ost Matjeshering",
                                    "UnitPrice": "25.89",
                                    "PriceRank": "28"
                                },
                                {
                                    "ProductName": "Grandma's Boysenberry Spread",
                                    "UnitPrice": "25.00",
                                    "PriceRank": "29"
                                },
                                {
                                    "ProductName": "Pâté chinois",
                                    "UnitPrice": "24.00",
                                    "PriceRank": "30"
                                },
                                {
                                    "ProductName": "Tofu",
                                    "UnitPrice": "23.25",
                                    "PriceRank": "31"
                                },
                                {
                                    "ProductName": "Chef Anton's Cajun Seasoning",
                                    "UnitPrice": "22.00",
                                    "PriceRank": "32"
                                },
                                {
                                    "ProductName": "Flotemysost",
                                    "UnitPrice": "21.50",
                                    "PriceRank": "33"
                                },
                                {
                                    "ProductName": "Chef Anton's Gumbo Mix",
                                    "UnitPrice": "21.35",
                                    "PriceRank": "34"
                                },
                                {
                                    "ProductName": "Louisiana Fiery Hot Pepper Sauce",
                                    "UnitPrice": "21.05",
                                    "PriceRank": "35"
                                },
                                {
                                    "ProductName": "Queso Cabrales",
                                    "UnitPrice": "21.00",
                                    "PriceRank": "36"
                                },
                                {
                                    "ProductName": "Gustaf's Knäckebröd",
                                    "UnitPrice": "21.00",
                                    "PriceRank": "37"
                                },
                                {
                                    "ProductName": "Maxilaku",
                                    "UnitPrice": "20.00",
                                    "PriceRank": "38"
                                },
                                {
                                    "ProductName": "Ravioli Angelo",
                                    "UnitPrice": "19.50",
                                    "PriceRank": "39"
                                },
                                {
                                    "ProductName": "Gula Malacca",
                                    "UnitPrice": "19.45",
                                    "PriceRank": "40"
                                },
                                {
                                    "ProductName": "Inlagd Sill",
                                    "UnitPrice": "19.00",
                                    "PriceRank": "41"
                                },
                                {
                                    "ProductName": "Chang",
                                    "UnitPrice": "19.00",
                                    "PriceRank": "42"
                                },
                                {
                                    "ProductName": "Boston Crab Meat",
                                    "UnitPrice": "18.40",
                                    "PriceRank": "43"
                                },
                                {
                                    "ProductName": "Chartreuse verte",
                                    "UnitPrice": "18.00",
                                    "PriceRank": "44"
                                },
                                {
                                    "ProductName": "Chai",
                                    "UnitPrice": "18.00",
                                    "PriceRank": "45"
                                },
                                {
                                    "ProductName": "Steeleye Stout",
                                    "UnitPrice": "18.00",
                                    "PriceRank": "46"
                                },
                                {
                                    "ProductName": "Lakkalikööri",
                                    "UnitPrice": "18.00",
                                    "PriceRank": "47"
                                },
                                {
                                    "ProductName": "Pavlova",
                                    "UnitPrice": "17.45",
                                    "PriceRank": "48"
                                },
                                {
                                    "ProductName": "Louisiana Hot Spiced Okra",
                                    "UnitPrice": "17.00",
                                    "PriceRank": "49"
                                },
                                {
                                    "ProductName": "Valkoinen suklaa",
                                    "UnitPrice": "16.25",
                                    "PriceRank": "50"
                                },
                                {
                                    "ProductName": "Genen Shouyu",
                                    "UnitPrice": "15.50",
                                    "PriceRank": "51"
                                },
                                {
                                    "ProductName": "Outback Lager",
                                    "UnitPrice": "15.00",
                                    "PriceRank": "52"
                                },
                                {
                                    "ProductName": "Röd Kaviar",
                                    "UnitPrice": "15.00",
                                    "PriceRank": "53"
                                },
                                {
                                    "ProductName": "Laughing Lumberjack Lager",
                                    "UnitPrice": "14.00",
                                    "PriceRank": "54"
                                },
                                {
                                    "ProductName": "Singaporean Hokkien Fried Mee",
                                    "UnitPrice": "14.00",
                                    "PriceRank": "55"
                                },
                                {
                                    "ProductName": "Sasquatch Ale",
                                    "UnitPrice": "14.00",
                                    "PriceRank": "56"
                                },
                                {
                                    "ProductName": "NuNuCa Nuß-Nougat-Creme",
                                    "UnitPrice": "14.00",
                                    "PriceRank": "57"
                                },
                                {
                                    "ProductName": "Escargots de Bourgogne",
                                    "UnitPrice": "13.25",
                                    "PriceRank": "58"
                                },
                                {
                                    "ProductName": "Original Frankfurter grüne Soße",
                                    "UnitPrice": "13.00",
                                    "PriceRank": "59"
                                },
                                {
                                    "ProductName": "Chocolade",
                                    "UnitPrice": "12.75",
                                    "PriceRank": "60"
                                },
                                {
                                    "ProductName": "Scottish Longbreads",
                                    "UnitPrice": "12.50",
                                    "PriceRank": "61"
                                },
                                {
                                    "ProductName": "Gorgonzola Telino",
                                    "UnitPrice": "12.50",
                                    "PriceRank": "62"
                                },
                                {
                                    "ProductName": "Spegesild",
                                    "UnitPrice": "12.00",
                                    "PriceRank": "63"
                                },
                                {
                                    "ProductName": "Longlife Tofu",
                                    "UnitPrice": "10.00",
                                    "PriceRank": "64"
                                },
                                {
                                    "ProductName": "Sir Rodney's Scones",
                                    "UnitPrice": "10.00",
                                    "PriceRank": "65"
                                },
                                {
                                    "ProductName": "Aniseed Syrup",
                                    "UnitPrice": "10.00",
                                    "PriceRank": "66"
                                },
                                {
                                    "ProductName": "Jack's New England Clam Chowder",
                                    "UnitPrice": "9.65",
                                    "PriceRank": "67"
                                },
                                {
                                    "ProductName": "Rogede sild",
                                    "UnitPrice": "9.50",
                                    "PriceRank": "68"
                                },
                                {
                                    "ProductName": "Zaanse koeken",
                                    "UnitPrice": "9.50",
                                    "PriceRank": "69"
                                },
                                {
                                    "ProductName": "Teatime Chocolate Biscuits",
                                    "UnitPrice": "9.20",
                                    "PriceRank": "70"
                                },
                                {
                                    "ProductName": "Tunnbröd",
                                    "UnitPrice": "9.00",
                                    "PriceRank": "71"
                                },
                                {
                                    "ProductName": "Rhönbräu Klosterbier",
                                    "UnitPrice": "7.75",
                                    "PriceRank": "72"
                                },
                                {
                                    "ProductName": "Tourtière",
                                    "UnitPrice": "7.45",
                                    "PriceRank": "73"
                                },
                                {
                                    "ProductName": "Filo Mix",
                                    "UnitPrice": "7.00",
                                    "PriceRank": "74"
                                },
                                {
                                    "ProductName": "Konbu",
                                    "UnitPrice": "6.00",
                                    "PriceRank": "75"
                                },
                                {
                                    "ProductName": "Guaraná Fantástica",
                                    "UnitPrice": "4.50",
                                    "PriceRank": "76"
                                },
                                {
                                    "ProductName": "Geitost",
                                    "UnitPrice": "2.50",
                                    "PriceRank": "77"
                                }
                            ]
                        },
                        "text/html": [
                            "<table>",
                            "<tr><th>ProductName</th><th>UnitPrice</th><th>PriceRank</th></tr>",
                            "<tr><td>Côte de Blaye</td><td>263.50</td><td>1</td></tr>",
                            "<tr><td>Thüringer Rostbratwurst</td><td>123.79</td><td>2</td></tr>",
                            "<tr><td>Mishi Kobe Niku</td><td>97.00</td><td>3</td></tr>",
                            "<tr><td>Sir Rodney&#39;s Marmalade</td><td>81.00</td><td>4</td></tr>",
                            "<tr><td>Carnarvon Tigers</td><td>62.50</td><td>5</td></tr>",
                            "<tr><td>Raclette Courdavault</td><td>55.00</td><td>6</td></tr>",
                            "<tr><td>Manjimup Dried Apples</td><td>53.00</td><td>7</td></tr>",
                            "<tr><td>Tarte au sucre</td><td>49.30</td><td>8</td></tr>",
                            "<tr><td>Ipoh Coffee</td><td>46.00</td><td>9</td></tr>",
                            "<tr><td>Rössle Sauerkraut</td><td>45.60</td><td>10</td></tr>",
                            "<tr><td>Schoggi Schokolade</td><td>43.90</td><td>11</td></tr>",
                            "<tr><td>Vegie-spread</td><td>43.90</td><td>12</td></tr>",
                            "<tr><td>Northwoods Cranberry Sauce</td><td>40.00</td><td>13</td></tr>",
                            "<tr><td>Alice Mutton</td><td>39.00</td><td>14</td></tr>",
                            "<tr><td>Queso Manchego La Pastora</td><td>38.00</td><td>15</td></tr>",
                            "<tr><td>Gnocchi di nonna Alice</td><td>38.00</td><td>16</td></tr>",
                            "<tr><td>Gudbrandsdalsost</td><td>36.00</td><td>17</td></tr>",
                            "<tr><td>Mozzarella di Giovanni</td><td>34.80</td><td>18</td></tr>",
                            "<tr><td>Camembert Pierrot</td><td>34.00</td><td>19</td></tr>",
                            "<tr><td>Wimmers gute Semmelknödel</td><td>33.25</td><td>20</td></tr>",
                            "<tr><td>Perth Pasties</td><td>32.80</td><td>21</td></tr>",
                            "<tr><td>Mascarpone Fabioli</td><td>32.00</td><td>22</td></tr>",
                            "<tr><td>Gumbär Gummibärchen</td><td>31.23</td><td>23</td></tr>",
                            "<tr><td>Ikura</td><td>31.00</td><td>24</td></tr>",
                            "<tr><td>Uncle Bob&#39;s Organic Dried Pears</td><td>30.00</td><td>25</td></tr>",
                            "<tr><td>Sirop d&#39;érable</td><td>28.50</td><td>26</td></tr>",
                            "<tr><td>Gravad lax</td><td>26.00</td><td>27</td></tr>",
                            "<tr><td>Nord-Ost Matjeshering</td><td>25.89</td><td>28</td></tr>",
                            "<tr><td>Grandma&#39;s Boysenberry Spread</td><td>25.00</td><td>29</td></tr>",
                            "<tr><td>Pâté chinois</td><td>24.00</td><td>30</td></tr>",
                            "<tr><td>Tofu</td><td>23.25</td><td>31</td></tr>",
                            "<tr><td>Chef Anton&#39;s Cajun Seasoning</td><td>22.00</td><td>32</td></tr>",
                            "<tr><td>Flotemysost</td><td>21.50</td><td>33</td></tr>",
                            "<tr><td>Chef Anton&#39;s Gumbo Mix</td><td>21.35</td><td>34</td></tr>",
                            "<tr><td>Louisiana Fiery Hot Pepper Sauce</td><td>21.05</td><td>35</td></tr>",
                            "<tr><td>Queso Cabrales</td><td>21.00</td><td>36</td></tr>",
                            "<tr><td>Gustaf&#39;s Knäckebröd</td><td>21.00</td><td>37</td></tr>",
                            "<tr><td>Maxilaku</td><td>20.00</td><td>38</td></tr>",
                            "<tr><td>Ravioli Angelo</td><td>19.50</td><td>39</td></tr>",
                            "<tr><td>Gula Malacca</td><td>19.45</td><td>40</td></tr>",
                            "<tr><td>Inlagd Sill</td><td>19.00</td><td>41</td></tr>",
                            "<tr><td>Chang</td><td>19.00</td><td>42</td></tr>",
                            "<tr><td>Boston Crab Meat</td><td>18.40</td><td>43</td></tr>",
                            "<tr><td>Chartreuse verte</td><td>18.00</td><td>44</td></tr>",
                            "<tr><td>Chai</td><td>18.00</td><td>45</td></tr>",
                            "<tr><td>Steeleye Stout</td><td>18.00</td><td>46</td></tr>",
                            "<tr><td>Lakkalikööri</td><td>18.00</td><td>47</td></tr>",
                            "<tr><td>Pavlova</td><td>17.45</td><td>48</td></tr>",
                            "<tr><td>Louisiana Hot Spiced Okra</td><td>17.00</td><td>49</td></tr>",
                            "<tr><td>Valkoinen suklaa</td><td>16.25</td><td>50</td></tr>",
                            "<tr><td>Genen Shouyu</td><td>15.50</td><td>51</td></tr>",
                            "<tr><td>Outback Lager</td><td>15.00</td><td>52</td></tr>",
                            "<tr><td>Röd Kaviar</td><td>15.00</td><td>53</td></tr>",
                            "<tr><td>Laughing Lumberjack Lager</td><td>14.00</td><td>54</td></tr>",
                            "<tr><td>Singaporean Hokkien Fried Mee</td><td>14.00</td><td>55</td></tr>",
                            "<tr><td>Sasquatch Ale</td><td>14.00</td><td>56</td></tr>",
                            "<tr><td>NuNuCa Nuß-Nougat-Creme</td><td>14.00</td><td>57</td></tr>",
                            "<tr><td>Escargots de Bourgogne</td><td>13.25</td><td>58</td></tr>",
                            "<tr><td>Original Frankfurter grüne Soße</td><td>13.00</td><td>59</td></tr>",
                            "<tr><td>Chocolade</td><td>12.75</td><td>60</td></tr>",
                            "<tr><td>Scottish Longbreads</td><td>12.50</td><td>61</td></tr>",
                            "<tr><td>Gorgonzola Telino</td><td>12.50</td><td>62</td></tr>",
                            "<tr><td>Spegesild</td><td>12.00</td><td>63</td></tr>",
                            "<tr><td>Longlife Tofu</td><td>10.00</td><td>64</td></tr>",
                            "<tr><td>Sir Rodney&#39;s Scones</td><td>10.00</td><td>65</td></tr>",
                            "<tr><td>Aniseed Syrup</td><td>10.00</td><td>66</td></tr>",
                            "<tr><td>Jack&#39;s New England Clam Chowder</td><td>9.65</td><td>67</td></tr>",
                            "<tr><td>Rogede sild</td><td>9.50</td><td>68</td></tr>",
                            "<tr><td>Zaanse koeken</td><td>9.50</td><td>69</td></tr>",
                            "<tr><td>Teatime Chocolate Biscuits</td><td>9.20</td><td>70</td></tr>",
                            "<tr><td>Tunnbröd</td><td>9.00</td><td>71</td></tr>",
                            "<tr><td>Rhönbräu Klosterbier</td><td>7.75</td><td>72</td></tr>",
                            "<tr><td>Tourtière</td><td>7.45</td><td>73</td></tr>",
                            "<tr><td>Filo Mix</td><td>7.00</td><td>74</td></tr>",
                            "<tr><td>Konbu</td><td>6.00</td><td>75</td></tr>",
                            "<tr><td>Guaraná Fantástica</td><td>4.50</td><td>76</td></tr>",
                            "<tr><td>Geitost</td><td>2.50</td><td>77</td></tr>",
                            "</table>"
                        ]
                    }
                }
            ],
            "execution_count": 34
        },
        {
            "cell_type": "markdown",
            "source": [
                "### **23\\. Use COUNT for Summarizing Data**\n",
                "\n",
                "### \n",
                "\n",
                "- **Use Case**: Counting the number of orders placed by each customer.\n",
                "- **Explanation**: COUNT provides the total number of rows matching the query."
            ],
            "metadata": {
                "azdata_cell_guid": "b27a54fd-8351-40c9-9573-ec31cae3faff"
            },
            "attachments": {}
        },
        {
            "cell_type": "code",
            "source": [
                "SELECT CustomerID, COUNT(OrderID) AS TotalOrders\r\n",
                "FROM dbo.Orders\r\n",
                "GROUP BY CustomerID;"
            ],
            "metadata": {
                "azdata_cell_guid": "f7ff17dc-d1b6-4c35-96c3-86bec3f787a0",
                "language": "sql"
            },
            "outputs": [
                {
                    "output_type": "display_data",
                    "data": {
                        "text/html": "(5 rows affected)"
                    },
                    "metadata": {}
                },
                {
                    "output_type": "display_data",
                    "data": {
                        "text/html": "Total execution time: 00:00:00.512"
                    },
                    "metadata": {}
                },
                {
                    "output_type": "execute_result",
                    "metadata": {},
                    "execution_count": 36,
                    "data": {
                        "application/vnd.dataresource+json": {
                            "schema": {
                                "fields": [
                                    {
                                        "name": "ProductName"
                                    },
                                    {
                                        "name": "UnitPrice"
                                    }
                                ]
                            },
                            "data": [
                                {
                                    "ProductName": "Côte de Blaye",
                                    "UnitPrice": "263.50"
                                },
                                {
                                    "ProductName": "Thüringer Rostbratwurst",
                                    "UnitPrice": "123.79"
                                },
                                {
                                    "ProductName": "Mishi Kobe Niku",
                                    "UnitPrice": "97.00"
                                },
                                {
                                    "ProductName": "Sir Rodney's Marmalade",
                                    "UnitPrice": "81.00"
                                },
                                {
                                    "ProductName": "Carnarvon Tigers",
                                    "UnitPrice": "62.50"
                                }
                            ]
                        },
                        "text/html": [
                            "<table>",
                            "<tr><th>ProductName</th><th>UnitPrice</th></tr>",
                            "<tr><td>Côte de Blaye</td><td>263.50</td></tr>",
                            "<tr><td>Thüringer Rostbratwurst</td><td>123.79</td></tr>",
                            "<tr><td>Mishi Kobe Niku</td><td>97.00</td></tr>",
                            "<tr><td>Sir Rodney&#39;s Marmalade</td><td>81.00</td></tr>",
                            "<tr><td>Carnarvon Tigers</td><td>62.50</td></tr>",
                            "</table>"
                        ]
                    }
                }
            ],
            "execution_count": 36
        },
        {
            "cell_type": "markdown",
            "source": [
                "### **24\\. Use NOT for Exclusion of Specific Data**\n",
                "\n",
                "- **Use Case**: Finding customers who are not located in the USA or Canada.\n",
                "- **Explanation**: NOT allows for excluding specific rows based on a condition."
            ],
            "metadata": {
                "azdata_cell_guid": "a23093e0-3a3f-418c-87f9-19170812adc9"
            },
            "attachments": {}
        },
        {
            "cell_type": "code",
            "source": [
                "SELECT TOP 10 CustomerID, CompanyName, Country\r\n",
                "FROM dbo.Customers\r\n",
                "WHERE Country NOT IN ('USA', 'Canada');"
            ],
            "metadata": {
                "azdata_cell_guid": "52ce0a17-9789-47dc-b2b8-31ab6bbd5f90",
                "language": "sql"
            },
            "outputs": [
                {
                    "output_type": "display_data",
                    "data": {
                        "text/html": "(75 rows affected)"
                    },
                    "metadata": {}
                },
                {
                    "output_type": "display_data",
                    "data": {
                        "text/html": "Total execution time: 00:00:01.023"
                    },
                    "metadata": {}
                },
                {
                    "output_type": "execute_result",
                    "metadata": {},
                    "execution_count": 37,
                    "data": {
                        "application/vnd.dataresource+json": {
                            "schema": {
                                "fields": [
                                    {
                                        "name": "CustomerID"
                                    },
                                    {
                                        "name": "CompanyName"
                                    },
                                    {
                                        "name": "Country"
                                    }
                                ]
                            },
                            "data": [
                                {
                                    "CustomerID": "ALFKI",
                                    "CompanyName": "Alfreds Futterkiste",
                                    "Country": "Germany"
                                },
                                {
                                    "CustomerID": "ANATR",
                                    "CompanyName": "Ana Trujillo Emparedados y helados",
                                    "Country": "Mexico"
                                },
                                {
                                    "CustomerID": "ANTON",
                                    "CompanyName": "Antonio Moreno Taquería",
                                    "Country": "Mexico"
                                },
                                {
                                    "CustomerID": "AROUT",
                                    "CompanyName": "Around the Horn",
                                    "Country": "UK"
                                },
                                {
                                    "CustomerID": "BERGS",
                                    "CompanyName": "Berglunds snabbköp",
                                    "Country": "Sweden"
                                },
                                {
                                    "CustomerID": "BLAUS",
                                    "CompanyName": "Blauer See Delikatessen",
                                    "Country": "Germany"
                                },
                                {
                                    "CustomerID": "BLONP",
                                    "CompanyName": "Blondesddsl père et fils",
                                    "Country": "France"
                                },
                                {
                                    "CustomerID": "BOLID",
                                    "CompanyName": "Bólido Comidas preparadas",
                                    "Country": "Spain"
                                },
                                {
                                    "CustomerID": "BONAP",
                                    "CompanyName": "Bon app'",
                                    "Country": "France"
                                },
                                {
                                    "CustomerID": "BSBEV",
                                    "CompanyName": "B's Beverages",
                                    "Country": "UK"
                                },
                                {
                                    "CustomerID": "CACTU",
                                    "CompanyName": "Cactus Comidas para llevar",
                                    "Country": "Argentina"
                                },
                                {
                                    "CustomerID": "CENTC",
                                    "CompanyName": "Centro comercial Moctezuma",
                                    "Country": "Mexico"
                                },
                                {
                                    "CustomerID": "CHOPS",
                                    "CompanyName": "Chop-suey Chinese",
                                    "Country": "Switzerland"
                                },
                                {
                                    "CustomerID": "COMMI",
                                    "CompanyName": "Comércio Mineiro",
                                    "Country": "Brazil"
                                },
                                {
                                    "CustomerID": "CONSH",
                                    "CompanyName": "Consolidated Holdings",
                                    "Country": "UK"
                                },
                                {
                                    "CustomerID": "DRACD",
                                    "CompanyName": "Drachenblut Delikatessen",
                                    "Country": "Germany"
                                },
                                {
                                    "CustomerID": "DUMON",
                                    "CompanyName": "Du monde entier",
                                    "Country": "France"
                                },
                                {
                                    "CustomerID": "EASTC",
                                    "CompanyName": "Eastern Connection",
                                    "Country": "UK"
                                },
                                {
                                    "CustomerID": "ERNSH",
                                    "CompanyName": "Ernst Handel",
                                    "Country": "Austria"
                                },
                                {
                                    "CustomerID": "FAMIA",
                                    "CompanyName": "Familia Arquibaldo",
                                    "Country": "Brazil"
                                },
                                {
                                    "CustomerID": "FISSA",
                                    "CompanyName": "FISSA Fabrica Inter. Salchichas S.A.",
                                    "Country": "Spain"
                                },
                                {
                                    "CustomerID": "FOLIG",
                                    "CompanyName": "Folies gourmandes",
                                    "Country": "France"
                                },
                                {
                                    "CustomerID": "FOLKO",
                                    "CompanyName": "Folk och fä HB",
                                    "Country": "Sweden"
                                },
                                {
                                    "CustomerID": "FRANK",
                                    "CompanyName": "Frankenversand",
                                    "Country": "Germany"
                                },
                                {
                                    "CustomerID": "FRANR",
                                    "CompanyName": "France restauration",
                                    "Country": "France"
                                },
                                {
                                    "CustomerID": "FRANS",
                                    "CompanyName": "Franchi S.p.A.",
                                    "Country": "Italy"
                                },
                                {
                                    "CustomerID": "FURIB",
                                    "CompanyName": "Furia Bacalhau e Frutos do Mar",
                                    "Country": "Portugal"
                                },
                                {
                                    "CustomerID": "GALED",
                                    "CompanyName": "Galería del gastrónomo",
                                    "Country": "Spain"
                                },
                                {
                                    "CustomerID": "GODOS",
                                    "CompanyName": "Godos Cocina Típica",
                                    "Country": "Spain"
                                },
                                {
                                    "CustomerID": "GOURL",
                                    "CompanyName": "Gourmet Lanchonetes",
                                    "Country": "Brazil"
                                },
                                {
                                    "CustomerID": "GROSR",
                                    "CompanyName": "GROSELLA-Restaurante",
                                    "Country": "Venezuela"
                                },
                                {
                                    "CustomerID": "HANAR",
                                    "CompanyName": "Hanari Carnes",
                                    "Country": "Brazil"
                                },
                                {
                                    "CustomerID": "HILAA",
                                    "CompanyName": "HILARION-Abastos",
                                    "Country": "Venezuela"
                                },
                                {
                                    "CustomerID": "HUNGO",
                                    "CompanyName": "Hungry Owl All-Night Grocers",
                                    "Country": "Ireland"
                                },
                                {
                                    "CustomerID": "ISLAT",
                                    "CompanyName": "Island Trading",
                                    "Country": "UK"
                                },
                                {
                                    "CustomerID": "KOENE",
                                    "CompanyName": "Königlich Essen",
                                    "Country": "Germany"
                                },
                                {
                                    "CustomerID": "LACOR",
                                    "CompanyName": "La corne d'abondance",
                                    "Country": "France"
                                },
                                {
                                    "CustomerID": "LAMAI",
                                    "CompanyName": "La maison d'Asie",
                                    "Country": "France"
                                },
                                {
                                    "CustomerID": "LEHMS",
                                    "CompanyName": "Lehmanns Marktstand",
                                    "Country": "Germany"
                                },
                                {
                                    "CustomerID": "LILAS",
                                    "CompanyName": "LILA-Supermercado",
                                    "Country": "Venezuela"
                                },
                                {
                                    "CustomerID": "LINOD",
                                    "CompanyName": "LINO-Delicateses",
                                    "Country": "Venezuela"
                                },
                                {
                                    "CustomerID": "MAGAA",
                                    "CompanyName": "Magazzini Alimentari Riuniti",
                                    "Country": "Italy"
                                },
                                {
                                    "CustomerID": "MAISD",
                                    "CompanyName": "Maison Dewey",
                                    "Country": "Belgium"
                                },
                                {
                                    "CustomerID": "MORGK",
                                    "CompanyName": "Morgenstern Gesundkost",
                                    "Country": "Germany"
                                },
                                {
                                    "CustomerID": "NORTS",
                                    "CompanyName": "North/South",
                                    "Country": "UK"
                                },
                                {
                                    "CustomerID": "OCEAN",
                                    "CompanyName": "Océano Atlántico Ltda.",
                                    "Country": "Argentina"
                                },
                                {
                                    "CustomerID": "OTTIK",
                                    "CompanyName": "Ottilies Käseladen",
                                    "Country": "Germany"
                                },
                                {
                                    "CustomerID": "PARIS",
                                    "CompanyName": "Paris spécialités",
                                    "Country": "France"
                                },
                                {
                                    "CustomerID": "PERIC",
                                    "CompanyName": "Pericles Comidas clásicas",
                                    "Country": "Mexico"
                                },
                                {
                                    "CustomerID": "PICCO",
                                    "CompanyName": "Piccolo und mehr",
                                    "Country": "Austria"
                                },
                                {
                                    "CustomerID": "PRINI",
                                    "CompanyName": "Princesa Isabel Vinhos",
                                    "Country": "Portugal"
                                },
                                {
                                    "CustomerID": "QUEDE",
                                    "CompanyName": "Que Delícia",
                                    "Country": "Brazil"
                                },
                                {
                                    "CustomerID": "QUEEN",
                                    "CompanyName": "Queen Cozinha",
                                    "Country": "Brazil"
                                },
                                {
                                    "CustomerID": "QUICK",
                                    "CompanyName": "QUICK-Stop",
                                    "Country": "Germany"
                                },
                                {
                                    "CustomerID": "RANCH",
                                    "CompanyName": "Rancho grande",
                                    "Country": "Argentina"
                                },
                                {
                                    "CustomerID": "REGGC",
                                    "CompanyName": "Reggiani Caseifici",
                                    "Country": "Italy"
                                },
                                {
                                    "CustomerID": "RICAR",
                                    "CompanyName": "Ricardo Adocicados",
                                    "Country": "Brazil"
                                },
                                {
                                    "CustomerID": "RICSU",
                                    "CompanyName": "Richter Supermarkt",
                                    "Country": "Switzerland"
                                },
                                {
                                    "CustomerID": "ROMEY",
                                    "CompanyName": "Romero y tomillo",
                                    "Country": "Spain"
                                },
                                {
                                    "CustomerID": "SANTG",
                                    "CompanyName": "Santé Gourmet",
                                    "Country": "Norway"
                                },
                                {
                                    "CustomerID": "SEVES",
                                    "CompanyName": "Seven Seas Imports",
                                    "Country": "UK"
                                },
                                {
                                    "CustomerID": "SIMOB",
                                    "CompanyName": "Simons bistro",
                                    "Country": "Denmark"
                                },
                                {
                                    "CustomerID": "SPECD",
                                    "CompanyName": "Spécialités du monde",
                                    "Country": "France"
                                },
                                {
                                    "CustomerID": "SUPRD",
                                    "CompanyName": "Suprêmes délices",
                                    "Country": "Belgium"
                                },
                                {
                                    "CustomerID": "TOMSP",
                                    "CompanyName": "Toms Spezialitäten",
                                    "Country": "Germany"
                                },
                                {
                                    "CustomerID": "TORTU",
                                    "CompanyName": "Tortuga Restaurante",
                                    "Country": "Mexico"
                                },
                                {
                                    "CustomerID": "TRADH",
                                    "CompanyName": "Tradição Hipermercados",
                                    "Country": "Brazil"
                                },
                                {
                                    "CustomerID": "VAFFE",
                                    "CompanyName": "Vaffeljernet",
                                    "Country": "Denmark"
                                },
                                {
                                    "CustomerID": "VICTE",
                                    "CompanyName": "Victuailles en stock",
                                    "Country": "France"
                                },
                                {
                                    "CustomerID": "VINET",
                                    "CompanyName": "Vins et alcools Chevalier",
                                    "Country": "France"
                                },
                                {
                                    "CustomerID": "WANDK",
                                    "CompanyName": "Die Wandernde Kuh",
                                    "Country": "Germany"
                                },
                                {
                                    "CustomerID": "WARTH",
                                    "CompanyName": "Wartian Herkku",
                                    "Country": "Finland"
                                },
                                {
                                    "CustomerID": "WELLI",
                                    "CompanyName": "Wellington Importadora",
                                    "Country": "Brazil"
                                },
                                {
                                    "CustomerID": "WILMK",
                                    "CompanyName": "Wilman Kala",
                                    "Country": "Finland"
                                },
                                {
                                    "CustomerID": "WOLZA",
                                    "CompanyName": "Wolski  Zajazd",
                                    "Country": "Poland"
                                }
                            ]
                        },
                        "text/html": [
                            "<table>",
                            "<tr><th>CustomerID</th><th>CompanyName</th><th>Country</th></tr>",
                            "<tr><td>ALFKI</td><td>Alfreds Futterkiste</td><td>Germany</td></tr>",
                            "<tr><td>ANATR</td><td>Ana Trujillo Emparedados y helados</td><td>Mexico</td></tr>",
                            "<tr><td>ANTON</td><td>Antonio Moreno Taquería</td><td>Mexico</td></tr>",
                            "<tr><td>AROUT</td><td>Around the Horn</td><td>UK</td></tr>",
                            "<tr><td>BERGS</td><td>Berglunds snabbköp</td><td>Sweden</td></tr>",
                            "<tr><td>BLAUS</td><td>Blauer See Delikatessen</td><td>Germany</td></tr>",
                            "<tr><td>BLONP</td><td>Blondesddsl père et fils</td><td>France</td></tr>",
                            "<tr><td>BOLID</td><td>Bólido Comidas preparadas</td><td>Spain</td></tr>",
                            "<tr><td>BONAP</td><td>Bon app&#39;</td><td>France</td></tr>",
                            "<tr><td>BSBEV</td><td>B&#39;s Beverages</td><td>UK</td></tr>",
                            "<tr><td>CACTU</td><td>Cactus Comidas para llevar</td><td>Argentina</td></tr>",
                            "<tr><td>CENTC</td><td>Centro comercial Moctezuma</td><td>Mexico</td></tr>",
                            "<tr><td>CHOPS</td><td>Chop-suey Chinese</td><td>Switzerland</td></tr>",
                            "<tr><td>COMMI</td><td>Comércio Mineiro</td><td>Brazil</td></tr>",
                            "<tr><td>CONSH</td><td>Consolidated Holdings</td><td>UK</td></tr>",
                            "<tr><td>DRACD</td><td>Drachenblut Delikatessen</td><td>Germany</td></tr>",
                            "<tr><td>DUMON</td><td>Du monde entier</td><td>France</td></tr>",
                            "<tr><td>EASTC</td><td>Eastern Connection</td><td>UK</td></tr>",
                            "<tr><td>ERNSH</td><td>Ernst Handel</td><td>Austria</td></tr>",
                            "<tr><td>FAMIA</td><td>Familia Arquibaldo</td><td>Brazil</td></tr>",
                            "<tr><td>FISSA</td><td>FISSA Fabrica Inter. Salchichas S.A.</td><td>Spain</td></tr>",
                            "<tr><td>FOLIG</td><td>Folies gourmandes</td><td>France</td></tr>",
                            "<tr><td>FOLKO</td><td>Folk och fä HB</td><td>Sweden</td></tr>",
                            "<tr><td>FRANK</td><td>Frankenversand</td><td>Germany</td></tr>",
                            "<tr><td>FRANR</td><td>France restauration</td><td>France</td></tr>",
                            "<tr><td>FRANS</td><td>Franchi S.p.A.</td><td>Italy</td></tr>",
                            "<tr><td>FURIB</td><td>Furia Bacalhau e Frutos do Mar</td><td>Portugal</td></tr>",
                            "<tr><td>GALED</td><td>Galería del gastrónomo</td><td>Spain</td></tr>",
                            "<tr><td>GODOS</td><td>Godos Cocina Típica</td><td>Spain</td></tr>",
                            "<tr><td>GOURL</td><td>Gourmet Lanchonetes</td><td>Brazil</td></tr>",
                            "<tr><td>GROSR</td><td>GROSELLA-Restaurante</td><td>Venezuela</td></tr>",
                            "<tr><td>HANAR</td><td>Hanari Carnes</td><td>Brazil</td></tr>",
                            "<tr><td>HILAA</td><td>HILARION-Abastos</td><td>Venezuela</td></tr>",
                            "<tr><td>HUNGO</td><td>Hungry Owl All-Night Grocers</td><td>Ireland</td></tr>",
                            "<tr><td>ISLAT</td><td>Island Trading</td><td>UK</td></tr>",
                            "<tr><td>KOENE</td><td>Königlich Essen</td><td>Germany</td></tr>",
                            "<tr><td>LACOR</td><td>La corne d&#39;abondance</td><td>France</td></tr>",
                            "<tr><td>LAMAI</td><td>La maison d&#39;Asie</td><td>France</td></tr>",
                            "<tr><td>LEHMS</td><td>Lehmanns Marktstand</td><td>Germany</td></tr>",
                            "<tr><td>LILAS</td><td>LILA-Supermercado</td><td>Venezuela</td></tr>",
                            "<tr><td>LINOD</td><td>LINO-Delicateses</td><td>Venezuela</td></tr>",
                            "<tr><td>MAGAA</td><td>Magazzini Alimentari Riuniti</td><td>Italy</td></tr>",
                            "<tr><td>MAISD</td><td>Maison Dewey</td><td>Belgium</td></tr>",
                            "<tr><td>MORGK</td><td>Morgenstern Gesundkost</td><td>Germany</td></tr>",
                            "<tr><td>NORTS</td><td>North/South</td><td>UK</td></tr>",
                            "<tr><td>OCEAN</td><td>Océano Atlántico Ltda.</td><td>Argentina</td></tr>",
                            "<tr><td>OTTIK</td><td>Ottilies Käseladen</td><td>Germany</td></tr>",
                            "<tr><td>PARIS</td><td>Paris spécialités</td><td>France</td></tr>",
                            "<tr><td>PERIC</td><td>Pericles Comidas clásicas</td><td>Mexico</td></tr>",
                            "<tr><td>PICCO</td><td>Piccolo und mehr</td><td>Austria</td></tr>",
                            "<tr><td>PRINI</td><td>Princesa Isabel Vinhos</td><td>Portugal</td></tr>",
                            "<tr><td>QUEDE</td><td>Que Delícia</td><td>Brazil</td></tr>",
                            "<tr><td>QUEEN</td><td>Queen Cozinha</td><td>Brazil</td></tr>",
                            "<tr><td>QUICK</td><td>QUICK-Stop</td><td>Germany</td></tr>",
                            "<tr><td>RANCH</td><td>Rancho grande</td><td>Argentina</td></tr>",
                            "<tr><td>REGGC</td><td>Reggiani Caseifici</td><td>Italy</td></tr>",
                            "<tr><td>RICAR</td><td>Ricardo Adocicados</td><td>Brazil</td></tr>",
                            "<tr><td>RICSU</td><td>Richter Supermarkt</td><td>Switzerland</td></tr>",
                            "<tr><td>ROMEY</td><td>Romero y tomillo</td><td>Spain</td></tr>",
                            "<tr><td>SANTG</td><td>Santé Gourmet</td><td>Norway</td></tr>",
                            "<tr><td>SEVES</td><td>Seven Seas Imports</td><td>UK</td></tr>",
                            "<tr><td>SIMOB</td><td>Simons bistro</td><td>Denmark</td></tr>",
                            "<tr><td>SPECD</td><td>Spécialités du monde</td><td>France</td></tr>",
                            "<tr><td>SUPRD</td><td>Suprêmes délices</td><td>Belgium</td></tr>",
                            "<tr><td>TOMSP</td><td>Toms Spezialitäten</td><td>Germany</td></tr>",
                            "<tr><td>TORTU</td><td>Tortuga Restaurante</td><td>Mexico</td></tr>",
                            "<tr><td>TRADH</td><td>Tradição Hipermercados</td><td>Brazil</td></tr>",
                            "<tr><td>VAFFE</td><td>Vaffeljernet</td><td>Denmark</td></tr>",
                            "<tr><td>VICTE</td><td>Victuailles en stock</td><td>France</td></tr>",
                            "<tr><td>VINET</td><td>Vins et alcools Chevalier</td><td>France</td></tr>",
                            "<tr><td>WANDK</td><td>Die Wandernde Kuh</td><td>Germany</td></tr>",
                            "<tr><td>WARTH</td><td>Wartian Herkku</td><td>Finland</td></tr>",
                            "<tr><td>WELLI</td><td>Wellington Importadora</td><td>Brazil</td></tr>",
                            "<tr><td>WILMK</td><td>Wilman Kala</td><td>Finland</td></tr>",
                            "<tr><td>WOLZA</td><td>Wolski  Zajazd</td><td>Poland</td></tr>",
                            "</table>"
                        ]
                    }
                }
            ],
            "execution_count": 37
        },
        {
            "cell_type": "markdown",
            "source": [
                "### **25\\. Use LIKE for Pattern Matching**\n",
                "\n",
                "- **Use Case**: Finding employees whose first name starts with \"A\".\n",
                "- **Explanation**: LIKE is used to search for patterns within text data."
            ],
            "metadata": {
                "azdata_cell_guid": "035f231f-5fb6-4b13-b9d4-36e343910261"
            },
            "attachments": {}
        },
        {
            "cell_type": "code",
            "source": [
                "SELECT EmployeeID, FirstName, LastName\r\n",
                "FROM dbo.Employees\r\n",
                "WHERE FirstName LIKE 'A%';"
            ],
            "metadata": {
                "azdata_cell_guid": "0bb6154f-77f5-401a-b489-ad6e931d26fd",
                "language": "sql"
            },
            "outputs": [
                {
                    "output_type": "display_data",
                    "data": {
                        "text/html": "(2 rows affected)"
                    },
                    "metadata": {}
                },
                {
                    "output_type": "display_data",
                    "data": {
                        "text/html": "Total execution time: 00:00:00.521"
                    },
                    "metadata": {}
                },
                {
                    "output_type": "execute_result",
                    "metadata": {},
                    "execution_count": 38,
                    "data": {
                        "application/vnd.dataresource+json": {
                            "schema": {
                                "fields": [
                                    {
                                        "name": "EmployeeID"
                                    },
                                    {
                                        "name": "FirstName"
                                    },
                                    {
                                        "name": "LastName"
                                    }
                                ]
                            },
                            "data": [
                                {
                                    "EmployeeID": "2",
                                    "FirstName": "Andrew",
                                    "LastName": "Fuller"
                                },
                                {
                                    "EmployeeID": "9",
                                    "FirstName": "Anne",
                                    "LastName": "Dodsworth"
                                }
                            ]
                        },
                        "text/html": [
                            "<table>",
                            "<tr><th>EmployeeID</th><th>FirstName</th><th>LastName</th></tr>",
                            "<tr><td>2</td><td>Andrew</td><td>Fuller</td></tr>",
                            "<tr><td>9</td><td>Anne</td><td>Dodsworth</td></tr>",
                            "</table>"
                        ]
                    }
                }
            ],
            "execution_count": 38
        }
    ]
}