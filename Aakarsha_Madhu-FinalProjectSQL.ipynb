{
    "metadata": {
        "kernelspec": {
            "name": "SQL",
            "display_name": "SQL",
            "language": "sql"
        },
        "language_info": {
            "name": "sql",
            "version": ""
        }
    },
    "nbformat_minor": 2,
    "nbformat": 4,
    "cells": [
        {
            "cell_type": "markdown",
            "source": [
                "# Final Project - 25 SQL Tips and Tricks"
            ],
            "metadata": {
                "azdata_cell_guid": "50a1867a-cfbc-485e-958b-a6a812d49d2c"
            },
            "attachments": {}
        },
        {
            "cell_type": "markdown",
            "source": [
                "### **1. <span style=\"font-size: 14px; color: var(--vscode-foreground);\">Using TOP to Return Minimal Rows</span>**\n",
                "\n",
                "- **Use Case**: Returning top 5 most expensive products.\n",
                "- **Explanation**: Limits the result set to a specified number of rows."
            ],
            "metadata": {
                "azdata_cell_guid": "66c1cd16-ab2c-4c2d-bac8-e1c58463ba50"
            },
            "attachments": {}
        },
        {
            "cell_type": "markdown",
            "source": [
                "CODE:  \n",
                "\n",
                "<span style=\"color: #0000ff;\">SELECT</span> <span style=\"color: #0000ff;\">TOP</span> <span style=\"color: #09885a;\">5</span> ProductName, UnitPrice\n",
                "\n",
                "<span style=\"color: #0000ff;\">FROM</span> dbo.Products\n",
                "\n",
                "<span style=\"color: #0000ff;\">ORDER BY</span> UnitPrice <span style=\"color: #0000ff;\">DESC</span>;"
            ],
            "metadata": {
                "azdata_cell_guid": "7eed295c-3a46-48a9-b540-bdc69f16a34a"
            },
            "attachments": {}
        },
        {
            "cell_type": "code",
            "source": [
                "SELECT TOP 5 ProductName, UnitPrice\r\n",
                "FROM dbo.Products\r\n",
                "ORDER BY UnitPrice DESC;"
            ],
            "metadata": {
                "azdata_cell_guid": "e6faf814-2566-4f84-8937-9466d82fe3ba",
                "language": "sql"
            },
            "outputs": [
                {
                    "output_type": "display_data",
                    "data": {
                        "text/html": "(5 rows affected)"
                    },
                    "metadata": {}
                },
                {
                    "output_type": "display_data",
                    "data": {
                        "text/html": "Total execution time: 00:00:00.006"
                    },
                    "metadata": {}
                },
                {
                    "output_type": "execute_result",
                    "metadata": {},
                    "execution_count": 5,
                    "data": {
                        "application/vnd.dataresource+json": {
                            "schema": {
                                "fields": [
                                    {
                                        "name": "ProductName"
                                    },
                                    {
                                        "name": "UnitPrice"
                                    }
                                ]
                            },
                            "data": [
                                {
                                    "ProductName": "Côte de Blaye",
                                    "UnitPrice": "263.50"
                                },
                                {
                                    "ProductName": "Thüringer Rostbratwurst",
                                    "UnitPrice": "123.79"
                                },
                                {
                                    "ProductName": "Mishi Kobe Niku",
                                    "UnitPrice": "97.00"
                                },
                                {
                                    "ProductName": "Sir Rodney's Marmalade",
                                    "UnitPrice": "81.00"
                                },
                                {
                                    "ProductName": "Carnarvon Tigers",
                                    "UnitPrice": "62.50"
                                }
                            ]
                        },
                        "text/html": [
                            "<table>",
                            "<tr><th>ProductName</th><th>UnitPrice</th></tr>",
                            "<tr><td>Côte de Blaye</td><td>263.50</td></tr>",
                            "<tr><td>Thüringer Rostbratwurst</td><td>123.79</td></tr>",
                            "<tr><td>Mishi Kobe Niku</td><td>97.00</td></tr>",
                            "<tr><td>Sir Rodney&#39;s Marmalade</td><td>81.00</td></tr>",
                            "<tr><td>Carnarvon Tigers</td><td>62.50</td></tr>",
                            "</table>"
                        ]
                    }
                }
            ],
            "execution_count": 5
        },
        {
            "cell_type": "markdown",
            "source": [
                "### **2\\. Use DISTINCT to Remove Duplicates**\n",
                "\n",
                "- **Use Case**: Getting distinct countries from the Customers table.\n",
                "- **Explanation**: DISTINCT removes duplicate rows from the result set."
            ],
            "metadata": {
                "azdata_cell_guid": "72015366-b352-4899-9bc7-f8fae5d07636"
            },
            "attachments": {}
        },
        {
            "cell_type": "markdown",
            "source": [
                "CODE:  \n",
                "\n",
                "<span style=\"color: #0000ff;\">SELECT DISTINCT</span> Country\n",
                "\n",
                "<span style=\"color: #0000ff;\">FROM</span> dbo.Customers;"
            ],
            "metadata": {
                "azdata_cell_guid": "a1b7529c-ac99-4804-b110-406fa1f3ce0a"
            },
            "attachments": {}
        },
        {
            "cell_type": "code",
            "source": [
                "SELECT DISTINCT TOP 5 Country\r\n",
                "FROM dbo.Customers;"
            ],
            "metadata": {
                "azdata_cell_guid": "fc22f2da-52ea-4f31-9a4f-f19b4ba58394",
                "language": "sql",
                "tags": []
            },
            "outputs": [
                {
                    "output_type": "display_data",
                    "data": {
                        "text/html": "(5 rows affected)"
                    },
                    "metadata": {}
                },
                {
                    "output_type": "display_data",
                    "data": {
                        "text/html": "Total execution time: 00:00:00.006"
                    },
                    "metadata": {}
                },
                {
                    "output_type": "execute_result",
                    "metadata": {},
                    "execution_count": 6,
                    "data": {
                        "application/vnd.dataresource+json": {
                            "schema": {
                                "fields": [
                                    {
                                        "name": "Country"
                                    }
                                ]
                            },
                            "data": [
                                {
                                    "Country": "Argentina"
                                },
                                {
                                    "Country": "Austria"
                                },
                                {
                                    "Country": "Belgium"
                                },
                                {
                                    "Country": "Brazil"
                                },
                                {
                                    "Country": "Canada"
                                }
                            ]
                        },
                        "text/html": [
                            "<table>",
                            "<tr><th>Country</th></tr>",
                            "<tr><td>Argentina</td></tr>",
                            "<tr><td>Austria</td></tr>",
                            "<tr><td>Belgium</td></tr>",
                            "<tr><td>Brazil</td></tr>",
                            "<tr><td>Canada</td></tr>",
                            "</table>"
                        ]
                    }
                }
            ],
            "execution_count": 6
        },
        {
            "cell_type": "markdown",
            "source": [
                "### **3\\. Aggregate Functions: AVG**\n",
                "\n",
                "- **Use Case**: Finding the average freight cost of shipped orders.\n",
                "- **Explanation**: Aggregates perform calculations across multiple rows."
            ],
            "metadata": {
                "azdata_cell_guid": "691590f3-eca8-4819-a333-7669dd40364a"
            },
            "attachments": {}
        },
        {
            "cell_type": "markdown",
            "source": [
                "CODE:  \n",
                "\n",
                "<span style=\"color: #0000ff;\">SELECT</span> <span style=\"color: #795e26;\">AVG</span>(Freight) <span style=\"color: #0000ff;\">AS</span> AvgFreight\n",
                "\n",
                "<span style=\"color: #0000ff;\">FROM</span> dbo.Orders\n",
                "\n",
                "<span style=\"color: #0000ff;\">WHERE</span> ShippedDate <span style=\"color: #0000ff;\">IS NOT NULL</span>;"
            ],
            "metadata": {
                "azdata_cell_guid": "0c30b301-dffd-45af-808f-a8716abf6d27"
            },
            "attachments": {}
        },
        {
            "cell_type": "code",
            "source": [
                "SELECT AVG(Freight) AS AvgFreight\r\n",
                "FROM dbo.Orders\r\n",
                "WHERE ShippedDate IS NOT NULL;"
            ],
            "metadata": {
                "azdata_cell_guid": "1d4c8fc8-819f-4e19-b83d-bd5d4c6730be",
                "language": "sql"
            },
            "outputs": [
                {
                    "output_type": "display_data",
                    "data": {
                        "text/html": "(1 row affected)"
                    },
                    "metadata": {}
                },
                {
                    "output_type": "display_data",
                    "data": {
                        "text/html": "Total execution time: 00:00:00.031"
                    },
                    "metadata": {}
                },
                {
                    "output_type": "execute_result",
                    "metadata": {},
                    "execution_count": 7,
                    "data": {
                        "application/vnd.dataresource+json": {
                            "schema": {
                                "fields": [
                                    {
                                        "name": "AvgFreight"
                                    }
                                ]
                            },
                            "data": [
                                {
                                    "AvgFreight": "79.0544"
                                }
                            ]
                        },
                        "text/html": [
                            "<table>",
                            "<tr><th>AvgFreight</th></tr>",
                            "<tr><td>79.0544</td></tr>",
                            "</table>"
                        ]
                    }
                }
            ],
            "execution_count": 7
        },
        {
            "cell_type": "markdown",
            "source": [
                "### **4\\. Using JOIN for Table Relationships**\n",
                "\n",
                "- **Use Case**: Getting the names of customers along with their order IDs.\n",
                "- **Explanation**: JOIN allows combining data from related tables"
            ],
            "metadata": {
                "azdata_cell_guid": "b8b88497-8834-4520-a380-c890688bd236"
            },
            "attachments": {}
        },
        {
            "cell_type": "markdown",
            "source": [
                "CODE:  \n",
                "\n",
                "<span style=\"color: rgb(0, 0, 255);\">SELECT</span> <span style=\"color: rgb(0, 0, 255);\">TOP</span> <span style=\"color: rgb(9, 136, 90);\">10</span> C.CustomerID, C.CompanyName, O.OrderID\n",
                "\n",
                "<span style=\"color: rgb(0, 0, 255);\">FROM</span> dbo.Customers C\n",
                "\n",
                "<span style=\"color: rgb(0, 0, 255);\">JOIN</span> dbo.Orders O <span style=\"color: rgb(0, 0, 255);\">ON</span> C.CustomerID <span style=\"color: rgb(0, 0, 0);\">=</span> O.CustomerID;"
            ],
            "metadata": {
                "azdata_cell_guid": "802f0941-f390-4767-9daf-952891c9151a"
            },
            "attachments": {}
        },
        {
            "cell_type": "code",
            "source": [
                "SELECT TOP 5 C.CustomerID, C.CompanyName, O.OrderID\r\n",
                "FROM dbo.Customers C\r\n",
                "JOIN dbo.Orders O ON C.CustomerID = O.CustomerID;"
            ],
            "metadata": {
                "azdata_cell_guid": "1a9f7068-7799-4055-904e-24df1839abd3",
                "language": "sql"
            },
            "outputs": [
                {
                    "output_type": "display_data",
                    "data": {
                        "text/html": "(5 rows affected)"
                    },
                    "metadata": {}
                },
                {
                    "output_type": "display_data",
                    "data": {
                        "text/html": "Total execution time: 00:00:00.021"
                    },
                    "metadata": {}
                },
                {
                    "output_type": "execute_result",
                    "metadata": {},
                    "execution_count": 8,
                    "data": {
                        "application/vnd.dataresource+json": {
                            "schema": {
                                "fields": [
                                    {
                                        "name": "CustomerID"
                                    },
                                    {
                                        "name": "CompanyName"
                                    },
                                    {
                                        "name": "OrderID"
                                    }
                                ]
                            },
                            "data": [
                                {
                                    "CustomerID": "ALFKI",
                                    "CompanyName": "Alfreds Futterkiste",
                                    "OrderID": "10643"
                                },
                                {
                                    "CustomerID": "ALFKI",
                                    "CompanyName": "Alfreds Futterkiste",
                                    "OrderID": "10692"
                                },
                                {
                                    "CustomerID": "ALFKI",
                                    "CompanyName": "Alfreds Futterkiste",
                                    "OrderID": "10702"
                                },
                                {
                                    "CustomerID": "ALFKI",
                                    "CompanyName": "Alfreds Futterkiste",
                                    "OrderID": "10835"
                                },
                                {
                                    "CustomerID": "ALFKI",
                                    "CompanyName": "Alfreds Futterkiste",
                                    "OrderID": "10952"
                                }
                            ]
                        },
                        "text/html": [
                            "<table>",
                            "<tr><th>CustomerID</th><th>CompanyName</th><th>OrderID</th></tr>",
                            "<tr><td>ALFKI</td><td>Alfreds Futterkiste</td><td>10643</td></tr>",
                            "<tr><td>ALFKI</td><td>Alfreds Futterkiste</td><td>10692</td></tr>",
                            "<tr><td>ALFKI</td><td>Alfreds Futterkiste</td><td>10702</td></tr>",
                            "<tr><td>ALFKI</td><td>Alfreds Futterkiste</td><td>10835</td></tr>",
                            "<tr><td>ALFKI</td><td>Alfreds Futterkiste</td><td>10952</td></tr>",
                            "</table>"
                        ]
                    }
                }
            ],
            "execution_count": 8
        },
        {
            "cell_type": "markdown",
            "source": [
                "### **5\\. Filter Rows with WHERE Clause**\n",
                "\n",
                "- **Use Case**: Finding orders placed in 2022.\n",
                "- **Explanation**: The WHERE clause filters rows based on conditions."
            ],
            "metadata": {
                "azdata_cell_guid": "4383df5a-6676-4db9-9f92-c9530e44a4e1"
            },
            "attachments": {}
        },
        {
            "cell_type": "markdown",
            "source": [
                "CODE:  \n",
                "\n",
                "<span style=\"color: #0000ff;\">SELECT</span> <span style=\"color: #0000ff;\">TOP</span> <span style=\"color: #09885a;\">10</span> OrderID, OrderDate\n",
                "\n",
                "<span style=\"color: #0000ff;\">FROM</span> dbo.Orders\n",
                "\n",
                "<span style=\"color: #0000ff;\">WHERE</span> <span style=\"color: #795e26;\">YEAR</span>(OrderDate) <span style=\"color: #000000;\">=</span> <span style=\"color: #09885a;\">2022</span>;"
            ],
            "metadata": {
                "azdata_cell_guid": "8adfd2d6-7142-4385-bb23-69eaa6c1992c"
            },
            "attachments": {}
        },
        {
            "cell_type": "code",
            "source": [
                "SELECT TOP 5 OrderID, OrderDate\r\n",
                "FROM dbo.Orders\r\n",
                "WHERE YEAR(OrderDate) = 2022;"
            ],
            "metadata": {
                "azdata_cell_guid": "ba7e6cef-cbb8-40d4-bcf1-ff8f4259305d",
                "language": "sql",
                "tags": []
            },
            "outputs": [
                {
                    "output_type": "display_data",
                    "data": {
                        "text/html": "(5 rows affected)"
                    },
                    "metadata": {}
                },
                {
                    "output_type": "display_data",
                    "data": {
                        "text/html": "Total execution time: 00:00:00.018"
                    },
                    "metadata": {}
                },
                {
                    "output_type": "execute_result",
                    "metadata": {},
                    "execution_count": 9,
                    "data": {
                        "application/vnd.dataresource+json": {
                            "schema": {
                                "fields": [
                                    {
                                        "name": "OrderID"
                                    },
                                    {
                                        "name": "OrderDate"
                                    }
                                ]
                            },
                            "data": [
                                {
                                    "OrderID": "10400",
                                    "OrderDate": "2022-01-01 00:00:00.000"
                                },
                                {
                                    "OrderID": "10401",
                                    "OrderDate": "2022-01-01 00:00:00.000"
                                },
                                {
                                    "OrderID": "10402",
                                    "OrderDate": "2022-01-02 00:00:00.000"
                                },
                                {
                                    "OrderID": "10403",
                                    "OrderDate": "2022-01-03 00:00:00.000"
                                },
                                {
                                    "OrderID": "10404",
                                    "OrderDate": "2022-01-03 00:00:00.000"
                                }
                            ]
                        },
                        "text/html": [
                            "<table>",
                            "<tr><th>OrderID</th><th>OrderDate</th></tr>",
                            "<tr><td>10400</td><td>2022-01-01 00:00:00.000</td></tr>",
                            "<tr><td>10401</td><td>2022-01-01 00:00:00.000</td></tr>",
                            "<tr><td>10402</td><td>2022-01-02 00:00:00.000</td></tr>",
                            "<tr><td>10403</td><td>2022-01-03 00:00:00.000</td></tr>",
                            "<tr><td>10404</td><td>2022-01-03 00:00:00.000</td></tr>",
                            "</table>"
                        ]
                    }
                }
            ],
            "execution_count": 9
        },
        {
            "cell_type": "markdown",
            "source": [
                "### **6\\. Using GROUP BY for Aggregation**\n",
                "\n",
                "- **Use Case**: Grouping orders by country and counting them.\n",
                "- **Explanation**: Groups rows that have the same values into summary rows."
            ],
            "metadata": {
                "azdata_cell_guid": "e2badf0a-8ff0-43de-abc9-1c27b7426f60"
            },
            "attachments": {}
        },
        {
            "cell_type": "markdown",
            "source": [
                "CODE:  \n",
                "\n",
                "<span style=\"color: #0000ff;\">SELECT</span> ShipCountry, <span style=\"color: #795e26;\">COUNT</span>(OrderID) <span style=\"color: #0000ff;\">AS</span> TotalOrders\n",
                "\n",
                "<span style=\"color: #0000ff;\">FROM</span> dbo.Orders\n",
                "\n",
                "<span style=\"color: #0000ff;\">GROUP BY</span> ShipCountry;"
            ],
            "metadata": {
                "azdata_cell_guid": "903aeb4a-8d0d-4e8b-9298-b5443cde96e3"
            },
            "attachments": {}
        },
        {
            "cell_type": "code",
            "source": [
                "SELECT TOP 5 ShipCountry, COUNT(OrderID) AS TotalOrders\r\n",
                "FROM dbo.Orders\r\n",
                "GROUP BY ShipCountry;"
            ],
            "metadata": {
                "azdata_cell_guid": "9c127bcc-fe47-47a3-888d-f653344ff3fa",
                "language": "sql"
            },
            "outputs": [
                {
                    "output_type": "display_data",
                    "data": {
                        "text/html": "(5 rows affected)"
                    },
                    "metadata": {}
                },
                {
                    "output_type": "display_data",
                    "data": {
                        "text/html": "Total execution time: 00:00:00.017"
                    },
                    "metadata": {}
                },
                {
                    "output_type": "execute_result",
                    "metadata": {},
                    "execution_count": 10,
                    "data": {
                        "application/vnd.dataresource+json": {
                            "schema": {
                                "fields": [
                                    {
                                        "name": "ShipCountry"
                                    },
                                    {
                                        "name": "TotalOrders"
                                    }
                                ]
                            },
                            "data": [
                                {
                                    "ShipCountry": "Finland",
                                    "TotalOrders": "22"
                                },
                                {
                                    "ShipCountry": "USA",
                                    "TotalOrders": "122"
                                },
                                {
                                    "ShipCountry": "Italy",
                                    "TotalOrders": "28"
                                },
                                {
                                    "ShipCountry": "Brazil",
                                    "TotalOrders": "83"
                                },
                                {
                                    "ShipCountry": "Germany",
                                    "TotalOrders": "122"
                                }
                            ]
                        },
                        "text/html": [
                            "<table>",
                            "<tr><th>ShipCountry</th><th>TotalOrders</th></tr>",
                            "<tr><td>Finland</td><td>22</td></tr>",
                            "<tr><td>USA</td><td>122</td></tr>",
                            "<tr><td>Italy</td><td>28</td></tr>",
                            "<tr><td>Brazil</td><td>83</td></tr>",
                            "<tr><td>Germany</td><td>122</td></tr>",
                            "</table>"
                        ]
                    }
                }
            ],
            "execution_count": 10
        },
        {
            "cell_type": "markdown",
            "source": [
                "### **7\\. HAVING to Filter After Aggregation**\n",
                "\n",
                "- **Use Case**: Showing only countries with more than 50 orders.\n",
                "- **Explanation**: HAVING filters after the GROUP BY clause."
            ],
            "metadata": {
                "azdata_cell_guid": "87b9c902-9c3d-4b1b-8a69-e28bd0c2b8bf"
            },
            "attachments": {}
        },
        {
            "cell_type": "markdown",
            "source": [
                "CODE:  \n",
                "\n",
                "<span style=\"color: #0000ff;\">SELECT</span> ShipCountry, <span style=\"color: #795e26;\">COUNT</span>(OrderID) <span style=\"color: #0000ff;\">AS</span> TotalOrders\n",
                "\n",
                "<span style=\"color: #0000ff;\">FROM</span> dbo.Orders\n",
                "\n",
                "<span style=\"color: #0000ff;\">GROUP BY</span> ShipCountry\n",
                "\n",
                "<span style=\"color: #0000ff;\">HAVING</span> <span style=\"color: #795e26;\">COUNT</span>(OrderID) <span style=\"color: #000000;\">&gt;</span> <span style=\"color: #09885a;\">50</span>;"
            ],
            "metadata": {
                "azdata_cell_guid": "e286b7b1-9b30-4474-a600-a6a06fca6eda"
            },
            "attachments": {}
        },
        {
            "cell_type": "code",
            "source": [
                "SELECT TOP 5 ShipCountry, COUNT(OrderID) AS TotalOrders\r\n",
                "FROM dbo.Orders\r\n",
                "GROUP BY ShipCountry\r\n",
                "HAVING COUNT(OrderID) > 50;"
            ],
            "metadata": {
                "azdata_cell_guid": "d7ae5377-f120-4c78-8409-e3bd49347393",
                "language": "sql"
            },
            "outputs": [
                {
                    "output_type": "display_data",
                    "data": {
                        "text/html": "(5 rows affected)"
                    },
                    "metadata": {}
                },
                {
                    "output_type": "display_data",
                    "data": {
                        "text/html": "Total execution time: 00:00:00.015"
                    },
                    "metadata": {}
                },
                {
                    "output_type": "execute_result",
                    "metadata": {},
                    "execution_count": 11,
                    "data": {
                        "application/vnd.dataresource+json": {
                            "schema": {
                                "fields": [
                                    {
                                        "name": "ShipCountry"
                                    },
                                    {
                                        "name": "TotalOrders"
                                    }
                                ]
                            },
                            "data": [
                                {
                                    "ShipCountry": "USA",
                                    "TotalOrders": "122"
                                },
                                {
                                    "ShipCountry": "Brazil",
                                    "TotalOrders": "83"
                                },
                                {
                                    "ShipCountry": "Germany",
                                    "TotalOrders": "122"
                                },
                                {
                                    "ShipCountry": "UK",
                                    "TotalOrders": "56"
                                },
                                {
                                    "ShipCountry": "France",
                                    "TotalOrders": "77"
                                }
                            ]
                        },
                        "text/html": [
                            "<table>",
                            "<tr><th>ShipCountry</th><th>TotalOrders</th></tr>",
                            "<tr><td>USA</td><td>122</td></tr>",
                            "<tr><td>Brazil</td><td>83</td></tr>",
                            "<tr><td>Germany</td><td>122</td></tr>",
                            "<tr><td>UK</td><td>56</td></tr>",
                            "<tr><td>France</td><td>77</td></tr>",
                            "</table>"
                        ]
                    }
                }
            ],
            "execution_count": 11
        },
        {
            "cell_type": "markdown",
            "source": [
                "### **8\\. Use Aliases AS for Readability**\n",
                "\n",
                "- **Use Case**: Giving meaningful names to columns.\n",
                "- **Explanation**: Aliases improve query readability."
            ],
            "metadata": {
                "azdata_cell_guid": "0207a64d-db87-4d0c-b3dc-70be694652b1"
            },
            "attachments": {}
        },
        {
            "cell_type": "markdown",
            "source": [
                "CODE:  \n",
                "\n",
                "<span style=\"color: #0000ff;\">SELECT</span> <span style=\"color: #0000ff;\">TOP</span> <span style=\"color: #09885a;\">10</span> ProductName <span style=\"color: #0000ff;\">AS</span> <span style=\"color: #0000ff;\">Name</span>, UnitPrice <span style=\"color: #0000ff;\">AS</span> Price\n",
                "\n",
                "<span style=\"color: #0000ff;\">FROM</span> dbo.Products;"
            ],
            "metadata": {
                "azdata_cell_guid": "4650db83-18dd-4fb7-b03e-af23c48dc928"
            },
            "attachments": {}
        },
        {
            "cell_type": "code",
            "source": [
                "SELECT TOP 5 ProductName AS Name, UnitPrice AS Price\r\n",
                "FROM dbo.Products;"
            ],
            "metadata": {
                "azdata_cell_guid": "de0a2180-70a7-4ed0-bebc-8760e1641037",
                "language": "sql"
            },
            "outputs": [
                {
                    "output_type": "display_data",
                    "data": {
                        "text/html": "(5 rows affected)"
                    },
                    "metadata": {}
                },
                {
                    "output_type": "display_data",
                    "data": {
                        "text/html": "Total execution time: 00:00:00.015"
                    },
                    "metadata": {}
                },
                {
                    "output_type": "execute_result",
                    "metadata": {},
                    "execution_count": 12,
                    "data": {
                        "application/vnd.dataresource+json": {
                            "schema": {
                                "fields": [
                                    {
                                        "name": "Name"
                                    },
                                    {
                                        "name": "Price"
                                    }
                                ]
                            },
                            "data": [
                                {
                                    "Name": "Chai",
                                    "Price": "18.00"
                                },
                                {
                                    "Name": "Chang",
                                    "Price": "19.00"
                                },
                                {
                                    "Name": "Aniseed Syrup",
                                    "Price": "10.00"
                                },
                                {
                                    "Name": "Chef Anton's Cajun Seasoning",
                                    "Price": "22.00"
                                },
                                {
                                    "Name": "Chef Anton's Gumbo Mix",
                                    "Price": "21.35"
                                }
                            ]
                        },
                        "text/html": [
                            "<table>",
                            "<tr><th>Name</th><th>Price</th></tr>",
                            "<tr><td>Chai</td><td>18.00</td></tr>",
                            "<tr><td>Chang</td><td>19.00</td></tr>",
                            "<tr><td>Aniseed Syrup</td><td>10.00</td></tr>",
                            "<tr><td>Chef Anton&#39;s Cajun Seasoning</td><td>22.00</td></tr>",
                            "<tr><td>Chef Anton&#39;s Gumbo Mix</td><td>21.35</td></tr>",
                            "</table>"
                        ]
                    }
                }
            ],
            "execution_count": 12
        },
        {
            "cell_type": "markdown",
            "source": [
                "### **9\\. JOIN: Find Customers and the Products They Ordered**  \n",
                "\n",
                "- **Use Case**: Listing the customers along with the names of the products they ordered.\n",
                "- **Explanation**: This query joins multiple tables to show the relationship between customers, orders, and the products they’ve purchased."
            ],
            "metadata": {
                "azdata_cell_guid": "0530f8eb-ea70-4585-b9d1-7a195e00994e"
            },
            "attachments": {}
        },
        {
            "cell_type": "markdown",
            "source": [
                "CODE:  \n",
                "\n",
                "<span style=\"color: #0000ff;\">SELECT</span> <span style=\"color: #0000ff;\">TOP</span> <span style=\"color: #09885a;\">10</span> C.CustomerID, C.CompanyName, P.ProductName\n",
                "\n",
                "<span style=\"color: #0000ff;\">FROM</span> dbo.Customers C\n",
                "\n",
                "<span style=\"color: #0000ff;\">JOIN</span> dbo.Orders O <span style=\"color: #0000ff;\">ON</span> C.CustomerID <span style=\"color: #000000;\">=</span> O.CustomerID\n",
                "\n",
                "<span style=\"color: #0000ff;\">JOIN</span> dbo.OrderDetails OD <span style=\"color: #0000ff;\">ON</span> O.OrderID <span style=\"color: #000000;\">=</span> OD.OrderID\n",
                "\n",
                "<span style=\"color: #0000ff;\">JOIN</span> dbo.Products P <span style=\"color: #0000ff;\">ON</span> OD.ProductID <span style=\"color: #000000;\">=</span> P.ProductID;"
            ],
            "metadata": {
                "azdata_cell_guid": "eca4ed38-152b-4173-9585-bd5eacec0f2d"
            },
            "attachments": {}
        },
        {
            "cell_type": "code",
            "source": [
                "SELECT TOP 5 C.CustomerID, C.CompanyName, P.ProductName\r\n",
                "FROM dbo.Customers C\r\n",
                "JOIN dbo.Orders O ON C.CustomerID = O.CustomerID\r\n",
                "JOIN dbo.OrderDetails OD ON O.OrderID = OD.OrderID\r\n",
                "JOIN dbo.Products P ON OD.ProductID = P.ProductID;"
            ],
            "metadata": {
                "azdata_cell_guid": "8b2613d0-c94d-4e3b-87a4-4445dbe337e2",
                "language": "sql"
            },
            "outputs": [
                {
                    "output_type": "display_data",
                    "data": {
                        "text/html": "(5 rows affected)"
                    },
                    "metadata": {}
                },
                {
                    "output_type": "display_data",
                    "data": {
                        "text/html": "Total execution time: 00:00:00.022"
                    },
                    "metadata": {}
                },
                {
                    "output_type": "execute_result",
                    "metadata": {},
                    "execution_count": 13,
                    "data": {
                        "application/vnd.dataresource+json": {
                            "schema": {
                                "fields": [
                                    {
                                        "name": "CustomerID"
                                    },
                                    {
                                        "name": "CompanyName"
                                    },
                                    {
                                        "name": "ProductName"
                                    }
                                ]
                            },
                            "data": [
                                {
                                    "CustomerID": "VINET",
                                    "CompanyName": "Vins et alcools Chevalier",
                                    "ProductName": "Queso Cabrales"
                                },
                                {
                                    "CustomerID": "VINET",
                                    "CompanyName": "Vins et alcools Chevalier",
                                    "ProductName": "Singaporean Hokkien Fried Mee"
                                },
                                {
                                    "CustomerID": "VINET",
                                    "CompanyName": "Vins et alcools Chevalier",
                                    "ProductName": "Mozzarella di Giovanni"
                                },
                                {
                                    "CustomerID": "TOMSP",
                                    "CompanyName": "Toms Spezialitäten",
                                    "ProductName": "Tofu"
                                },
                                {
                                    "CustomerID": "TOMSP",
                                    "CompanyName": "Toms Spezialitäten",
                                    "ProductName": "Manjimup Dried Apples"
                                }
                            ]
                        },
                        "text/html": [
                            "<table>",
                            "<tr><th>CustomerID</th><th>CompanyName</th><th>ProductName</th></tr>",
                            "<tr><td>VINET</td><td>Vins et alcools Chevalier</td><td>Queso Cabrales</td></tr>",
                            "<tr><td>VINET</td><td>Vins et alcools Chevalier</td><td>Singaporean Hokkien Fried Mee</td></tr>",
                            "<tr><td>VINET</td><td>Vins et alcools Chevalier</td><td>Mozzarella di Giovanni</td></tr>",
                            "<tr><td>TOMSP</td><td>Toms Spezialitäten</td><td>Tofu</td></tr>",
                            "<tr><td>TOMSP</td><td>Toms Spezialitäten</td><td>Manjimup Dried Apples</td></tr>",
                            "</table>"
                        ]
                    }
                }
            ],
            "execution_count": 13
        },
        {
            "cell_type": "markdown",
            "source": [
                "### **10\\. Use IS NULL to Find Missing Data**\n",
                "\n",
                "- **Use Case**: Finding employees without regions.\n",
                "- **Explanation**: IS NULL helps locate missing or undefined data."
            ],
            "metadata": {
                "azdata_cell_guid": "cf157f87-5abf-4503-a76d-9af1e02fe119"
            },
            "attachments": {}
        },
        {
            "cell_type": "markdown",
            "source": [
                "CODE:  \n",
                "\n",
                "<span style=\"color: #0000ff;\">SELECT</span> EmployeeID, FirstName, LastName\n",
                "\n",
                "<span style=\"color: #0000ff;\">FROM</span> dbo.Employees\n",
                "\n",
                "<span style=\"color: #0000ff;\">WHERE</span> Region <span style=\"color: #0000ff;\">IS</span> <span style=\"color: #0000ff;\">NULL</span>;"
            ],
            "metadata": {
                "azdata_cell_guid": "f3d325b6-a5da-4ff4-863a-496090fca9f8"
            },
            "attachments": {}
        },
        {
            "cell_type": "code",
            "source": [
                "SELECT TOP 5 EmployeeID, FirstName, LastName\r\n",
                "FROM dbo.Employees\r\n",
                "WHERE Region IS NULL;"
            ],
            "metadata": {
                "azdata_cell_guid": "b26e1034-9b50-4203-ba79-dac355226b35",
                "language": "sql"
            },
            "outputs": [
                {
                    "output_type": "display_data",
                    "data": {
                        "text/html": "(4 rows affected)"
                    },
                    "metadata": {}
                },
                {
                    "output_type": "display_data",
                    "data": {
                        "text/html": "Total execution time: 00:00:00.024"
                    },
                    "metadata": {}
                },
                {
                    "output_type": "execute_result",
                    "metadata": {},
                    "execution_count": 14,
                    "data": {
                        "application/vnd.dataresource+json": {
                            "schema": {
                                "fields": [
                                    {
                                        "name": "EmployeeID"
                                    },
                                    {
                                        "name": "FirstName"
                                    },
                                    {
                                        "name": "LastName"
                                    }
                                ]
                            },
                            "data": [
                                {
                                    "EmployeeID": "5",
                                    "FirstName": "Steven",
                                    "LastName": "Buchanan"
                                },
                                {
                                    "EmployeeID": "6",
                                    "FirstName": "Michael",
                                    "LastName": "Suyama"
                                },
                                {
                                    "EmployeeID": "7",
                                    "FirstName": "Robert",
                                    "LastName": "King"
                                },
                                {
                                    "EmployeeID": "9",
                                    "FirstName": "Anne",
                                    "LastName": "Dodsworth"
                                }
                            ]
                        },
                        "text/html": [
                            "<table>",
                            "<tr><th>EmployeeID</th><th>FirstName</th><th>LastName</th></tr>",
                            "<tr><td>5</td><td>Steven</td><td>Buchanan</td></tr>",
                            "<tr><td>6</td><td>Michael</td><td>Suyama</td></tr>",
                            "<tr><td>7</td><td>Robert</td><td>King</td></tr>",
                            "<tr><td>9</td><td>Anne</td><td>Dodsworth</td></tr>",
                            "</table>"
                        ]
                    }
                }
            ],
            "execution_count": 14
        },
        {
            "cell_type": "markdown",
            "source": [
                "### **11\\. Subqueries for Filtering**\n",
                "\n",
                "- **Use Case**: Finding products with prices above the average price.\n",
                "- **Explanation**: Subqueries allow a query within another query."
            ],
            "metadata": {
                "azdata_cell_guid": "bb0a9517-8175-4bc7-aaf5-f3a577eae79b"
            },
            "attachments": {}
        },
        {
            "cell_type": "markdown",
            "source": [
                "CODE:  \n",
                "\n",
                "<span style=\"color: #0000ff;\">SELECT</span> ProductName, UnitPrice\n",
                "\n",
                "<span style=\"color: #0000ff;\">FROM</span> dbo.Products\n",
                "\n",
                "<span style=\"color: #0000ff;\">WHERE</span> UnitPrice <span style=\"color: #000000;\">&gt;</span> (<span style=\"color: #0000ff;\">SELECT</span> <span style=\"color: #795e26;\">AVG</span>(UnitPrice) <span style=\"color: #0000ff;\">FROM</span> dbo.Products);"
            ],
            "metadata": {
                "azdata_cell_guid": "c40930b8-6703-40fd-962c-9126885d224c"
            },
            "attachments": {}
        },
        {
            "cell_type": "code",
            "source": [
                "SELECT TOP 5 ProductName, UnitPrice\r\n",
                "FROM dbo.Products\r\n",
                "WHERE UnitPrice > (SELECT AVG(UnitPrice) FROM dbo.Products);"
            ],
            "metadata": {
                "azdata_cell_guid": "6075fb34-09c1-43ef-a5ad-cb9dcfb626a3",
                "language": "sql"
            },
            "outputs": [
                {
                    "output_type": "display_data",
                    "data": {
                        "text/html": "(5 rows affected)"
                    },
                    "metadata": {}
                },
                {
                    "output_type": "display_data",
                    "data": {
                        "text/html": "Total execution time: 00:00:00.020"
                    },
                    "metadata": {}
                },
                {
                    "output_type": "execute_result",
                    "metadata": {},
                    "execution_count": 15,
                    "data": {
                        "application/vnd.dataresource+json": {
                            "schema": {
                                "fields": [
                                    {
                                        "name": "ProductName"
                                    },
                                    {
                                        "name": "UnitPrice"
                                    }
                                ]
                            },
                            "data": [
                                {
                                    "ProductName": "Uncle Bob's Organic Dried Pears",
                                    "UnitPrice": "30.00"
                                },
                                {
                                    "ProductName": "Northwoods Cranberry Sauce",
                                    "UnitPrice": "40.00"
                                },
                                {
                                    "ProductName": "Mishi Kobe Niku",
                                    "UnitPrice": "97.00"
                                },
                                {
                                    "ProductName": "Ikura",
                                    "UnitPrice": "31.00"
                                },
                                {
                                    "ProductName": "Queso Manchego La Pastora",
                                    "UnitPrice": "38.00"
                                }
                            ]
                        },
                        "text/html": [
                            "<table>",
                            "<tr><th>ProductName</th><th>UnitPrice</th></tr>",
                            "<tr><td>Uncle Bob&#39;s Organic Dried Pears</td><td>30.00</td></tr>",
                            "<tr><td>Northwoods Cranberry Sauce</td><td>40.00</td></tr>",
                            "<tr><td>Mishi Kobe Niku</td><td>97.00</td></tr>",
                            "<tr><td>Ikura</td><td>31.00</td></tr>",
                            "<tr><td>Queso Manchego La Pastora</td><td>38.00</td></tr>",
                            "</table>"
                        ]
                    }
                }
            ],
            "execution_count": 15
        },
        {
            "cell_type": "markdown",
            "source": [
                "### **12\\. Using UNION to Combine Queries**\n",
                "\n",
                "- **Use Case**: Combining lists of US and UK customers.\n",
                "- **Explanation**: UNION combines the results of two or more queries."
            ],
            "metadata": {
                "azdata_cell_guid": "6ec3b536-8909-4a38-9151-9b0e2b89dfda"
            },
            "attachments": {}
        },
        {
            "cell_type": "markdown",
            "source": [
                "CODE:\n",
                "\n",
                "<span style=\"color: #0000ff;\">SELECT</span> CustomerID, CompanyName, Country\n",
                "\n",
                "<span style=\"color: #0000ff;\">FROM</span> dbo.Customers\n",
                "\n",
                "<span style=\"color: #0000ff;\">WHERE</span> Country <span style=\"color: #000000;\">=</span> <span style=\"color: #a31515;\">'USA'</span>\n",
                "\n",
                "<span style=\"color: #0000ff;\">UNION</span>\n",
                "\n",
                "<span style=\"color: #0000ff;\">SELECT</span> CustomerID, CompanyName, Country\n",
                "\n",
                "<span style=\"color: #0000ff;\">FROM</span> dbo.Customers\n",
                "\n",
                "<span style=\"color: #0000ff;\">WHERE</span> Country <span style=\"color: #000000;\">=</span> <span style=\"color: #a31515;\">'UK'</span>;"
            ],
            "metadata": {
                "azdata_cell_guid": "3b5025ab-671e-4cca-86a3-38524a3defee"
            },
            "attachments": {}
        },
        {
            "cell_type": "code",
            "source": [
                "SELECT TOP 5 CustomerID, CompanyName, Country\r\n",
                "FROM dbo.Customers\r\n",
                "WHERE Country = 'USA'\r\n",
                "UNION\r\n",
                "SELECT CustomerID, CompanyName, Country\r\n",
                "FROM dbo.Customers\r\n",
                "WHERE Country = 'UK';"
            ],
            "metadata": {
                "azdata_cell_guid": "a8e11251-b6b4-496c-9863-ba1f756ed012",
                "language": "sql"
            },
            "outputs": [
                {
                    "output_type": "display_data",
                    "data": {
                        "text/html": "(12 rows affected)"
                    },
                    "metadata": {}
                },
                {
                    "output_type": "display_data",
                    "data": {
                        "text/html": "Total execution time: 00:00:00.021"
                    },
                    "metadata": {}
                },
                {
                    "output_type": "execute_result",
                    "metadata": {},
                    "execution_count": 16,
                    "data": {
                        "application/vnd.dataresource+json": {
                            "schema": {
                                "fields": [
                                    {
                                        "name": "CustomerID"
                                    },
                                    {
                                        "name": "CompanyName"
                                    },
                                    {
                                        "name": "Country"
                                    }
                                ]
                            },
                            "data": [
                                {
                                    "CustomerID": "GREAL",
                                    "CompanyName": "Great Lakes Food Market",
                                    "Country": "USA"
                                },
                                {
                                    "CustomerID": "HUNGC",
                                    "CompanyName": "Hungry Coyote Import Store",
                                    "Country": "USA"
                                },
                                {
                                    "CustomerID": "LAZYK",
                                    "CompanyName": "Lazy K Kountry Store",
                                    "Country": "USA"
                                },
                                {
                                    "CustomerID": "LETSS",
                                    "CompanyName": "Let's Stop N Shop",
                                    "Country": "USA"
                                },
                                {
                                    "CustomerID": "LONEP",
                                    "CompanyName": "Lonesome Pine Restaurant",
                                    "Country": "USA"
                                },
                                {
                                    "CustomerID": "AROUT",
                                    "CompanyName": "Around the Horn",
                                    "Country": "UK"
                                },
                                {
                                    "CustomerID": "BSBEV",
                                    "CompanyName": "B's Beverages",
                                    "Country": "UK"
                                },
                                {
                                    "CustomerID": "CONSH",
                                    "CompanyName": "Consolidated Holdings",
                                    "Country": "UK"
                                },
                                {
                                    "CustomerID": "EASTC",
                                    "CompanyName": "Eastern Connection",
                                    "Country": "UK"
                                },
                                {
                                    "CustomerID": "ISLAT",
                                    "CompanyName": "Island Trading",
                                    "Country": "UK"
                                },
                                {
                                    "CustomerID": "NORTS",
                                    "CompanyName": "North/South",
                                    "Country": "UK"
                                },
                                {
                                    "CustomerID": "SEVES",
                                    "CompanyName": "Seven Seas Imports",
                                    "Country": "UK"
                                }
                            ]
                        },
                        "text/html": [
                            "<table>",
                            "<tr><th>CustomerID</th><th>CompanyName</th><th>Country</th></tr>",
                            "<tr><td>GREAL</td><td>Great Lakes Food Market</td><td>USA</td></tr>",
                            "<tr><td>HUNGC</td><td>Hungry Coyote Import Store</td><td>USA</td></tr>",
                            "<tr><td>LAZYK</td><td>Lazy K Kountry Store</td><td>USA</td></tr>",
                            "<tr><td>LETSS</td><td>Let&#39;s Stop N Shop</td><td>USA</td></tr>",
                            "<tr><td>LONEP</td><td>Lonesome Pine Restaurant</td><td>USA</td></tr>",
                            "<tr><td>AROUT</td><td>Around the Horn</td><td>UK</td></tr>",
                            "<tr><td>BSBEV</td><td>B&#39;s Beverages</td><td>UK</td></tr>",
                            "<tr><td>CONSH</td><td>Consolidated Holdings</td><td>UK</td></tr>",
                            "<tr><td>EASTC</td><td>Eastern Connection</td><td>UK</td></tr>",
                            "<tr><td>ISLAT</td><td>Island Trading</td><td>UK</td></tr>",
                            "<tr><td>NORTS</td><td>North/South</td><td>UK</td></tr>",
                            "<tr><td>SEVES</td><td>Seven Seas Imports</td><td>UK</td></tr>",
                            "</table>"
                        ]
                    }
                }
            ],
            "execution_count": 16
        },
        {
            "cell_type": "markdown",
            "source": [
                "### **13\\. String Functions: UPPER**\n",
                "\n",
                "- **Use Case**: Standardizing customer names to uppercase.\n",
                "- **Explanation**: String functions manipulate text data."
            ],
            "metadata": {
                "azdata_cell_guid": "2b32d085-1c1e-4d45-a5b8-6157fa5f468b"
            },
            "attachments": {}
        },
        {
            "cell_type": "markdown",
            "source": [
                "CODE:  \n",
                "\n",
                "<span style=\"color: #0000ff;\">SELECT</span> <span style=\"color: #0000ff;\">TOP</span> <span style=\"color: #09885a;\">10</span> <span style=\"color: #795e26;\">UPPER</span>(CompanyName) <span style=\"color: #0000ff;\">AS</span> UpperCaseName\n",
                "\n",
                "<span style=\"color: #0000ff;\">FROM</span> dbo.Customers;"
            ],
            "metadata": {
                "azdata_cell_guid": "00ff3bfc-07ba-4c94-b29f-b86ef92725c0"
            },
            "attachments": {}
        },
        {
            "cell_type": "code",
            "source": [
                "SELECT TOP 5 UPPER(CompanyName) AS UpperCaseName\r\n",
                "FROM dbo.Customers;"
            ],
            "metadata": {
                "azdata_cell_guid": "fb10a2a4-757e-4fb7-9f5f-710bc9973602",
                "language": "sql"
            },
            "outputs": [
                {
                    "output_type": "display_data",
                    "data": {
                        "text/html": "(5 rows affected)"
                    },
                    "metadata": {}
                },
                {
                    "output_type": "display_data",
                    "data": {
                        "text/html": "Total execution time: 00:00:00.017"
                    },
                    "metadata": {}
                },
                {
                    "output_type": "execute_result",
                    "metadata": {},
                    "execution_count": 17,
                    "data": {
                        "application/vnd.dataresource+json": {
                            "schema": {
                                "fields": [
                                    {
                                        "name": "UpperCaseName"
                                    }
                                ]
                            },
                            "data": [
                                {
                                    "UpperCaseName": "ALFREDS FUTTERKISTE"
                                },
                                {
                                    "UpperCaseName": "ANA TRUJILLO EMPAREDADOS Y HELADOS"
                                },
                                {
                                    "UpperCaseName": "ANTONIO MORENO TAQUERÍA"
                                },
                                {
                                    "UpperCaseName": "AROUND THE HORN"
                                },
                                {
                                    "UpperCaseName": "BERGLUNDS SNABBKÖP"
                                }
                            ]
                        },
                        "text/html": [
                            "<table>",
                            "<tr><th>UpperCaseName</th></tr>",
                            "<tr><td>ALFREDS FUTTERKISTE</td></tr>",
                            "<tr><td>ANA TRUJILLO EMPAREDADOS Y HELADOS</td></tr>",
                            "<tr><td>ANTONIO MORENO TAQUERÍA</td></tr>",
                            "<tr><td>AROUND THE HORN</td></tr>",
                            "<tr><td>BERGLUNDS SNABBKÖP</td></tr>",
                            "</table>"
                        ]
                    }
                }
            ],
            "execution_count": 17
        },
        {
            "cell_type": "markdown",
            "source": [
                "### **14\\. Use Date Functions: MONTH**\n",
                "\n",
                "- **Use Case**: Finding orders placed in December.\n",
                "- **Explanation**: Date functions extract parts of a date."
            ],
            "metadata": {
                "azdata_cell_guid": "30718c3f-0be0-4171-a8c5-108e06e38f98"
            },
            "attachments": {}
        },
        {
            "cell_type": "markdown",
            "source": [
                "CODE:  \n",
                "\n",
                "<span style=\"color: #0000ff;\">SELECT</span> <span style=\"color: #0000ff;\">TOP</span> <span style=\"color: #09885a;\">10</span> OrderID, OrderDate\n",
                "\n",
                "<span style=\"color: #0000ff;\">FROM</span> dbo.Orders\n",
                "\n",
                "<span style=\"color: #0000ff;\">WHERE</span> <span style=\"color: #795e26;\">MONTH</span>(OrderDate) <span style=\"color: #000000;\">=</span> <span style=\"color: #09885a;\">12</span>;"
            ],
            "metadata": {
                "azdata_cell_guid": "0ee6c296-2ef9-4404-b8f1-9ceab301f233"
            },
            "attachments": {}
        },
        {
            "cell_type": "code",
            "source": [
                "SELECT TOP 5 OrderID, OrderDate\r\n",
                "FROM dbo.Orders\r\n",
                "WHERE MONTH(OrderDate) = 12;"
            ],
            "metadata": {
                "azdata_cell_guid": "8dfd485d-4097-4f46-899a-580b9d69d1a9",
                "language": "sql"
            },
            "outputs": [
                {
                    "output_type": "display_data",
                    "data": {
                        "text/html": "(5 rows affected)"
                    },
                    "metadata": {}
                },
                {
                    "output_type": "display_data",
                    "data": {
                        "text/html": "Total execution time: 00:00:00.018"
                    },
                    "metadata": {}
                },
                {
                    "output_type": "execute_result",
                    "metadata": {},
                    "execution_count": 18,
                    "data": {
                        "application/vnd.dataresource+json": {
                            "schema": {
                                "fields": [
                                    {
                                        "name": "OrderID"
                                    },
                                    {
                                        "name": "OrderDate"
                                    }
                                ]
                            },
                            "data": [
                                {
                                    "OrderID": "10369",
                                    "OrderDate": "2021-12-02 00:00:00.000"
                                },
                                {
                                    "OrderID": "10370",
                                    "OrderDate": "2021-12-03 00:00:00.000"
                                },
                                {
                                    "OrderID": "10371",
                                    "OrderDate": "2021-12-03 00:00:00.000"
                                },
                                {
                                    "OrderID": "10372",
                                    "OrderDate": "2021-12-04 00:00:00.000"
                                },
                                {
                                    "OrderID": "10373",
                                    "OrderDate": "2021-12-05 00:00:00.000"
                                }
                            ]
                        },
                        "text/html": [
                            "<table>",
                            "<tr><th>OrderID</th><th>OrderDate</th></tr>",
                            "<tr><td>10369</td><td>2021-12-02 00:00:00.000</td></tr>",
                            "<tr><td>10370</td><td>2021-12-03 00:00:00.000</td></tr>",
                            "<tr><td>10371</td><td>2021-12-03 00:00:00.000</td></tr>",
                            "<tr><td>10372</td><td>2021-12-04 00:00:00.000</td></tr>",
                            "<tr><td>10373</td><td>2021-12-05 00:00:00.000</td></tr>",
                            "</table>"
                        ]
                    }
                }
            ],
            "execution_count": 18
        },
        {
            "cell_type": "markdown",
            "source": [
                "### **15\\. Use AND for Multiple Conditions**\n",
                "\n",
                "- **Use Case**: Finding employees who live in the USA and work in Seattle.\n",
                "- **Explanation**: The AND operator allows combining multiple conditions in the WHERE clause."
            ],
            "metadata": {
                "azdata_cell_guid": "10f6db3f-4517-424c-a3a8-130da307454a"
            },
            "attachments": {}
        },
        {
            "cell_type": "markdown",
            "source": [
                "CODE:  \n",
                "\n",
                "<span style=\"color: #0000ff;\">SELECT</span> EmployeeID, FirstName, LastName, City, Country\n",
                "\n",
                "<span style=\"color: #0000ff;\">FROM</span> dbo.Employees\n",
                "\n",
                "<span style=\"color: #0000ff;\">WHERE</span> Country <span style=\"color: #000000;\">=</span> <span style=\"color: #a31515;\">'USA'</span> <span style=\"color: #0000ff;\">AND</span> City <span style=\"color: #000000;\">=</span> <span style=\"color: #a31515;\">'Seattle'</span>;"
            ],
            "metadata": {
                "azdata_cell_guid": "db95c794-aba9-4234-bb5a-e2ed313ecbdc"
            },
            "attachments": {}
        },
        {
            "cell_type": "code",
            "source": [
                "SELECT TOP 5 EmployeeID, FirstName, LastName, City, Country\r\n",
                "FROM dbo.Employees\r\n",
                "WHERE Country = 'USA' AND City = 'Seattle';"
            ],
            "metadata": {
                "azdata_cell_guid": "36223dba-6880-4e53-a158-06409f971750",
                "language": "sql",
                "tags": []
            },
            "outputs": [
                {
                    "output_type": "display_data",
                    "data": {
                        "text/html": "(2 rows affected)"
                    },
                    "metadata": {}
                },
                {
                    "output_type": "display_data",
                    "data": {
                        "text/html": "Total execution time: 00:00:00.021"
                    },
                    "metadata": {}
                },
                {
                    "output_type": "execute_result",
                    "metadata": {},
                    "execution_count": 19,
                    "data": {
                        "application/vnd.dataresource+json": {
                            "schema": {
                                "fields": [
                                    {
                                        "name": "EmployeeID"
                                    },
                                    {
                                        "name": "FirstName"
                                    },
                                    {
                                        "name": "LastName"
                                    },
                                    {
                                        "name": "City"
                                    },
                                    {
                                        "name": "Country"
                                    }
                                ]
                            },
                            "data": [
                                {
                                    "EmployeeID": "1",
                                    "FirstName": "Nancy",
                                    "LastName": "Davolio",
                                    "City": "Seattle",
                                    "Country": "USA"
                                },
                                {
                                    "EmployeeID": "8",
                                    "FirstName": "Laura",
                                    "LastName": "Callahan",
                                    "City": "Seattle",
                                    "Country": "USA"
                                }
                            ]
                        },
                        "text/html": [
                            "<table>",
                            "<tr><th>EmployeeID</th><th>FirstName</th><th>LastName</th><th>City</th><th>Country</th></tr>",
                            "<tr><td>1</td><td>Nancy</td><td>Davolio</td><td>Seattle</td><td>USA</td></tr>",
                            "<tr><td>8</td><td>Laura</td><td>Callahan</td><td>Seattle</td><td>USA</td></tr>",
                            "</table>"
                        ]
                    }
                }
            ],
            "execution_count": 19
        },
        {
            "cell_type": "markdown",
            "source": [
                "### **16\\. Use OR for Flexible Condition Matching**\n",
                "\n",
                "- **Use Case**: Finding products that are either discontinued or have a stock quantity of less than 10 units.\n",
                "- **Explanation**:OR allows matching rows where at least one of the conditions is true."
            ],
            "metadata": {
                "azdata_cell_guid": "be9afc49-22c0-42c0-89f7-b518af1c9d63"
            },
            "attachments": {}
        },
        {
            "cell_type": "markdown",
            "source": [
                "CODE:  \n",
                "\n",
                "<span style=\"color: #0000ff;\">SELECT</span> ProductID, ProductName, UnitsInStock, Discontinued\n",
                "\n",
                "<span style=\"color: #0000ff;\">FROM</span> dbo.Products\n",
                "\n",
                "<span style=\"color: #0000ff;\">WHERE</span> Discontinued <span style=\"color: #000000;\">=</span> <span style=\"color: #09885a;\">1</span> <span style=\"color: #0000ff;\">OR</span> UnitsInStock <span style=\"color: #000000;\">&lt;</span> <span style=\"color: #09885a;\">10</span>;"
            ],
            "metadata": {
                "azdata_cell_guid": "623e0745-919b-420c-96bf-faabf81cea89"
            },
            "attachments": {}
        },
        {
            "cell_type": "code",
            "source": [
                "SELECT TOP 5 ProductID, ProductName, UnitsInStock, Discontinued\r\n",
                "FROM dbo.Products\r\n",
                "WHERE Discontinued = 1 OR UnitsInStock < 10;"
            ],
            "metadata": {
                "azdata_cell_guid": "5778f961-d04e-4e0f-b126-ee998d17fc59",
                "language": "sql"
            },
            "outputs": [
                {
                    "output_type": "display_data",
                    "data": {
                        "text/html": "(5 rows affected)"
                    },
                    "metadata": {}
                },
                {
                    "output_type": "display_data",
                    "data": {
                        "text/html": "Total execution time: 00:00:00.022"
                    },
                    "metadata": {}
                },
                {
                    "output_type": "execute_result",
                    "metadata": {},
                    "execution_count": 20,
                    "data": {
                        "application/vnd.dataresource+json": {
                            "schema": {
                                "fields": [
                                    {
                                        "name": "ProductID"
                                    },
                                    {
                                        "name": "ProductName"
                                    },
                                    {
                                        "name": "UnitsInStock"
                                    },
                                    {
                                        "name": "Discontinued"
                                    }
                                ]
                            },
                            "data": [
                                {
                                    "ProductID": "5",
                                    "ProductName": "Chef Anton's Gumbo Mix",
                                    "UnitsInStock": "0",
                                    "Discontinued": "1"
                                },
                                {
                                    "ProductID": "8",
                                    "ProductName": "Northwoods Cranberry Sauce",
                                    "UnitsInStock": "6",
                                    "Discontinued": "0"
                                },
                                {
                                    "ProductID": "9",
                                    "ProductName": "Mishi Kobe Niku",
                                    "UnitsInStock": "29",
                                    "Discontinued": "1"
                                },
                                {
                                    "ProductID": "17",
                                    "ProductName": "Alice Mutton",
                                    "UnitsInStock": "0",
                                    "Discontinued": "1"
                                },
                                {
                                    "ProductID": "21",
                                    "ProductName": "Sir Rodney's Scones",
                                    "UnitsInStock": "3",
                                    "Discontinued": "0"
                                }
                            ]
                        },
                        "text/html": [
                            "<table>",
                            "<tr><th>ProductID</th><th>ProductName</th><th>UnitsInStock</th><th>Discontinued</th></tr>",
                            "<tr><td>5</td><td>Chef Anton&#39;s Gumbo Mix</td><td>0</td><td>1</td></tr>",
                            "<tr><td>8</td><td>Northwoods Cranberry Sauce</td><td>6</td><td>0</td></tr>",
                            "<tr><td>9</td><td>Mishi Kobe Niku</td><td>29</td><td>1</td></tr>",
                            "<tr><td>17</td><td>Alice Mutton</td><td>0</td><td>1</td></tr>",
                            "<tr><td>21</td><td>Sir Rodney&#39;s Scones</td><td>3</td><td>0</td></tr>",
                            "</table>"
                        ]
                    }
                }
            ],
            "execution_count": 20
        },
        {
            "cell_type": "markdown",
            "source": [
                "### **17\\. Use IN for Multiple Criteria**\n",
                "\n",
                "- **Use Case**: Finding customers in the USA, UK, or Germany.\n",
                "- **Explanation**: IN checks if a value matches any in a list."
            ],
            "metadata": {
                "azdata_cell_guid": "a4e1a2c4-1eef-4610-913a-8e11ea2109ab"
            },
            "attachments": {}
        },
        {
            "cell_type": "markdown",
            "source": [
                "CODE:  \n",
                "\n",
                "<span style=\"color: #0000ff;\">SELECT</span> CustomerID, CompanyName, Country\n",
                "\n",
                "<span style=\"color: #0000ff;\">FROM</span> dbo.Customers\n",
                "\n",
                "<span style=\"color: #0000ff;\">WHERE</span> Country <span style=\"color: #0000ff;\">IN</span> (<span style=\"color: #a31515;\">'USA'</span>, <span style=\"color: #a31515;\">'UK'</span>, <span style=\"color: #a31515;\">'Germany'</span>);"
            ],
            "metadata": {
                "azdata_cell_guid": "9d00f428-47b1-4494-b631-47929a53494a"
            },
            "attachments": {}
        },
        {
            "cell_type": "code",
            "source": [
                "SELECT TOP 5 CustomerID, CompanyName, Country\r\n",
                "FROM dbo.Customers\r\n",
                "WHERE Country IN ('USA', 'UK', 'Germany');"
            ],
            "metadata": {
                "azdata_cell_guid": "618393d2-2ab4-438d-90b0-03453abde4d0",
                "language": "sql"
            },
            "outputs": [
                {
                    "output_type": "display_data",
                    "data": {
                        "text/html": "(5 rows affected)"
                    },
                    "metadata": {}
                },
                {
                    "output_type": "display_data",
                    "data": {
                        "text/html": "Total execution time: 00:00:00.015"
                    },
                    "metadata": {}
                },
                {
                    "output_type": "execute_result",
                    "metadata": {},
                    "execution_count": 21,
                    "data": {
                        "application/vnd.dataresource+json": {
                            "schema": {
                                "fields": [
                                    {
                                        "name": "CustomerID"
                                    },
                                    {
                                        "name": "CompanyName"
                                    },
                                    {
                                        "name": "Country"
                                    }
                                ]
                            },
                            "data": [
                                {
                                    "CustomerID": "ALFKI",
                                    "CompanyName": "Alfreds Futterkiste",
                                    "Country": "Germany"
                                },
                                {
                                    "CustomerID": "AROUT",
                                    "CompanyName": "Around the Horn",
                                    "Country": "UK"
                                },
                                {
                                    "CustomerID": "BLAUS",
                                    "CompanyName": "Blauer See Delikatessen",
                                    "Country": "Germany"
                                },
                                {
                                    "CustomerID": "BSBEV",
                                    "CompanyName": "B's Beverages",
                                    "Country": "UK"
                                },
                                {
                                    "CustomerID": "CONSH",
                                    "CompanyName": "Consolidated Holdings",
                                    "Country": "UK"
                                }
                            ]
                        },
                        "text/html": [
                            "<table>",
                            "<tr><th>CustomerID</th><th>CompanyName</th><th>Country</th></tr>",
                            "<tr><td>ALFKI</td><td>Alfreds Futterkiste</td><td>Germany</td></tr>",
                            "<tr><td>AROUT</td><td>Around the Horn</td><td>UK</td></tr>",
                            "<tr><td>BLAUS</td><td>Blauer See Delikatessen</td><td>Germany</td></tr>",
                            "<tr><td>BSBEV</td><td>B&#39;s Beverages</td><td>UK</td></tr>",
                            "<tr><td>CONSH</td><td>Consolidated Holdings</td><td>UK</td></tr>",
                            "</table>"
                        ]
                    }
                }
            ],
            "execution_count": 21
        },
        {
            "cell_type": "markdown",
            "source": [
                "### **18\\. Use EXISTS to Check for Record Existence**\n",
                "\n",
                "- **Use Case**: Finding employees with orders.\n",
                "- **Explanation**: EXISTS returns true if a subquery returns any rows."
            ],
            "metadata": {
                "azdata_cell_guid": "2fb66e39-fc06-4368-b06f-00eb0be66ef2"
            },
            "attachments": {}
        },
        {
            "cell_type": "markdown",
            "source": [
                "CODE:  \n",
                "\n",
                "<span style=\"color: #0000ff;\">SELECT</span> EmployeeID, FirstName, LastName\n",
                "\n",
                "<span style=\"color: #0000ff;\">FROM</span> dbo.Employees E\n",
                "\n",
                "<span style=\"color: #0000ff;\">WHERE</span> <span style=\"color: #0000ff;\">EXISTS</span> (<span style=\"color: #0000ff;\">SELECT</span> <span style=\"color: #09885a;\">1</span> <span style=\"color: #0000ff;\">FROM</span> dbo.Orders O <span style=\"color: #0000ff;\">WHERE</span> O.EmployeeID <span style=\"color: #000000;\">=</span> E.EmployeeID);"
            ],
            "metadata": {
                "azdata_cell_guid": "44a3f5a4-a33f-4b8c-bd68-621090ee7182"
            },
            "attachments": {}
        },
        {
            "cell_type": "code",
            "source": [
                "SELECT TOP 5 EmployeeID, FirstName, LastName\r\n",
                "FROM dbo.Employees E\r\n",
                "WHERE EXISTS (SELECT 1 FROM dbo.Orders O WHERE O.EmployeeID = E.EmployeeID);"
            ],
            "metadata": {
                "azdata_cell_guid": "0c4200a6-bf8f-4a08-897b-ddf7f4eaf6c6",
                "language": "sql"
            },
            "outputs": [
                {
                    "output_type": "display_data",
                    "data": {
                        "text/html": "(5 rows affected)"
                    },
                    "metadata": {}
                },
                {
                    "output_type": "display_data",
                    "data": {
                        "text/html": "Total execution time: 00:00:00.021"
                    },
                    "metadata": {}
                },
                {
                    "output_type": "execute_result",
                    "metadata": {},
                    "execution_count": 22,
                    "data": {
                        "application/vnd.dataresource+json": {
                            "schema": {
                                "fields": [
                                    {
                                        "name": "EmployeeID"
                                    },
                                    {
                                        "name": "FirstName"
                                    },
                                    {
                                        "name": "LastName"
                                    }
                                ]
                            },
                            "data": [
                                {
                                    "EmployeeID": "1",
                                    "FirstName": "Nancy",
                                    "LastName": "Davolio"
                                },
                                {
                                    "EmployeeID": "2",
                                    "FirstName": "Andrew",
                                    "LastName": "Fuller"
                                },
                                {
                                    "EmployeeID": "3",
                                    "FirstName": "Janet",
                                    "LastName": "Leverling"
                                },
                                {
                                    "EmployeeID": "4",
                                    "FirstName": "Margaret",
                                    "LastName": "Peacock"
                                },
                                {
                                    "EmployeeID": "5",
                                    "FirstName": "Steven",
                                    "LastName": "Buchanan"
                                }
                            ]
                        },
                        "text/html": [
                            "<table>",
                            "<tr><th>EmployeeID</th><th>FirstName</th><th>LastName</th></tr>",
                            "<tr><td>1</td><td>Nancy</td><td>Davolio</td></tr>",
                            "<tr><td>2</td><td>Andrew</td><td>Fuller</td></tr>",
                            "<tr><td>3</td><td>Janet</td><td>Leverling</td></tr>",
                            "<tr><td>4</td><td>Margaret</td><td>Peacock</td></tr>",
                            "<tr><td>5</td><td>Steven</td><td>Buchanan</td></tr>",
                            "</table>"
                        ]
                    }
                }
            ],
            "execution_count": 22
        },
        {
            "cell_type": "markdown",
            "source": [
                "### **19\\. Use BETWEEN for Range Queries**\n",
                "\n",
                "- **Use Case**: Finding products priced between $10 and $20.\n",
                "- **Explanation**: BETWEEN filters values within a specified range."
            ],
            "metadata": {
                "azdata_cell_guid": "70613d15-4673-4a25-97f0-981896130355"
            },
            "attachments": {}
        },
        {
            "cell_type": "markdown",
            "source": [
                "CODE:  \n",
                "\n",
                "<span style=\"color: #0000ff;\">SELECT</span> ProductName, UnitPrice\n",
                "\n",
                "<span style=\"color: #0000ff;\">FROM</span> dbo.Products\n",
                "\n",
                "<span style=\"color: #0000ff;\">WHERE</span> UnitPrice <span style=\"color: #0000ff;\">BETWEEN</span> <span style=\"color: #09885a;\">10</span> <span style=\"color: #0000ff;\">AND</span> <span style=\"color: #09885a;\">20</span>;"
            ],
            "metadata": {
                "azdata_cell_guid": "125a8e0d-519e-4903-b4b7-1884a7980f77"
            },
            "attachments": {}
        },
        {
            "cell_type": "code",
            "source": [
                "SELECT TOP 5 ProductName, UnitPrice\r\n",
                "FROM dbo.Products\r\n",
                "WHERE UnitPrice BETWEEN 10 AND 20;"
            ],
            "metadata": {
                "azdata_cell_guid": "e23b553f-ca5b-4abf-8df0-64b38bb29df5",
                "language": "sql"
            },
            "outputs": [
                {
                    "output_type": "display_data",
                    "data": {
                        "text/html": "(5 rows affected)"
                    },
                    "metadata": {}
                },
                {
                    "output_type": "display_data",
                    "data": {
                        "text/html": "Total execution time: 00:00:00.016"
                    },
                    "metadata": {}
                },
                {
                    "output_type": "execute_result",
                    "metadata": {},
                    "execution_count": 23,
                    "data": {
                        "application/vnd.dataresource+json": {
                            "schema": {
                                "fields": [
                                    {
                                        "name": "ProductName"
                                    },
                                    {
                                        "name": "UnitPrice"
                                    }
                                ]
                            },
                            "data": [
                                {
                                    "ProductName": "Chai",
                                    "UnitPrice": "18.00"
                                },
                                {
                                    "ProductName": "Chang",
                                    "UnitPrice": "19.00"
                                },
                                {
                                    "ProductName": "Aniseed Syrup",
                                    "UnitPrice": "10.00"
                                },
                                {
                                    "ProductName": "Genen Shouyu",
                                    "UnitPrice": "15.50"
                                },
                                {
                                    "ProductName": "Pavlova",
                                    "UnitPrice": "17.45"
                                }
                            ]
                        },
                        "text/html": [
                            "<table>",
                            "<tr><th>ProductName</th><th>UnitPrice</th></tr>",
                            "<tr><td>Chai</td><td>18.00</td></tr>",
                            "<tr><td>Chang</td><td>19.00</td></tr>",
                            "<tr><td>Aniseed Syrup</td><td>10.00</td></tr>",
                            "<tr><td>Genen Shouyu</td><td>15.50</td></tr>",
                            "<tr><td>Pavlova</td><td>17.45</td></tr>",
                            "</table>"
                        ]
                    }
                }
            ],
            "execution_count": 23
        },
        {
            "cell_type": "markdown",
            "source": [
                "### **20\\. Using CASE for Conditional Logic**\n",
                "\n",
                "- **Use Case**: Labeling employees based on hire date.\n",
                "- **Explanation**: CASE adds conditional logic in SELECT statements."
            ],
            "metadata": {
                "azdata_cell_guid": "6304c5b7-a3f8-4bc3-aeb2-cf6ca2e77a35"
            },
            "attachments": {}
        },
        {
            "cell_type": "markdown",
            "source": [
                "CODE:  \n",
                "\n",
                "<span style=\"color: #0000ff;\">SELECT</span> FirstName, LastName,\n",
                "\n",
                "<span style=\"color: #0000ff;\">CASE</span>\n",
                "\n",
                "  <span style=\"color: #0000ff;\">WHEN</span> HireDate <span style=\"color: #000000;\">&lt;</span> <span style=\"color: #a31515;\">'2018-01-01'</span> <span style=\"color: #0000ff;\">THEN</span> <span style=\"color: #a31515;\">'Veteran'</span>\n",
                "\n",
                "  <span style=\"color: #0000ff;\">ELSE</span> <span style=\"color: #a31515;\">'Newbie'</span>\n",
                "\n",
                "<span style=\"color: #0000ff;\">END</span> <span style=\"color: #0000ff;\">AS</span> <span style=\"color: #0000ff;\">Status</span>\n",
                "\n",
                "<span style=\"color: #0000ff;\">FROM</span> dbo.Employees;"
            ],
            "metadata": {
                "azdata_cell_guid": "04fb661b-9991-4699-8f5c-414ed8665d8a"
            },
            "attachments": {}
        },
        {
            "cell_type": "code",
            "source": [
                "SELECT TOP 5 FirstName, LastName,\r\n",
                "CASE\r\n",
                "  WHEN HireDate < '2018-01-01' THEN 'Veteran'\r\n",
                "  ELSE 'Newbie'\r\n",
                "END AS Status\r\n",
                "FROM dbo.Employees;"
            ],
            "metadata": {
                "azdata_cell_guid": "dfa7893c-8a64-428f-9d80-ad06e2fa9cb9",
                "language": "sql"
            },
            "outputs": [
                {
                    "output_type": "display_data",
                    "data": {
                        "text/html": "(5 rows affected)"
                    },
                    "metadata": {}
                },
                {
                    "output_type": "display_data",
                    "data": {
                        "text/html": "Total execution time: 00:00:00.015"
                    },
                    "metadata": {}
                },
                {
                    "output_type": "execute_result",
                    "metadata": {},
                    "execution_count": 24,
                    "data": {
                        "application/vnd.dataresource+json": {
                            "schema": {
                                "fields": [
                                    {
                                        "name": "FirstName"
                                    },
                                    {
                                        "name": "LastName"
                                    },
                                    {
                                        "name": "Status"
                                    }
                                ]
                            },
                            "data": [
                                {
                                    "FirstName": "Nancy",
                                    "LastName": "Davolio",
                                    "Status": "Veteran"
                                },
                                {
                                    "FirstName": "Andrew",
                                    "LastName": "Fuller",
                                    "Status": "Veteran"
                                },
                                {
                                    "FirstName": "Janet",
                                    "LastName": "Leverling",
                                    "Status": "Veteran"
                                },
                                {
                                    "FirstName": "Margaret",
                                    "LastName": "Peacock",
                                    "Status": "Newbie"
                                },
                                {
                                    "FirstName": "Steven",
                                    "LastName": "Buchanan",
                                    "Status": "Newbie"
                                }
                            ]
                        },
                        "text/html": [
                            "<table>",
                            "<tr><th>FirstName</th><th>LastName</th><th>Status</th></tr>",
                            "<tr><td>Nancy</td><td>Davolio</td><td>Veteran</td></tr>",
                            "<tr><td>Andrew</td><td>Fuller</td><td>Veteran</td></tr>",
                            "<tr><td>Janet</td><td>Leverling</td><td>Veteran</td></tr>",
                            "<tr><td>Margaret</td><td>Peacock</td><td>Newbie</td></tr>",
                            "<tr><td>Steven</td><td>Buchanan</td><td>Newbie</td></tr>",
                            "</table>"
                        ]
                    }
                }
            ],
            "execution_count": 24
        },
        {
            "cell_type": "markdown",
            "source": [
                "### **21\\. Use MIN and MAX for Data Range Queries**\n",
                "\n",
                "- **Use Case**: Finding the product with the highest and lowest price in each category.\n",
                "- **Explanation**: MIN and MAX are useful for finding boundary values."
            ],
            "metadata": {
                "azdata_cell_guid": "791adc00-1e38-4a53-a32b-df1fea771838"
            },
            "attachments": {}
        },
        {
            "cell_type": "markdown",
            "source": [
                "CODE:  \n",
                "\n",
                "<span style=\"color: #0000ff;\">SELECT</span> CategoryID, <span style=\"color: #795e26;\">MIN</span>(UnitPrice) <span style=\"color: #0000ff;\">AS</span> MinPrice, <span style=\"color: #795e26;\">MAX</span>(UnitPrice) <span style=\"color: #0000ff;\">AS</span> MaxPrice\n",
                "\n",
                "<span style=\"color: #0000ff;\">FROM</span> dbo.Products\n",
                "\n",
                "<span style=\"color: #0000ff;\">GROUP BY</span> CategoryID;"
            ],
            "metadata": {
                "azdata_cell_guid": "207501fe-c55e-421c-9b5e-f6dda04324f6"
            },
            "attachments": {}
        },
        {
            "cell_type": "code",
            "source": [
                "SELECT TOP 5 CategoryID, MIN(UnitPrice) AS MinPrice, MAX(UnitPrice) AS MaxPrice\r\n",
                "FROM dbo.Products\r\n",
                "GROUP BY CategoryID;"
            ],
            "metadata": {
                "azdata_cell_guid": "a669ecb8-3986-4785-9e17-3e39289ef926",
                "language": "sql"
            },
            "outputs": [
                {
                    "output_type": "display_data",
                    "data": {
                        "text/html": "(5 rows affected)"
                    },
                    "metadata": {}
                },
                {
                    "output_type": "display_data",
                    "data": {
                        "text/html": "Total execution time: 00:00:00.018"
                    },
                    "metadata": {}
                },
                {
                    "output_type": "execute_result",
                    "metadata": {},
                    "execution_count": 25,
                    "data": {
                        "application/vnd.dataresource+json": {
                            "schema": {
                                "fields": [
                                    {
                                        "name": "CategoryID"
                                    },
                                    {
                                        "name": "MinPrice"
                                    },
                                    {
                                        "name": "MaxPrice"
                                    }
                                ]
                            },
                            "data": [
                                {
                                    "CategoryID": "1",
                                    "MinPrice": "4.50",
                                    "MaxPrice": "263.50"
                                },
                                {
                                    "CategoryID": "2",
                                    "MinPrice": "10.00",
                                    "MaxPrice": "43.90"
                                },
                                {
                                    "CategoryID": "3",
                                    "MinPrice": "9.20",
                                    "MaxPrice": "81.00"
                                },
                                {
                                    "CategoryID": "4",
                                    "MinPrice": "2.50",
                                    "MaxPrice": "55.00"
                                },
                                {
                                    "CategoryID": "5",
                                    "MinPrice": "7.00",
                                    "MaxPrice": "38.00"
                                }
                            ]
                        },
                        "text/html": [
                            "<table>",
                            "<tr><th>CategoryID</th><th>MinPrice</th><th>MaxPrice</th></tr>",
                            "<tr><td>1</td><td>4.50</td><td>263.50</td></tr>",
                            "<tr><td>2</td><td>10.00</td><td>43.90</td></tr>",
                            "<tr><td>3</td><td>9.20</td><td>81.00</td></tr>",
                            "<tr><td>4</td><td>2.50</td><td>55.00</td></tr>",
                            "<tr><td>5</td><td>7.00</td><td>38.00</td></tr>",
                            "</table>"
                        ]
                    }
                }
            ],
            "execution_count": 25
        },
        {
            "cell_type": "markdown",
            "source": [
                "### **22\\. Using Window Functions: ROW\\_NUMBER()**\n",
                "\n",
                "- **Use Case**: Ranking products by price.\n",
                "- **Explanation**: Window functions operate on a set of rows."
            ],
            "metadata": {
                "azdata_cell_guid": "4ee01e76-6d2b-4f17-86a6-596ee92591bc"
            },
            "attachments": {}
        },
        {
            "cell_type": "markdown",
            "source": [
                "CODE:  \n",
                "\n",
                "<span style=\"color: #0000ff;\">SELECT</span> ProductName, UnitPrice,\n",
                "\n",
                "<span style=\"color: #795e26;\">ROW_NUMBER</span>() <span style=\"color: #0000ff;\">OVER</span> (<span style=\"color: #0000ff;\">ORDER BY</span> UnitPrice <span style=\"color: #0000ff;\">DESC</span>) <span style=\"color: #0000ff;\">AS</span> PriceRank\n",
                "\n",
                "<span style=\"color: #0000ff;\">FROM</span> dbo.Products;"
            ],
            "metadata": {
                "azdata_cell_guid": "023b8387-b208-47b1-8f8c-d4adf44dbcdf"
            },
            "attachments": {}
        },
        {
            "cell_type": "code",
            "source": [
                "SELECT TOP 5 ProductName, UnitPrice,\r\n",
                "ROW_NUMBER() OVER (ORDER BY UnitPrice DESC) AS PriceRank\r\n",
                "FROM dbo.Products;"
            ],
            "metadata": {
                "azdata_cell_guid": "84d7475f-796e-4825-95b9-e2a3dfbeb824",
                "language": "sql"
            },
            "outputs": [
                {
                    "output_type": "display_data",
                    "data": {
                        "text/html": "(5 rows affected)"
                    },
                    "metadata": {}
                },
                {
                    "output_type": "display_data",
                    "data": {
                        "text/html": "Total execution time: 00:00:00.015"
                    },
                    "metadata": {}
                },
                {
                    "output_type": "execute_result",
                    "metadata": {},
                    "execution_count": 26,
                    "data": {
                        "application/vnd.dataresource+json": {
                            "schema": {
                                "fields": [
                                    {
                                        "name": "ProductName"
                                    },
                                    {
                                        "name": "UnitPrice"
                                    },
                                    {
                                        "name": "PriceRank"
                                    }
                                ]
                            },
                            "data": [
                                {
                                    "ProductName": "Côte de Blaye",
                                    "UnitPrice": "263.50",
                                    "PriceRank": "1"
                                },
                                {
                                    "ProductName": "Thüringer Rostbratwurst",
                                    "UnitPrice": "123.79",
                                    "PriceRank": "2"
                                },
                                {
                                    "ProductName": "Mishi Kobe Niku",
                                    "UnitPrice": "97.00",
                                    "PriceRank": "3"
                                },
                                {
                                    "ProductName": "Sir Rodney's Marmalade",
                                    "UnitPrice": "81.00",
                                    "PriceRank": "4"
                                },
                                {
                                    "ProductName": "Carnarvon Tigers",
                                    "UnitPrice": "62.50",
                                    "PriceRank": "5"
                                }
                            ]
                        },
                        "text/html": [
                            "<table>",
                            "<tr><th>ProductName</th><th>UnitPrice</th><th>PriceRank</th></tr>",
                            "<tr><td>Côte de Blaye</td><td>263.50</td><td>1</td></tr>",
                            "<tr><td>Thüringer Rostbratwurst</td><td>123.79</td><td>2</td></tr>",
                            "<tr><td>Mishi Kobe Niku</td><td>97.00</td><td>3</td></tr>",
                            "<tr><td>Sir Rodney&#39;s Marmalade</td><td>81.00</td><td>4</td></tr>",
                            "<tr><td>Carnarvon Tigers</td><td>62.50</td><td>5</td></tr>",
                            "</table>"
                        ]
                    }
                }
            ],
            "execution_count": 26
        },
        {
            "cell_type": "markdown",
            "source": [
                "### **23\\. Use COUNT for Summarizing Data**\n",
                "\n",
                "### \n",
                "\n",
                "- **Use Case**: Counting the number of orders placed by each customer.\n",
                "- **Explanation**: COUNT provides the total number of rows matching the query."
            ],
            "metadata": {
                "azdata_cell_guid": "b27a54fd-8351-40c9-9573-ec31cae3faff"
            },
            "attachments": {}
        },
        {
            "cell_type": "markdown",
            "source": [
                "CODE:  \n",
                "\n",
                "<span style=\"color: #0000ff;\">SELECT</span> CustomerID, <span style=\"color: #795e26;\">COUNT</span>(OrderID) <span style=\"color: #0000ff;\">AS</span> TotalOrders\n",
                "\n",
                "<span style=\"color: #0000ff;\">FROM</span> dbo.Orders\n",
                "\n",
                "<span style=\"color: #0000ff;\">GROUP BY</span> CustomerID;"
            ],
            "metadata": {
                "azdata_cell_guid": "0f493301-9543-43e2-a884-ef30fc638bd5"
            },
            "attachments": {}
        },
        {
            "cell_type": "code",
            "source": [
                "SELECT TOP 5 CustomerID, COUNT(OrderID) AS TotalOrders\r\n",
                "FROM dbo.Orders\r\n",
                "GROUP BY CustomerID;"
            ],
            "metadata": {
                "azdata_cell_guid": "f7ff17dc-d1b6-4c35-96c3-86bec3f787a0",
                "language": "sql"
            },
            "outputs": [
                {
                    "output_type": "display_data",
                    "data": {
                        "text/html": "(5 rows affected)"
                    },
                    "metadata": {}
                },
                {
                    "output_type": "display_data",
                    "data": {
                        "text/html": "Total execution time: 00:00:00.020"
                    },
                    "metadata": {}
                },
                {
                    "output_type": "execute_result",
                    "metadata": {},
                    "execution_count": 27,
                    "data": {
                        "application/vnd.dataresource+json": {
                            "schema": {
                                "fields": [
                                    {
                                        "name": "CustomerID"
                                    },
                                    {
                                        "name": "TotalOrders"
                                    }
                                ]
                            },
                            "data": [
                                {
                                    "CustomerID": "ALFKI",
                                    "TotalOrders": "6"
                                },
                                {
                                    "CustomerID": "ANATR",
                                    "TotalOrders": "4"
                                },
                                {
                                    "CustomerID": "ANTON",
                                    "TotalOrders": "7"
                                },
                                {
                                    "CustomerID": "AROUT",
                                    "TotalOrders": "13"
                                },
                                {
                                    "CustomerID": "BERGS",
                                    "TotalOrders": "18"
                                }
                            ]
                        },
                        "text/html": [
                            "<table>",
                            "<tr><th>CustomerID</th><th>TotalOrders</th></tr>",
                            "<tr><td>ALFKI</td><td>6</td></tr>",
                            "<tr><td>ANATR</td><td>4</td></tr>",
                            "<tr><td>ANTON</td><td>7</td></tr>",
                            "<tr><td>AROUT</td><td>13</td></tr>",
                            "<tr><td>BERGS</td><td>18</td></tr>",
                            "</table>"
                        ]
                    }
                }
            ],
            "execution_count": 27
        },
        {
            "cell_type": "markdown",
            "source": [
                "### **24\\. Use NOT for Exclusion of Specific Data**\n",
                "\n",
                "- **Use Case**: Finding customers who are not located in the USA or Canada.\n",
                "- **Explanation**: NOT allows for excluding specific rows based on a condition."
            ],
            "metadata": {
                "azdata_cell_guid": "a23093e0-3a3f-418c-87f9-19170812adc9"
            },
            "attachments": {}
        },
        {
            "cell_type": "markdown",
            "source": [
                "CODE:  \n",
                "\n",
                "<span style=\"color: #0000ff;\">SELECT</span> <span style=\"color: #0000ff;\">TOP</span> <span style=\"color: #09885a;\">10</span> CustomerID, CompanyName, Country\n",
                "\n",
                "<span style=\"color: #0000ff;\">FROM</span> dbo.Customers\n",
                "\n",
                "<span style=\"color: #0000ff;\">WHERE</span> Country <span style=\"color: #0000ff;\">NOT</span> <span style=\"color: #0000ff;\">IN</span> (<span style=\"color: #a31515;\">'USA'</span>, <span style=\"color: #a31515;\">'Canada'</span>);"
            ],
            "metadata": {
                "azdata_cell_guid": "23714d09-505f-44e0-bb13-29c604fa8591"
            },
            "attachments": {}
        },
        {
            "cell_type": "code",
            "source": [
                "SELECT TOP 5 CustomerID, CompanyName, Country\r\n",
                "FROM dbo.Customers\r\n",
                "WHERE Country NOT IN ('USA', 'Canada');"
            ],
            "metadata": {
                "azdata_cell_guid": "52ce0a17-9789-47dc-b2b8-31ab6bbd5f90",
                "language": "sql"
            },
            "outputs": [
                {
                    "output_type": "display_data",
                    "data": {
                        "text/html": "(5 rows affected)"
                    },
                    "metadata": {}
                },
                {
                    "output_type": "display_data",
                    "data": {
                        "text/html": "Total execution time: 00:00:00.014"
                    },
                    "metadata": {}
                },
                {
                    "output_type": "execute_result",
                    "metadata": {},
                    "execution_count": 28,
                    "data": {
                        "application/vnd.dataresource+json": {
                            "schema": {
                                "fields": [
                                    {
                                        "name": "CustomerID"
                                    },
                                    {
                                        "name": "CompanyName"
                                    },
                                    {
                                        "name": "Country"
                                    }
                                ]
                            },
                            "data": [
                                {
                                    "CustomerID": "ALFKI",
                                    "CompanyName": "Alfreds Futterkiste",
                                    "Country": "Germany"
                                },
                                {
                                    "CustomerID": "ANATR",
                                    "CompanyName": "Ana Trujillo Emparedados y helados",
                                    "Country": "Mexico"
                                },
                                {
                                    "CustomerID": "ANTON",
                                    "CompanyName": "Antonio Moreno Taquería",
                                    "Country": "Mexico"
                                },
                                {
                                    "CustomerID": "AROUT",
                                    "CompanyName": "Around the Horn",
                                    "Country": "UK"
                                },
                                {
                                    "CustomerID": "BERGS",
                                    "CompanyName": "Berglunds snabbköp",
                                    "Country": "Sweden"
                                }
                            ]
                        },
                        "text/html": [
                            "<table>",
                            "<tr><th>CustomerID</th><th>CompanyName</th><th>Country</th></tr>",
                            "<tr><td>ALFKI</td><td>Alfreds Futterkiste</td><td>Germany</td></tr>",
                            "<tr><td>ANATR</td><td>Ana Trujillo Emparedados y helados</td><td>Mexico</td></tr>",
                            "<tr><td>ANTON</td><td>Antonio Moreno Taquería</td><td>Mexico</td></tr>",
                            "<tr><td>AROUT</td><td>Around the Horn</td><td>UK</td></tr>",
                            "<tr><td>BERGS</td><td>Berglunds snabbköp</td><td>Sweden</td></tr>",
                            "</table>"
                        ]
                    }
                }
            ],
            "execution_count": 28
        },
        {
            "cell_type": "markdown",
            "source": [
                "### **25\\. Use LIKE for Pattern Matching**\n",
                "\n",
                "- **Use Case**: Finding employees whose first name starts with \"A\".\n",
                "- **Explanation**: LIKE is used to search for patterns within text data."
            ],
            "metadata": {
                "azdata_cell_guid": "035f231f-5fb6-4b13-b9d4-36e343910261"
            },
            "attachments": {}
        },
        {
            "cell_type": "markdown",
            "source": [
                "CODE:  \n",
                "\n",
                "<span style=\"color: #0000ff;\">SELECT</span> EmployeeID, FirstName, LastName\n",
                "\n",
                "<span style=\"color: #0000ff;\">FROM</span> dbo.Employees\n",
                "\n",
                "<span style=\"color: #0000ff;\">WHERE</span> FirstName <span style=\"color: #0000ff;\">LIKE</span> <span style=\"color: #a31515;\">'A%'</span>;"
            ],
            "metadata": {
                "azdata_cell_guid": "9e1b0a1e-7bbe-45d1-afb3-db2a849dd373"
            },
            "attachments": {}
        },
        {
            "cell_type": "code",
            "source": [
                "SELECT TOP 5 EmployeeID, FirstName, LastName\r\n",
                "FROM dbo.Employees\r\n",
                "WHERE FirstName LIKE 'A%';"
            ],
            "metadata": {
                "azdata_cell_guid": "0bb6154f-77f5-401a-b489-ad6e931d26fd",
                "language": "sql"
            },
            "outputs": [
                {
                    "output_type": "display_data",
                    "data": {
                        "text/html": "(2 rows affected)"
                    },
                    "metadata": {}
                },
                {
                    "output_type": "display_data",
                    "data": {
                        "text/html": "Total execution time: 00:00:00.014"
                    },
                    "metadata": {}
                },
                {
                    "output_type": "execute_result",
                    "metadata": {},
                    "execution_count": 29,
                    "data": {
                        "application/vnd.dataresource+json": {
                            "schema": {
                                "fields": [
                                    {
                                        "name": "EmployeeID"
                                    },
                                    {
                                        "name": "FirstName"
                                    },
                                    {
                                        "name": "LastName"
                                    }
                                ]
                            },
                            "data": [
                                {
                                    "EmployeeID": "2",
                                    "FirstName": "Andrew",
                                    "LastName": "Fuller"
                                },
                                {
                                    "EmployeeID": "9",
                                    "FirstName": "Anne",
                                    "LastName": "Dodsworth"
                                }
                            ]
                        },
                        "text/html": [
                            "<table>",
                            "<tr><th>EmployeeID</th><th>FirstName</th><th>LastName</th></tr>",
                            "<tr><td>2</td><td>Andrew</td><td>Fuller</td></tr>",
                            "<tr><td>9</td><td>Anne</td><td>Dodsworth</td></tr>",
                            "</table>"
                        ]
                    }
                }
            ],
            "execution_count": 29
        }
    ]
}